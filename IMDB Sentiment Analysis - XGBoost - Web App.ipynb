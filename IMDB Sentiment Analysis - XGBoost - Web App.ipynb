{
 "cells": [
  {
   "cell_type": "markdown",
   "metadata": {},
   "source": [
    "# Sentiment Analysis Web App\n",
    "\n",
    "_Deep Learning Nanodegree Program | Deployment_\n",
    "\n",
    "---\n",
    "\n",
    "In this notebook we will use Amazon's SageMaker service to construct a random tree model to predict the sentiment of a movie review. In addition, we will deploy this model to an endpoint and construct a very simple web app which will interact with our model's deployed endpoint.\n",
    "\n",
    "## General Outline\n",
    "\n",
    "Typically, when using a notebook instance with SageMaker, you will proceed through the following steps. Of course, not every step will need to be done with each project. Also, there is quite a lot of room for variation in many of the steps, as you will see throughout these lessons.\n",
    "\n",
    "1. Download or otherwise retrieve the data.\n",
    "2. Process / Prepare the data.\n",
    "3. Upload the processed data to S3.\n",
    "4. Train a chosen model.\n",
    "5. Test the trained model (typically using a batch transform job).\n",
    "6. Deploy the trained model.\n",
    "7. Use the deployed model.\n",
    "\n",
    "In this notebook we will progress through each of the steps above. We will also see that the final step, using the deployed model, can be quite challenging."
   ]
  },
  {
   "cell_type": "code",
   "execution_count": 1,
   "metadata": {},
   "outputs": [
    {
     "name": "stdout",
     "output_type": "stream",
     "text": [
      "Collecting sagemaker==1.72.0\n",
      "  Downloading sagemaker-1.72.0.tar.gz (297 kB)\n",
      "\u001b[K     |████████████████████████████████| 297 kB 28.9 MB/s eta 0:00:01\n",
      "\u001b[?25hRequirement already satisfied: boto3>=1.14.12 in /home/ec2-user/anaconda3/envs/pytorch_p36/lib/python3.6/site-packages (from sagemaker==1.72.0) (1.16.19)\n",
      "Requirement already satisfied: numpy>=1.9.0 in /home/ec2-user/anaconda3/envs/pytorch_p36/lib/python3.6/site-packages (from sagemaker==1.72.0) (1.18.1)\n",
      "Requirement already satisfied: protobuf>=3.1 in /home/ec2-user/anaconda3/envs/pytorch_p36/lib/python3.6/site-packages (from sagemaker==1.72.0) (3.11.4)\n",
      "Requirement already satisfied: scipy>=0.19.0 in /home/ec2-user/anaconda3/envs/pytorch_p36/lib/python3.6/site-packages (from sagemaker==1.72.0) (1.4.1)\n",
      "Requirement already satisfied: protobuf3-to-dict>=0.1.5 in /home/ec2-user/anaconda3/envs/pytorch_p36/lib/python3.6/site-packages (from sagemaker==1.72.0) (0.1.5)\n",
      "Collecting smdebug-rulesconfig==0.1.4\n",
      "  Downloading smdebug_rulesconfig-0.1.4-py2.py3-none-any.whl (10 kB)\n",
      "Requirement already satisfied: importlib-metadata>=1.4.0 in /home/ec2-user/anaconda3/envs/pytorch_p36/lib/python3.6/site-packages (from sagemaker==1.72.0) (2.0.0)\n",
      "Requirement already satisfied: packaging>=20.0 in /home/ec2-user/anaconda3/envs/pytorch_p36/lib/python3.6/site-packages (from sagemaker==1.72.0) (20.1)\n",
      "Requirement already satisfied: s3transfer<0.4.0,>=0.3.0 in /home/ec2-user/anaconda3/envs/pytorch_p36/lib/python3.6/site-packages (from boto3>=1.14.12->sagemaker==1.72.0) (0.3.3)\n",
      "Requirement already satisfied: botocore<1.20.0,>=1.19.19 in /home/ec2-user/anaconda3/envs/pytorch_p36/lib/python3.6/site-packages (from boto3>=1.14.12->sagemaker==1.72.0) (1.19.19)\n",
      "Requirement already satisfied: jmespath<1.0.0,>=0.7.1 in /home/ec2-user/anaconda3/envs/pytorch_p36/lib/python3.6/site-packages (from boto3>=1.14.12->sagemaker==1.72.0) (0.10.0)\n",
      "Requirement already satisfied: six>=1.9 in /home/ec2-user/anaconda3/envs/pytorch_p36/lib/python3.6/site-packages (from protobuf>=3.1->sagemaker==1.72.0) (1.14.0)\n",
      "Requirement already satisfied: setuptools in /home/ec2-user/anaconda3/envs/pytorch_p36/lib/python3.6/site-packages (from protobuf>=3.1->sagemaker==1.72.0) (45.2.0.post20200210)\n",
      "Requirement already satisfied: zipp>=0.5 in /home/ec2-user/anaconda3/envs/pytorch_p36/lib/python3.6/site-packages (from importlib-metadata>=1.4.0->sagemaker==1.72.0) (2.2.0)\n",
      "Requirement already satisfied: pyparsing>=2.0.2 in /home/ec2-user/anaconda3/envs/pytorch_p36/lib/python3.6/site-packages (from packaging>=20.0->sagemaker==1.72.0) (2.4.6)\n",
      "Requirement already satisfied: python-dateutil<3.0.0,>=2.1 in /home/ec2-user/anaconda3/envs/pytorch_p36/lib/python3.6/site-packages (from botocore<1.20.0,>=1.19.19->boto3>=1.14.12->sagemaker==1.72.0) (2.8.1)\n",
      "Requirement already satisfied: urllib3<1.27,>=1.25.4 in /home/ec2-user/anaconda3/envs/pytorch_p36/lib/python3.6/site-packages (from botocore<1.20.0,>=1.19.19->boto3>=1.14.12->sagemaker==1.72.0) (1.25.10)\n",
      "Building wheels for collected packages: sagemaker\n",
      "  Building wheel for sagemaker (setup.py) ... \u001b[?25ldone\n",
      "\u001b[?25h  Created wheel for sagemaker: filename=sagemaker-1.72.0-py2.py3-none-any.whl size=386358 sha256=78d5b3dcd4bab110416cc28ccce9d1ea90f850640af98fedd054542c4bc73574\n",
      "  Stored in directory: /home/ec2-user/.cache/pip/wheels/c3/58/70/85faf4437568bfaa4c419937569ba1fe54d44c5db42406bbd7\n",
      "Successfully built sagemaker\n",
      "Installing collected packages: smdebug-rulesconfig, sagemaker\n",
      "  Attempting uninstall: smdebug-rulesconfig\n",
      "    Found existing installation: smdebug-rulesconfig 0.1.5\n",
      "    Uninstalling smdebug-rulesconfig-0.1.5:\n",
      "      Successfully uninstalled smdebug-rulesconfig-0.1.5\n",
      "  Attempting uninstall: sagemaker\n",
      "    Found existing installation: sagemaker 2.16.4.dev0\n",
      "    Uninstalling sagemaker-2.16.4.dev0:\n",
      "      Successfully uninstalled sagemaker-2.16.4.dev0\n",
      "Successfully installed sagemaker-1.72.0 smdebug-rulesconfig-0.1.4\n",
      "\u001b[33mWARNING: You are using pip version 20.0.2; however, version 20.3.1 is available.\n",
      "You should consider upgrading via the '/home/ec2-user/anaconda3/envs/pytorch_p36/bin/python -m pip install --upgrade pip' command.\u001b[0m\n"
     ]
    }
   ],
   "source": [
    "# Make sure that we use SageMaker 1.x\n",
    "!pip install sagemaker==1.72.0"
   ]
  },
  {
   "cell_type": "markdown",
   "metadata": {},
   "source": [
    "## Step 1: Downloading the data\n",
    "\n",
    "The dataset we are going to use is very popular among researchers in Natural Language Processing, usually referred to as the [IMDb dataset](http://ai.stanford.edu/~amaas/data/sentiment/). It consists of movie reviews from the website [imdb.com](http://www.imdb.com/), each labeled as either '**pos**itive', if the reviewer enjoyed the film, or '**neg**ative' otherwise.\n",
    "\n",
    "> Maas, Andrew L., et al. [Learning Word Vectors for Sentiment Analysis](http://ai.stanford.edu/~amaas/data/sentiment/). In _Proceedings of the 49th Annual Meeting of the Association for Computational Linguistics: Human Language Technologies_. Association for Computational Linguistics, 2011.\n",
    "\n",
    "We begin by using some Jupyter Notebook magic to download and extract the dataset."
   ]
  },
  {
   "cell_type": "code",
   "execution_count": 1,
   "metadata": {},
   "outputs": [
    {
     "name": "stdout",
     "output_type": "stream",
     "text": [
      "mkdir: cannot create directory ‘../data’: File exists\n",
      "--2020-12-09 02:40:14--  http://ai.stanford.edu/~amaas/data/sentiment/aclImdb_v1.tar.gz\n",
      "Resolving ai.stanford.edu (ai.stanford.edu)... 171.64.68.10\n",
      "Connecting to ai.stanford.edu (ai.stanford.edu)|171.64.68.10|:80... connected.\n",
      "HTTP request sent, awaiting response... 200 OK\n",
      "Length: 84125825 (80M) [application/x-gzip]\n",
      "Saving to: ‘../data/aclImdb_v1.tar.gz’\n",
      "\n",
      "../data/aclImdb_v1. 100%[===================>]  80.23M  8.36MB/s    in 12s     \n",
      "\n",
      "2020-12-09 02:40:26 (6.69 MB/s) - ‘../data/aclImdb_v1.tar.gz’ saved [84125825/84125825]\n",
      "\n"
     ]
    }
   ],
   "source": [
    "%mkdir ../data\n",
    "!wget -O ../data/aclImdb_v1.tar.gz http://ai.stanford.edu/~amaas/data/sentiment/aclImdb_v1.tar.gz\n",
    "!tar -zxf ../data/aclImdb_v1.tar.gz -C ../data"
   ]
  },
  {
   "cell_type": "markdown",
   "metadata": {},
   "source": [
    "## Step 2: Preparing and Processing the data\n",
    "\n",
    "The data we have downloaded is split into various files, each of which contains a single review. It will be much easier going forward if we combine these individual files into two large files, one for training and one for testing."
   ]
  },
  {
   "cell_type": "code",
   "execution_count": 2,
   "metadata": {},
   "outputs": [],
   "source": [
    "import os\n",
    "import glob\n",
    "\n",
    "def read_imdb_data(data_dir='../data/aclImdb'):\n",
    "    data = {}\n",
    "    labels = {}\n",
    "    \n",
    "    for data_type in ['train', 'test']:\n",
    "        data[data_type] = {}\n",
    "        labels[data_type] = {}\n",
    "        \n",
    "        for sentiment in ['pos', 'neg']:\n",
    "            data[data_type][sentiment] = []\n",
    "            labels[data_type][sentiment] = []\n",
    "            \n",
    "            path = os.path.join(data_dir, data_type, sentiment, '*.txt')\n",
    "            files = glob.glob(path)\n",
    "            \n",
    "            for f in files:\n",
    "                with open(f) as review:\n",
    "                    data[data_type][sentiment].append(review.read())\n",
    "                    # Here we represent a positive review by '1' and a negative review by '0'\n",
    "                    labels[data_type][sentiment].append(1 if sentiment == 'pos' else 0)\n",
    "                    \n",
    "            assert len(data[data_type][sentiment]) == len(labels[data_type][sentiment]), \\\n",
    "                    \"{}/{} data size does not match labels size\".format(data_type, sentiment)\n",
    "                \n",
    "    return data, labels"
   ]
  },
  {
   "cell_type": "code",
   "execution_count": 3,
   "metadata": {},
   "outputs": [
    {
     "name": "stdout",
     "output_type": "stream",
     "text": [
      "IMDB reviews: train = 12500 pos / 12500 neg, test = 12500 pos / 12500 neg\n"
     ]
    }
   ],
   "source": [
    "data, labels = read_imdb_data()\n",
    "print(\"IMDB reviews: train = {} pos / {} neg, test = {} pos / {} neg\".format(\n",
    "            len(data['train']['pos']), len(data['train']['neg']),\n",
    "            len(data['test']['pos']), len(data['test']['neg'])))"
   ]
  },
  {
   "cell_type": "code",
   "execution_count": 4,
   "metadata": {},
   "outputs": [],
   "source": [
    "from sklearn.utils import shuffle\n",
    "\n",
    "def prepare_imdb_data(data, labels):\n",
    "    \"\"\"Prepare training and test sets from IMDb movie reviews.\"\"\"\n",
    "    \n",
    "    #Combine positive and negative reviews and labels\n",
    "    data_train = data['train']['pos'] + data['train']['neg']\n",
    "    data_test = data['test']['pos'] + data['test']['neg']\n",
    "    labels_train = labels['train']['pos'] + labels['train']['neg']\n",
    "    labels_test = labels['test']['pos'] + labels['test']['neg']\n",
    "    \n",
    "    #Shuffle reviews and corresponding labels within training and test sets\n",
    "    data_train, labels_train = shuffle(data_train, labels_train)\n",
    "    data_test, labels_test = shuffle(data_test, labels_test)\n",
    "    \n",
    "    # Return a unified training data, test data, training labels, test labets\n",
    "    return data_train, data_test, labels_train, labels_test"
   ]
  },
  {
   "cell_type": "code",
   "execution_count": 5,
   "metadata": {},
   "outputs": [
    {
     "name": "stdout",
     "output_type": "stream",
     "text": [
      "IMDb reviews (combined): train = 25000, test = 25000\n"
     ]
    }
   ],
   "source": [
    "train_X, test_X, train_y, test_y = prepare_imdb_data(data, labels)\n",
    "print(\"IMDb reviews (combined): train = {}, test = {}\".format(len(train_X), len(test_X)))"
   ]
  },
  {
   "cell_type": "code",
   "execution_count": 6,
   "metadata": {},
   "outputs": [
    {
     "data": {
      "text/plain": [
       "'Notice that all those that did not like and enjoy this film commented that it was not as good as the book or that it differed from the book.<br /><br />I don\\'t understand this type of criticism. Books and films are different media. While books have hours and hours to develop characters and story lines, films have about 120 minutes. Yet the film has the advantage of stimulating several senses: visual, audio, as well as the imagination. I don\\'t care if a film is as good as or, in fact, has any resemblance to the book on which it is based. Who cares? I judge it for what it is.<br /><br />This TV movie was charming. An old and oft-seen story, prone to cliché, it could easily have been embarrassing. However, Riffen and Reeves pull it off. One reviewer found Riffen far to old. I would never have guessed she was 40 when she made this film. It is to her credit as an actress that she played a 23-24 year old amazingly well. I also think it is about the best thing Reeves ever did. The story could have been stronger, and I agree the screen play could have used \"tightening.\" Nonetheless, it is well worth watching; clearly not a powerful love story, but rather, a charming romance which will leave you satisfied that love is a strong emotion and good overcomes evil. And it is nice to see a \"love story\" without the obligatory f#$% word, the naked buttocks, or hours of spit-swapping kissing.<br /><br />Lastly, the musical score is excellent.'"
      ]
     },
     "execution_count": 6,
     "metadata": {},
     "output_type": "execute_result"
    }
   ],
   "source": [
    "train_X[100]"
   ]
  },
  {
   "cell_type": "markdown",
   "metadata": {},
   "source": [
    "## Processing the data\n",
    "\n",
    "Now that we have our training and testing datasets merged and ready to use, we need to start processing the raw data into something that will be useable by our machine learning algorithm. To begin with, we remove any html formatting and any non-alpha numeric characters that may appear in the reviews. We will do this in a very simplistic way using Python's regular expression module. We will discuss the reason for this rather simplistic pre-processing later on."
   ]
  },
  {
   "cell_type": "code",
   "execution_count": 7,
   "metadata": {},
   "outputs": [],
   "source": [
    "import re\n",
    "\n",
    "REPLACE_NO_SPACE = re.compile(\"(\\.)|(\\;)|(\\:)|(\\!)|(\\')|(\\?)|(\\,)|(\\\")|(\\()|(\\))|(\\[)|(\\])\")\n",
    "REPLACE_WITH_SPACE = re.compile(\"(<br\\s*/><br\\s*/>)|(\\-)|(\\/)\")\n",
    "\n",
    "def review_to_words(review):\n",
    "    words = REPLACE_NO_SPACE.sub(\"\", review.lower())\n",
    "    words = REPLACE_WITH_SPACE.sub(\" \", words)\n",
    "    return words"
   ]
  },
  {
   "cell_type": "code",
   "execution_count": 8,
   "metadata": {},
   "outputs": [
    {
     "data": {
      "text/plain": [
       "'notice that all those that did not like and enjoy this film commented that it was not as good as the book or that it differed from the book i dont understand this type of criticism books and films are different media while books have hours and hours to develop characters and story lines films have about 120 minutes yet the film has the advantage of stimulating several senses visual audio as well as the imagination i dont care if a film is as good as or in fact has any resemblance to the book on which it is based who cares i judge it for what it is this tv movie was charming an old and oft seen story prone to cliché it could easily have been embarrassing however riffen and reeves pull it off one reviewer found riffen far to old i would never have guessed she was 40 when she made this film it is to her credit as an actress that she played a 23 24 year old amazingly well i also think it is about the best thing reeves ever did the story could have been stronger and i agree the screen play could have used tightening nonetheless it is well worth watching clearly not a powerful love story but rather a charming romance which will leave you satisfied that love is a strong emotion and good overcomes evil and it is nice to see a love story without the obligatory f#$% word the naked buttocks or hours of spit swapping kissing lastly the musical score is excellent'"
      ]
     },
     "execution_count": 8,
     "metadata": {},
     "output_type": "execute_result"
    }
   ],
   "source": [
    "review_to_words(train_X[100])"
   ]
  },
  {
   "cell_type": "code",
   "execution_count": 9,
   "metadata": {},
   "outputs": [],
   "source": [
    "import pickle\n",
    "\n",
    "cache_dir = os.path.join(\"../cache\", \"sentiment_web_app\")  # where to store cache files\n",
    "os.makedirs(cache_dir, exist_ok=True)  # ensure cache directory exists\n",
    "\n",
    "def preprocess_data(data_train, data_test, labels_train, labels_test,\n",
    "                    cache_dir=cache_dir, cache_file=\"preprocessed_data.pkl\"):\n",
    "    \"\"\"Convert each review to words; read from cache if available.\"\"\"\n",
    "\n",
    "    # If cache_file is not None, try to read from it first\n",
    "    cache_data = None\n",
    "    if cache_file is not None:\n",
    "        try:\n",
    "            with open(os.path.join(cache_dir, cache_file), \"rb\") as f:\n",
    "                cache_data = pickle.load(f)\n",
    "            print(\"Read preprocessed data from cache file:\", cache_file)\n",
    "        except:\n",
    "            pass  # unable to read from cache, but that's okay\n",
    "    \n",
    "    # If cache is missing, then do the heavy lifting\n",
    "    if cache_data is None:\n",
    "        # Preprocess training and test data to obtain words for each review\n",
    "        #words_train = list(map(review_to_words, data_train))\n",
    "        #words_test = list(map(review_to_words, data_test))\n",
    "        words_train = [review_to_words(review) for review in data_train]\n",
    "        words_test = [review_to_words(review) for review in data_test]\n",
    "        \n",
    "        # Write to cache file for future runs\n",
    "        if cache_file is not None:\n",
    "            cache_data = dict(words_train=words_train, words_test=words_test,\n",
    "                              labels_train=labels_train, labels_test=labels_test)\n",
    "            with open(os.path.join(cache_dir, cache_file), \"wb\") as f:\n",
    "                pickle.dump(cache_data, f)\n",
    "            print(\"Wrote preprocessed data to cache file:\", cache_file)\n",
    "    else:\n",
    "        # Unpack data loaded from cache file\n",
    "        words_train, words_test, labels_train, labels_test = (cache_data['words_train'],\n",
    "                cache_data['words_test'], cache_data['labels_train'], cache_data['labels_test'])\n",
    "    \n",
    "    return words_train, words_test, labels_train, labels_test"
   ]
  },
  {
   "cell_type": "code",
   "execution_count": 10,
   "metadata": {},
   "outputs": [
    {
     "name": "stdout",
     "output_type": "stream",
     "text": [
      "Wrote preprocessed data to cache file: preprocessed_data.pkl\n"
     ]
    }
   ],
   "source": [
    "# Preprocess data\n",
    "train_X, test_X, train_y, test_y = preprocess_data(train_X, test_X, train_y, test_y)"
   ]
  },
  {
   "cell_type": "markdown",
   "metadata": {},
   "source": [
    "### Extract Bag-of-Words features\n",
    "\n",
    "For the model we will be implementing, rather than using the reviews directly, we are going to transform each review into a Bag-of-Words feature representation. Keep in mind that 'in the wild' we will only have access to the training set so our transformer can only use the training set to construct a representation."
   ]
  },
  {
   "cell_type": "code",
   "execution_count": 11,
   "metadata": {},
   "outputs": [],
   "source": [
    "import numpy as np\n",
    "from sklearn.feature_extraction.text import CountVectorizer\n",
    "\n",
    "# sklearn.externals.joblib is deprecated in 0.21 and will be removed in 0.23. \n",
    "# from sklearn.externals import joblib\n",
    "\n",
    "# Import joblib package directly\n",
    "import joblib\n",
    "# joblib is an enhanced version of pickle that is more efficient for storing NumPy arrays\n",
    "\n",
    "def extract_BoW_features(words_train, words_test, vocabulary_size=5000,\n",
    "                         cache_dir=cache_dir, cache_file=\"bow_features.pkl\"):\n",
    "    \"\"\"Extract Bag-of-Words for a given set of documents, already preprocessed into words.\"\"\"\n",
    "    \n",
    "    # If cache_file is not None, try to read from it first\n",
    "    cache_data = None\n",
    "    if cache_file is not None:\n",
    "        try:\n",
    "            with open(os.path.join(cache_dir, cache_file), \"rb\") as f:\n",
    "                cache_data = joblib.load(f)\n",
    "            print(\"Read features from cache file:\", cache_file)\n",
    "        except:\n",
    "            pass  # unable to read from cache, but that's okay\n",
    "    \n",
    "    # If cache is missing, then do the heavy lifting\n",
    "    if cache_data is None:\n",
    "        # Fit a vectorizer to training documents and use it to transform them\n",
    "        # NOTE: Training documents have already been preprocessed and tokenized into words;\n",
    "        #       pass in dummy functions to skip those steps, e.g. preprocessor=lambda x: x\n",
    "        vectorizer = CountVectorizer(max_features=vocabulary_size)\n",
    "        features_train = vectorizer.fit_transform(words_train).toarray()\n",
    "\n",
    "        # Apply the same vectorizer to transform the test documents (ignore unknown words)\n",
    "        features_test = vectorizer.transform(words_test).toarray()\n",
    "        \n",
    "        # NOTE: Remember to convert the features using .toarray() for a compact representation\n",
    "        \n",
    "        # Write to cache file for future runs (store vocabulary as well)\n",
    "        if cache_file is not None:\n",
    "            vocabulary = vectorizer.vocabulary_\n",
    "            cache_data = dict(features_train=features_train, features_test=features_test,\n",
    "                             vocabulary=vocabulary)\n",
    "            with open(os.path.join(cache_dir, cache_file), \"wb\") as f:\n",
    "                joblib.dump(cache_data, f)\n",
    "            print(\"Wrote features to cache file:\", cache_file)\n",
    "    else:\n",
    "        # Unpack data loaded from cache file\n",
    "        features_train, features_test, vocabulary = (cache_data['features_train'],\n",
    "                cache_data['features_test'], cache_data['vocabulary'])\n",
    "    \n",
    "    # Return both the extracted features as well as the vocabulary\n",
    "    return features_train, features_test, vocabulary"
   ]
  },
  {
   "cell_type": "code",
   "execution_count": 12,
   "metadata": {},
   "outputs": [
    {
     "name": "stdout",
     "output_type": "stream",
     "text": [
      "Wrote features to cache file: bow_features.pkl\n"
     ]
    }
   ],
   "source": [
    "# Extract Bag of Words features for both training and test datasets\n",
    "train_X, test_X, vocabulary = extract_BoW_features(train_X, test_X)"
   ]
  },
  {
   "cell_type": "code",
   "execution_count": 13,
   "metadata": {},
   "outputs": [
    {
     "data": {
      "text/plain": [
       "5000"
      ]
     },
     "execution_count": 13,
     "metadata": {},
     "output_type": "execute_result"
    }
   ],
   "source": [
    "len(train_X[100])"
   ]
  },
  {
   "cell_type": "markdown",
   "metadata": {},
   "source": [
    "## Step 3: Upload data to S3\n",
    "\n",
    "Now that we have created the feature representation of our training (and testing) data, it is time to start setting up and using the XGBoost classifier provided by SageMaker.\n",
    "\n",
    "### Writing the datasets\n",
    "\n",
    "The XGBoost classifier that we will be using requires the dataset to be written to a file and stored using Amazon S3. To do this, we will start by splitting the training dataset into two parts, the data we will train the model with and a validation set. Then, we will write those datasets to a file locally and then upload the files to S3. In addition, we will write the test set to a file and upload that file to S3. This is so that we can use SageMakers Batch Transform functionality to test our model once we've fit it."
   ]
  },
  {
   "cell_type": "code",
   "execution_count": 14,
   "metadata": {},
   "outputs": [],
   "source": [
    "import pandas as pd\n",
    "\n",
    "# Earlier we shuffled the training dataset so to make things simple we can just assign\n",
    "# the first 10 000 reviews to the validation set and use the remaining reviews for training.\n",
    "val_X = pd.DataFrame(train_X[:10000])\n",
    "train_X = pd.DataFrame(train_X[10000:])\n",
    "\n",
    "val_y = pd.DataFrame(train_y[:10000])\n",
    "train_y = pd.DataFrame(train_y[10000:])"
   ]
  },
  {
   "cell_type": "markdown",
   "metadata": {},
   "source": [
    "The documentation for the XGBoost algorithm in SageMaker requires that the training and validation datasets should contain no headers or index and that the label should occur first for each sample.\n",
    "\n",
    "For more information about this and other algorithms, the SageMaker developer documentation can be found on __[Amazon's website.](https://docs.aws.amazon.com/sagemaker/latest/dg/)__"
   ]
  },
  {
   "cell_type": "code",
   "execution_count": 15,
   "metadata": {},
   "outputs": [],
   "source": [
    "# First we make sure that the local directory in which we'd like to store the training and validation csv files exists.\n",
    "data_dir = '../data/sentiment_web_app'\n",
    "if not os.path.exists(data_dir):\n",
    "    os.makedirs(data_dir)"
   ]
  },
  {
   "cell_type": "code",
   "execution_count": 16,
   "metadata": {},
   "outputs": [],
   "source": [
    "pd.DataFrame(test_X).to_csv(os.path.join(data_dir, 'test.csv'), header=False, index=False)\n",
    "\n",
    "pd.concat([val_y, val_X], axis=1).to_csv(os.path.join(data_dir, 'validation.csv'), header=False, index=False)\n",
    "pd.concat([train_y, train_X], axis=1).to_csv(os.path.join(data_dir, 'train.csv'), header=False, index=False)"
   ]
  },
  {
   "cell_type": "code",
   "execution_count": 17,
   "metadata": {},
   "outputs": [],
   "source": [
    "# To save a bit of memory we can set text_X, train_X, val_X, train_y and val_y to None.\n",
    "\n",
    "test_X = train_X = val_X = train_y = val_y = None"
   ]
  },
  {
   "cell_type": "markdown",
   "metadata": {},
   "source": [
    "### Uploading Training / Validation files to S3\n",
    "\n",
    "Amazon's S3 service allows us to store files that can be accessed by both the built-in training models such as the XGBoost model we will be using as well as custom models such as the one we will see a little later.\n",
    "\n",
    "For this and most other tasks we will be doing using SageMaker, there are two methods we could use. The first is to use the low level functionality of SageMaker which requires knowing each of the objects involved in the SageMaker environment. The second is to use the high level functionality in which certain choices have been made on the user's behalf. The low level approach benefits from allowing the user a great deal of flexibility while the high level approach makes development much quicker. For our purposes we will opt to use the high level approach although using the low-level approach is certainly an option.\n",
    "\n",
    "Recall the method `upload_data()` which is a member of the object representing our current SageMaker session. What this method does is upload the data to the default bucket (which is created if it does not exist) into the path described by the key_prefix variable. To see this for yourself, once you have uploaded the data files, go to the S3 console and look to see where the files have been uploaded.\n",
    "\n",
    "For additional resources, see the __[SageMaker API documentation](http://sagemaker.readthedocs.io/en/latest/)__ and in addition the __[SageMaker Developer Guide.](https://docs.aws.amazon.com/sagemaker/latest/dg/)__"
   ]
  },
  {
   "cell_type": "code",
   "execution_count": 18,
   "metadata": {},
   "outputs": [],
   "source": [
    "import sagemaker\n",
    "\n",
    "session = sagemaker.Session() # Store the current SageMaker session\n",
    "\n",
    "# S3 prefix (which folder will we use)\n",
    "prefix = 'sentiment-web-app'\n",
    "\n",
    "test_location = session.upload_data(os.path.join(data_dir, 'test.csv'), key_prefix=prefix)\n",
    "val_location = session.upload_data(os.path.join(data_dir, 'validation.csv'), key_prefix=prefix)\n",
    "train_location = session.upload_data(os.path.join(data_dir, 'train.csv'), key_prefix=prefix)"
   ]
  },
  {
   "cell_type": "markdown",
   "metadata": {},
   "source": [
    "## Step 4: Creating the XGBoost model\n",
    "\n",
    "Now that the data has been uploaded it is time to create the XGBoost model. To begin with, we need to do some setup. At this point it is worth discussing what a model is in SageMaker. It is easiest to think of a model of comprising three different objects in the SageMaker ecosystem, which interact with one another.\n",
    "\n",
    "- Model Artifacts\n",
    "- Training Code (Container)\n",
    "- Inference Code (Container)\n",
    "\n",
    "The Model Artifacts are what you might think of as the actual model itself. For example, if you were building a neural network, the model artifacts would be the weights of the various layers. In our case, for an XGBoost model, the artifacts are the actual trees that are created during training.\n",
    "\n",
    "The other two objects, the training code and the inference code are then used to manipulate the training artifacts. More precisely, the training code uses the training data that is provided and creates the model artifacts, while the inference code uses the model artifacts to make predictions on new data.\n",
    "\n",
    "The way that SageMaker runs the training and inference code is by making use of Docker containers. For now, think of a container as being a way of packaging code up so that dependencies aren't an issue."
   ]
  },
  {
   "cell_type": "code",
   "execution_count": 19,
   "metadata": {},
   "outputs": [],
   "source": [
    "from sagemaker import get_execution_role\n",
    "\n",
    "# Our current execution role is required when creating the model as the training\n",
    "# and inference code will need to access the model artifacts.\n",
    "role = get_execution_role()"
   ]
  },
  {
   "cell_type": "code",
   "execution_count": 20,
   "metadata": {},
   "outputs": [
    {
     "name": "stderr",
     "output_type": "stream",
     "text": [
      "'get_image_uri' method will be deprecated in favor of 'ImageURIProvider' class in SageMaker Python SDK v2.\n",
      "There is a more up to date SageMaker XGBoost image. To use the newer image, please set 'repo_version'='1.0-1'. For example:\n",
      "\tget_image_uri(region, 'xgboost', '1.0-1').\n"
     ]
    }
   ],
   "source": [
    "# We need to retrieve the location of the container which is provided by Amazon for using XGBoost.\n",
    "# As a matter of convenience, the training and inference code both use the same container.\n",
    "from sagemaker.amazon.amazon_estimator import get_image_uri\n",
    "\n",
    "container = get_image_uri(session.boto_region_name, 'xgboost')"
   ]
  },
  {
   "cell_type": "code",
   "execution_count": 21,
   "metadata": {},
   "outputs": [
    {
     "name": "stderr",
     "output_type": "stream",
     "text": [
      "Parameter image_name will be renamed to image_uri in SageMaker Python SDK v2.\n"
     ]
    }
   ],
   "source": [
    "# First we create a SageMaker estimator object for our model.\n",
    "xgb = sagemaker.estimator.Estimator(container, # The location of the container we wish to use\n",
    "                                    role,                                    # What is our current IAM Role\n",
    "                                    train_instance_count=1,                  # How many compute instances\n",
    "                                    train_instance_type='ml.m4.xlarge',      # What kind of compute instances\n",
    "                                    output_path='s3://{}/{}/output'.format(session.default_bucket(), prefix),\n",
    "                                    sagemaker_session=session)\n",
    "\n",
    "# And then set the algorithm specific parameters.\n",
    "xgb.set_hyperparameters(max_depth=5,\n",
    "                        eta=0.2,\n",
    "                        gamma=4,\n",
    "                        min_child_weight=6,\n",
    "                        subsample=0.8,\n",
    "                        silent=0,\n",
    "                        objective='binary:logistic',\n",
    "                        early_stopping_rounds=10,\n",
    "                        num_round=500)"
   ]
  },
  {
   "cell_type": "markdown",
   "metadata": {},
   "source": [
    "### Fit the XGBoost model\n",
    "\n",
    "Now that our model has been set up we simply need to attach the training and validation datasets and then ask SageMaker to set up the computation."
   ]
  },
  {
   "cell_type": "code",
   "execution_count": 22,
   "metadata": {},
   "outputs": [
    {
     "name": "stderr",
     "output_type": "stream",
     "text": [
      "'s3_input' class will be renamed to 'TrainingInput' in SageMaker Python SDK v2.\n",
      "'s3_input' class will be renamed to 'TrainingInput' in SageMaker Python SDK v2.\n"
     ]
    }
   ],
   "source": [
    "s3_input_train = sagemaker.s3_input(s3_data=train_location, content_type='csv')\n",
    "s3_input_validation = sagemaker.s3_input(s3_data=val_location, content_type='csv')"
   ]
  },
  {
   "cell_type": "code",
   "execution_count": 23,
   "metadata": {},
   "outputs": [
    {
     "name": "stdout",
     "output_type": "stream",
     "text": [
      "2020-12-09 02:43:46 Starting - Starting the training job...\n",
      "2020-12-09 02:43:48 Starting - Launching requested ML instances......\n",
      "2020-12-09 02:45:00 Starting - Preparing the instances for training......\n",
      "2020-12-09 02:46:14 Downloading - Downloading input data\n",
      "2020-12-09 02:46:14 Training - Downloading the training image...\n",
      "2020-12-09 02:46:34 Training - Training image download completed. Training in progress.\u001b[34mArguments: train\u001b[0m\n",
      "\u001b[34m[2020-12-09:02:46:34:INFO] Running standalone xgboost training.\u001b[0m\n",
      "\u001b[34m[2020-12-09:02:46:34:INFO] File size need to be processed in the node: 238.5mb. Available memory size in the node: 8442.43mb\u001b[0m\n",
      "\u001b[34m[2020-12-09:02:46:34:INFO] Determined delimiter of CSV input is ','\u001b[0m\n",
      "\u001b[34m[02:46:34] S3DistributionType set as FullyReplicated\u001b[0m\n",
      "\u001b[34m[02:46:36] 15000x5000 matrix with 75000000 entries loaded from /opt/ml/input/data/train?format=csv&label_column=0&delimiter=,\u001b[0m\n",
      "\u001b[34m[2020-12-09:02:46:36:INFO] Determined delimiter of CSV input is ','\u001b[0m\n",
      "\u001b[34m[02:46:36] S3DistributionType set as FullyReplicated\u001b[0m\n",
      "\u001b[34m[02:46:38] 10000x5000 matrix with 50000000 entries loaded from /opt/ml/input/data/validation?format=csv&label_column=0&delimiter=,\u001b[0m\n",
      "\u001b[34m[02:46:41] src/tree/updater_prune.cc:74: tree pruning end, 1 roots, 42 extra nodes, 8 pruned nodes, max_depth=5\u001b[0m\n",
      "\u001b[34m[0]#011train-error:0.308667#011validation-error:0.3066\u001b[0m\n",
      "\u001b[34mMultiple eval metrics have been passed: 'validation-error' will be used for early stopping.\n",
      "\u001b[0m\n",
      "\u001b[34mWill train until validation-error hasn't improved in 10 rounds.\u001b[0m\n",
      "\u001b[34m[02:46:43] src/tree/updater_prune.cc:74: tree pruning end, 1 roots, 44 extra nodes, 6 pruned nodes, max_depth=5\u001b[0m\n",
      "\u001b[34m[1]#011train-error:0.2954#011validation-error:0.2925\u001b[0m\n",
      "\u001b[34m[02:46:44] src/tree/updater_prune.cc:74: tree pruning end, 1 roots, 38 extra nodes, 2 pruned nodes, max_depth=5\u001b[0m\n",
      "\u001b[34m[2]#011train-error:0.278467#011validation-error:0.2777\u001b[0m\n",
      "\u001b[34m[02:46:46] src/tree/updater_prune.cc:74: tree pruning end, 1 roots, 36 extra nodes, 2 pruned nodes, max_depth=5\u001b[0m\n",
      "\u001b[34m[3]#011train-error:0.268133#011validation-error:0.269\u001b[0m\n",
      "\u001b[34m[02:46:47] src/tree/updater_prune.cc:74: tree pruning end, 1 roots, 46 extra nodes, 2 pruned nodes, max_depth=5\u001b[0m\n",
      "\u001b[34m[4]#011train-error:0.272667#011validation-error:0.2754\u001b[0m\n",
      "\u001b[34m[02:46:48] src/tree/updater_prune.cc:74: tree pruning end, 1 roots, 30 extra nodes, 4 pruned nodes, max_depth=5\u001b[0m\n",
      "\u001b[34m[5]#011train-error:0.261267#011validation-error:0.2656\u001b[0m\n",
      "\u001b[34m[02:46:50] src/tree/updater_prune.cc:74: tree pruning end, 1 roots, 44 extra nodes, 4 pruned nodes, max_depth=5\u001b[0m\n",
      "\u001b[34m[6]#011train-error:0.2452#011validation-error:0.2559\u001b[0m\n",
      "\u001b[34m[02:46:51] src/tree/updater_prune.cc:74: tree pruning end, 1 roots, 28 extra nodes, 16 pruned nodes, max_depth=5\u001b[0m\n",
      "\u001b[34m[7]#011train-error:0.239067#011validation-error:0.2479\u001b[0m\n",
      "\u001b[34m[02:46:52] src/tree/updater_prune.cc:74: tree pruning end, 1 roots, 16 extra nodes, 12 pruned nodes, max_depth=5\u001b[0m\n",
      "\u001b[34m[8]#011train-error:0.235267#011validation-error:0.2417\u001b[0m\n",
      "\u001b[34m[02:46:53] src/tree/updater_prune.cc:74: tree pruning end, 1 roots, 34 extra nodes, 8 pruned nodes, max_depth=5\u001b[0m\n",
      "\u001b[34m[9]#011train-error:0.2312#011validation-error:0.2428\u001b[0m\n",
      "\u001b[34m[02:46:55] src/tree/updater_prune.cc:74: tree pruning end, 1 roots, 26 extra nodes, 6 pruned nodes, max_depth=5\u001b[0m\n",
      "\u001b[34m[10]#011train-error:0.2278#011validation-error:0.2387\u001b[0m\n",
      "\u001b[34m[02:46:56] src/tree/updater_prune.cc:74: tree pruning end, 1 roots, 30 extra nodes, 8 pruned nodes, max_depth=5\u001b[0m\n",
      "\u001b[34m[11]#011train-error:0.219333#011validation-error:0.2341\u001b[0m\n",
      "\u001b[34m[02:46:57] src/tree/updater_prune.cc:74: tree pruning end, 1 roots, 36 extra nodes, 2 pruned nodes, max_depth=5\u001b[0m\n",
      "\u001b[34m[12]#011train-error:0.2146#011validation-error:0.2269\u001b[0m\n",
      "\u001b[34m[02:46:59] src/tree/updater_prune.cc:74: tree pruning end, 1 roots, 34 extra nodes, 16 pruned nodes, max_depth=5\u001b[0m\n",
      "\u001b[34m[13]#011train-error:0.2104#011validation-error:0.2261\u001b[0m\n",
      "\u001b[34m[02:47:00] src/tree/updater_prune.cc:74: tree pruning end, 1 roots, 36 extra nodes, 8 pruned nodes, max_depth=5\u001b[0m\n",
      "\u001b[34m[14]#011train-error:0.2058#011validation-error:0.2215\u001b[0m\n",
      "\u001b[34m[02:47:01] src/tree/updater_prune.cc:74: tree pruning end, 1 roots, 46 extra nodes, 6 pruned nodes, max_depth=5\u001b[0m\n",
      "\u001b[34m[15]#011train-error:0.1976#011validation-error:0.2181\u001b[0m\n",
      "\u001b[34m[02:47:02] src/tree/updater_prune.cc:74: tree pruning end, 1 roots, 18 extra nodes, 8 pruned nodes, max_depth=5\u001b[0m\n",
      "\u001b[34m[16]#011train-error:0.194467#011validation-error:0.2157\u001b[0m\n",
      "\u001b[34m[02:47:04] src/tree/updater_prune.cc:74: tree pruning end, 1 roots, 32 extra nodes, 12 pruned nodes, max_depth=5\u001b[0m\n",
      "\u001b[34m[17]#011train-error:0.1932#011validation-error:0.2126\u001b[0m\n",
      "\u001b[34m[02:47:05] src/tree/updater_prune.cc:74: tree pruning end, 1 roots, 40 extra nodes, 6 pruned nodes, max_depth=5\u001b[0m\n",
      "\u001b[34m[18]#011train-error:0.192333#011validation-error:0.2115\u001b[0m\n",
      "\u001b[34m[02:47:06] src/tree/updater_prune.cc:74: tree pruning end, 1 roots, 28 extra nodes, 10 pruned nodes, max_depth=5\u001b[0m\n",
      "\u001b[34m[19]#011train-error:0.189933#011validation-error:0.2093\u001b[0m\n",
      "\u001b[34m[02:47:08] src/tree/updater_prune.cc:74: tree pruning end, 1 roots, 36 extra nodes, 6 pruned nodes, max_depth=5\u001b[0m\n",
      "\u001b[34m[20]#011train-error:0.1866#011validation-error:0.2062\u001b[0m\n",
      "\u001b[34m[02:47:09] src/tree/updater_prune.cc:74: tree pruning end, 1 roots, 24 extra nodes, 8 pruned nodes, max_depth=5\u001b[0m\n",
      "\u001b[34m[21]#011train-error:0.185467#011validation-error:0.2046\u001b[0m\n",
      "\u001b[34m[02:47:10] src/tree/updater_prune.cc:74: tree pruning end, 1 roots, 30 extra nodes, 6 pruned nodes, max_depth=5\u001b[0m\n",
      "\u001b[34m[22]#011train-error:0.182067#011validation-error:0.2035\u001b[0m\n",
      "\u001b[34m[02:47:11] src/tree/updater_prune.cc:74: tree pruning end, 1 roots, 28 extra nodes, 8 pruned nodes, max_depth=5\u001b[0m\n",
      "\u001b[34m[23]#011train-error:0.181333#011validation-error:0.2034\u001b[0m\n",
      "\u001b[34m[02:47:13] src/tree/updater_prune.cc:74: tree pruning end, 1 roots, 36 extra nodes, 8 pruned nodes, max_depth=5\u001b[0m\n",
      "\u001b[34m[24]#011train-error:0.177467#011validation-error:0.1993\u001b[0m\n",
      "\u001b[34m[02:47:14] src/tree/updater_prune.cc:74: tree pruning end, 1 roots, 28 extra nodes, 12 pruned nodes, max_depth=5\u001b[0m\n",
      "\u001b[34m[25]#011train-error:0.177067#011validation-error:0.1993\u001b[0m\n",
      "\u001b[34m[02:47:15] src/tree/updater_prune.cc:74: tree pruning end, 1 roots, 18 extra nodes, 6 pruned nodes, max_depth=5\u001b[0m\n",
      "\u001b[34m[26]#011train-error:0.1762#011validation-error:0.1974\u001b[0m\n",
      "\u001b[34m[02:47:17] src/tree/updater_prune.cc:74: tree pruning end, 1 roots, 18 extra nodes, 12 pruned nodes, max_depth=5\u001b[0m\n",
      "\u001b[34m[27]#011train-error:0.1748#011validation-error:0.1964\u001b[0m\n",
      "\u001b[34m[02:47:18] src/tree/updater_prune.cc:74: tree pruning end, 1 roots, 22 extra nodes, 8 pruned nodes, max_depth=5\u001b[0m\n",
      "\u001b[34m[28]#011train-error:0.171067#011validation-error:0.1951\u001b[0m\n",
      "\u001b[34m[02:47:19] src/tree/updater_prune.cc:74: tree pruning end, 1 roots, 18 extra nodes, 14 pruned nodes, max_depth=5\u001b[0m\n",
      "\u001b[34m[29]#011train-error:0.170267#011validation-error:0.1946\u001b[0m\n",
      "\u001b[34m[02:47:21] src/tree/updater_prune.cc:74: tree pruning end, 1 roots, 26 extra nodes, 6 pruned nodes, max_depth=5\u001b[0m\n",
      "\u001b[34m[30]#011train-error:0.1682#011validation-error:0.1929\u001b[0m\n",
      "\u001b[34m[02:47:22] src/tree/updater_prune.cc:74: tree pruning end, 1 roots, 18 extra nodes, 8 pruned nodes, max_depth=5\u001b[0m\n",
      "\u001b[34m[31]#011train-error:0.1678#011validation-error:0.1895\u001b[0m\n",
      "\u001b[34m[02:47:23] src/tree/updater_prune.cc:74: tree pruning end, 1 roots, 26 extra nodes, 10 pruned nodes, max_depth=5\u001b[0m\n",
      "\u001b[34m[32]#011train-error:0.1662#011validation-error:0.1885\u001b[0m\n",
      "\u001b[34m[02:47:24] src/tree/updater_prune.cc:74: tree pruning end, 1 roots, 36 extra nodes, 4 pruned nodes, max_depth=5\u001b[0m\n",
      "\u001b[34m[33]#011train-error:0.165133#011validation-error:0.1869\u001b[0m\n",
      "\u001b[34m[02:47:26] src/tree/updater_prune.cc:74: tree pruning end, 1 roots, 38 extra nodes, 12 pruned nodes, max_depth=5\u001b[0m\n",
      "\u001b[34m[34]#011train-error:0.162467#011validation-error:0.1855\u001b[0m\n",
      "\u001b[34m[02:47:27] src/tree/updater_prune.cc:74: tree pruning end, 1 roots, 38 extra nodes, 6 pruned nodes, max_depth=5\u001b[0m\n",
      "\u001b[34m[35]#011train-error:0.159867#011validation-error:0.1826\u001b[0m\n",
      "\u001b[34m[02:47:28] src/tree/updater_prune.cc:74: tree pruning end, 1 roots, 30 extra nodes, 4 pruned nodes, max_depth=5\u001b[0m\n",
      "\u001b[34m[36]#011train-error:0.1584#011validation-error:0.1826\u001b[0m\n",
      "\u001b[34m[02:47:29] src/tree/updater_prune.cc:74: tree pruning end, 1 roots, 22 extra nodes, 12 pruned nodes, max_depth=5\u001b[0m\n",
      "\u001b[34m[37]#011train-error:0.156867#011validation-error:0.1813\u001b[0m\n",
      "\u001b[34m[02:47:31] src/tree/updater_prune.cc:74: tree pruning end, 1 roots, 16 extra nodes, 8 pruned nodes, max_depth=5\u001b[0m\n",
      "\u001b[34m[38]#011train-error:0.156#011validation-error:0.1808\u001b[0m\n",
      "\u001b[34m[02:47:32] src/tree/updater_prune.cc:74: tree pruning end, 1 roots, 28 extra nodes, 6 pruned nodes, max_depth=5\u001b[0m\n",
      "\u001b[34m[39]#011train-error:0.153467#011validation-error:0.179\u001b[0m\n"
     ]
    },
    {
     "name": "stdout",
     "output_type": "stream",
     "text": [
      "\u001b[34m[02:47:33] src/tree/updater_prune.cc:74: tree pruning end, 1 roots, 20 extra nodes, 8 pruned nodes, max_depth=5\u001b[0m\n",
      "\u001b[34m[40]#011train-error:0.1522#011validation-error:0.179\u001b[0m\n",
      "\u001b[34m[02:47:35] src/tree/updater_prune.cc:74: tree pruning end, 1 roots, 20 extra nodes, 16 pruned nodes, max_depth=5\u001b[0m\n",
      "\u001b[34m[41]#011train-error:0.151733#011validation-error:0.1775\u001b[0m\n",
      "\u001b[34m[02:47:36] src/tree/updater_prune.cc:74: tree pruning end, 1 roots, 22 extra nodes, 12 pruned nodes, max_depth=5\u001b[0m\n",
      "\u001b[34m[42]#011train-error:0.1504#011validation-error:0.1762\u001b[0m\n",
      "\u001b[34m[02:47:37] src/tree/updater_prune.cc:74: tree pruning end, 1 roots, 16 extra nodes, 16 pruned nodes, max_depth=5\u001b[0m\n",
      "\u001b[34m[43]#011train-error:0.1492#011validation-error:0.1756\u001b[0m\n",
      "\u001b[34m[02:47:38] src/tree/updater_prune.cc:74: tree pruning end, 1 roots, 16 extra nodes, 8 pruned nodes, max_depth=5\u001b[0m\n",
      "\u001b[34m[44]#011train-error:0.1484#011validation-error:0.1751\u001b[0m\n",
      "\u001b[34m[02:47:40] src/tree/updater_prune.cc:74: tree pruning end, 1 roots, 36 extra nodes, 2 pruned nodes, max_depth=5\u001b[0m\n",
      "\u001b[34m[45]#011train-error:0.1464#011validation-error:0.1711\u001b[0m\n",
      "\u001b[34m[02:47:41] src/tree/updater_prune.cc:74: tree pruning end, 1 roots, 34 extra nodes, 8 pruned nodes, max_depth=5\u001b[0m\n",
      "\u001b[34m[46]#011train-error:0.144133#011validation-error:0.1701\u001b[0m\n",
      "\u001b[34m[02:47:42] src/tree/updater_prune.cc:74: tree pruning end, 1 roots, 34 extra nodes, 2 pruned nodes, max_depth=5\u001b[0m\n",
      "\u001b[34m[47]#011train-error:0.142467#011validation-error:0.1716\u001b[0m\n",
      "\u001b[34m[02:47:44] src/tree/updater_prune.cc:74: tree pruning end, 1 roots, 20 extra nodes, 14 pruned nodes, max_depth=5\u001b[0m\n",
      "\u001b[34m[48]#011train-error:0.141933#011validation-error:0.1713\u001b[0m\n",
      "\u001b[34m[02:47:45] src/tree/updater_prune.cc:74: tree pruning end, 1 roots, 28 extra nodes, 8 pruned nodes, max_depth=5\u001b[0m\n",
      "\u001b[34m[49]#011train-error:0.140067#011validation-error:0.1707\u001b[0m\n",
      "\u001b[34m[02:47:46] src/tree/updater_prune.cc:74: tree pruning end, 1 roots, 24 extra nodes, 0 pruned nodes, max_depth=5\u001b[0m\n",
      "\u001b[34m[50]#011train-error:0.140667#011validation-error:0.1702\u001b[0m\n",
      "\u001b[34m[02:47:47] src/tree/updater_prune.cc:74: tree pruning end, 1 roots, 18 extra nodes, 8 pruned nodes, max_depth=5\u001b[0m\n",
      "\u001b[34m[51]#011train-error:0.140133#011validation-error:0.17\u001b[0m\n",
      "\u001b[34m[02:47:49] src/tree/updater_prune.cc:74: tree pruning end, 1 roots, 20 extra nodes, 6 pruned nodes, max_depth=5\u001b[0m\n",
      "\u001b[34m[52]#011train-error:0.138667#011validation-error:0.1697\u001b[0m\n",
      "\u001b[34m[02:47:50] src/tree/updater_prune.cc:74: tree pruning end, 1 roots, 26 extra nodes, 6 pruned nodes, max_depth=5\u001b[0m\n",
      "\u001b[34m[53]#011train-error:0.138#011validation-error:0.1687\u001b[0m\n",
      "\u001b[34m[02:47:51] src/tree/updater_prune.cc:74: tree pruning end, 1 roots, 30 extra nodes, 6 pruned nodes, max_depth=5\u001b[0m\n",
      "\u001b[34m[54]#011train-error:0.136733#011validation-error:0.1679\u001b[0m\n",
      "\u001b[34m[02:47:53] src/tree/updater_prune.cc:74: tree pruning end, 1 roots, 16 extra nodes, 6 pruned nodes, max_depth=5\u001b[0m\n",
      "\u001b[34m[55]#011train-error:0.135333#011validation-error:0.1677\u001b[0m\n",
      "\u001b[34m[02:47:54] src/tree/updater_prune.cc:74: tree pruning end, 1 roots, 26 extra nodes, 6 pruned nodes, max_depth=5\u001b[0m\n",
      "\u001b[34m[56]#011train-error:0.134533#011validation-error:0.1667\u001b[0m\n",
      "\u001b[34m[02:47:55] src/tree/updater_prune.cc:74: tree pruning end, 1 roots, 20 extra nodes, 8 pruned nodes, max_depth=5\u001b[0m\n",
      "\u001b[34m[57]#011train-error:0.133533#011validation-error:0.1654\u001b[0m\n",
      "\u001b[34m[02:47:56] src/tree/updater_prune.cc:74: tree pruning end, 1 roots, 26 extra nodes, 6 pruned nodes, max_depth=5\u001b[0m\n",
      "\u001b[34m[58]#011train-error:0.132067#011validation-error:0.1649\u001b[0m\n",
      "\u001b[34m[02:47:58] src/tree/updater_prune.cc:74: tree pruning end, 1 roots, 16 extra nodes, 4 pruned nodes, max_depth=5\u001b[0m\n",
      "\u001b[34m[59]#011train-error:0.131267#011validation-error:0.1645\u001b[0m\n",
      "\u001b[34m[02:47:59] src/tree/updater_prune.cc:74: tree pruning end, 1 roots, 18 extra nodes, 6 pruned nodes, max_depth=5\u001b[0m\n",
      "\u001b[34m[60]#011train-error:0.130333#011validation-error:0.1643\u001b[0m\n",
      "\u001b[34m[02:48:00] src/tree/updater_prune.cc:74: tree pruning end, 1 roots, 12 extra nodes, 14 pruned nodes, max_depth=5\u001b[0m\n",
      "\u001b[34m[61]#011train-error:0.1296#011validation-error:0.1641\u001b[0m\n",
      "\u001b[34m[02:48:02] src/tree/updater_prune.cc:74: tree pruning end, 1 roots, 22 extra nodes, 14 pruned nodes, max_depth=5\u001b[0m\n",
      "\u001b[34m[62]#011train-error:0.129#011validation-error:0.1634\u001b[0m\n",
      "\u001b[34m[02:48:03] src/tree/updater_prune.cc:74: tree pruning end, 1 roots, 14 extra nodes, 8 pruned nodes, max_depth=5\u001b[0m\n",
      "\u001b[34m[63]#011train-error:0.127533#011validation-error:0.1624\u001b[0m\n",
      "\u001b[34m[02:48:04] src/tree/updater_prune.cc:74: tree pruning end, 1 roots, 12 extra nodes, 6 pruned nodes, max_depth=5\u001b[0m\n",
      "\u001b[34m[64]#011train-error:0.1274#011validation-error:0.1623\u001b[0m\n",
      "\u001b[34m[02:48:06] src/tree/updater_prune.cc:74: tree pruning end, 1 roots, 28 extra nodes, 4 pruned nodes, max_depth=5\u001b[0m\n",
      "\u001b[34m[65]#011train-error:0.126333#011validation-error:0.1625\u001b[0m\n",
      "\u001b[34m[02:48:07] src/tree/updater_prune.cc:74: tree pruning end, 1 roots, 20 extra nodes, 8 pruned nodes, max_depth=5\u001b[0m\n",
      "\u001b[34m[66]#011train-error:0.1248#011validation-error:0.1611\u001b[0m\n",
      "\u001b[34m[02:48:08] src/tree/updater_prune.cc:74: tree pruning end, 1 roots, 14 extra nodes, 8 pruned nodes, max_depth=5\u001b[0m\n",
      "\u001b[34m[67]#011train-error:0.125#011validation-error:0.1611\u001b[0m\n",
      "\u001b[34m[02:48:09] src/tree/updater_prune.cc:74: tree pruning end, 1 roots, 24 extra nodes, 6 pruned nodes, max_depth=5\u001b[0m\n",
      "\u001b[34m[68]#011train-error:0.122533#011validation-error:0.1616\u001b[0m\n",
      "\u001b[34m[02:48:11] src/tree/updater_prune.cc:74: tree pruning end, 1 roots, 32 extra nodes, 6 pruned nodes, max_depth=5\u001b[0m\n",
      "\u001b[34m[69]#011train-error:0.121867#011validation-error:0.1616\u001b[0m\n",
      "\u001b[34m[02:48:12] src/tree/updater_prune.cc:74: tree pruning end, 1 roots, 22 extra nodes, 10 pruned nodes, max_depth=5\u001b[0m\n",
      "\u001b[34m[70]#011train-error:0.121667#011validation-error:0.16\u001b[0m\n",
      "\u001b[34m[02:48:13] src/tree/updater_prune.cc:74: tree pruning end, 1 roots, 20 extra nodes, 8 pruned nodes, max_depth=5\u001b[0m\n",
      "\u001b[34m[71]#011train-error:0.1208#011validation-error:0.1604\u001b[0m\n",
      "\u001b[34m[02:48:15] src/tree/updater_prune.cc:74: tree pruning end, 1 roots, 12 extra nodes, 8 pruned nodes, max_depth=5\u001b[0m\n",
      "\u001b[34m[72]#011train-error:0.1204#011validation-error:0.1601\u001b[0m\n",
      "\u001b[34m[02:48:16] src/tree/updater_prune.cc:74: tree pruning end, 1 roots, 22 extra nodes, 6 pruned nodes, max_depth=5\u001b[0m\n",
      "\u001b[34m[73]#011train-error:0.119533#011validation-error:0.1589\u001b[0m\n",
      "\u001b[34m[02:48:17] src/tree/updater_prune.cc:74: tree pruning end, 1 roots, 20 extra nodes, 8 pruned nodes, max_depth=5\u001b[0m\n",
      "\u001b[34m[74]#011train-error:0.119#011validation-error:0.1581\u001b[0m\n",
      "\u001b[34m[02:48:18] src/tree/updater_prune.cc:74: tree pruning end, 1 roots, 24 extra nodes, 8 pruned nodes, max_depth=5\u001b[0m\n",
      "\u001b[34m[75]#011train-error:0.119067#011validation-error:0.1577\u001b[0m\n",
      "\u001b[34m[02:48:20] src/tree/updater_prune.cc:74: tree pruning end, 1 roots, 16 extra nodes, 6 pruned nodes, max_depth=5\u001b[0m\n",
      "\u001b[34m[76]#011train-error:0.118067#011validation-error:0.1589\u001b[0m\n",
      "\u001b[34m[02:48:21] src/tree/updater_prune.cc:74: tree pruning end, 1 roots, 18 extra nodes, 14 pruned nodes, max_depth=5\u001b[0m\n",
      "\u001b[34m[77]#011train-error:0.116867#011validation-error:0.1583\u001b[0m\n",
      "\u001b[34m[02:48:22] src/tree/updater_prune.cc:74: tree pruning end, 1 roots, 24 extra nodes, 6 pruned nodes, max_depth=5\u001b[0m\n",
      "\u001b[34m[78]#011train-error:0.115467#011validation-error:0.1569\u001b[0m\n",
      "\u001b[34m[02:48:24] src/tree/updater_prune.cc:74: tree pruning end, 1 roots, 20 extra nodes, 6 pruned nodes, max_depth=5\u001b[0m\n",
      "\u001b[34m[79]#011train-error:0.1144#011validation-error:0.1564\u001b[0m\n",
      "\u001b[34m[02:48:25] src/tree/updater_prune.cc:74: tree pruning end, 1 roots, 10 extra nodes, 2 pruned nodes, max_depth=5\u001b[0m\n",
      "\u001b[34m[80]#011train-error:0.114067#011validation-error:0.1561\u001b[0m\n",
      "\u001b[34m[02:48:26] src/tree/updater_prune.cc:74: tree pruning end, 1 roots, 26 extra nodes, 12 pruned nodes, max_depth=5\u001b[0m\n",
      "\u001b[34m[81]#011train-error:0.113933#011validation-error:0.156\u001b[0m\n",
      "\u001b[34m[02:48:28] src/tree/updater_prune.cc:74: tree pruning end, 1 roots, 16 extra nodes, 8 pruned nodes, max_depth=5\u001b[0m\n",
      "\u001b[34m[82]#011train-error:0.113133#011validation-error:0.1564\u001b[0m\n",
      "\u001b[34m[02:48:29] src/tree/updater_prune.cc:74: tree pruning end, 1 roots, 14 extra nodes, 12 pruned nodes, max_depth=5\u001b[0m\n",
      "\u001b[34m[83]#011train-error:0.112467#011validation-error:0.1565\u001b[0m\n",
      "\u001b[34m[02:48:30] src/tree/updater_prune.cc:74: tree pruning end, 1 roots, 18 extra nodes, 10 pruned nodes, max_depth=5\u001b[0m\n",
      "\u001b[34m[84]#011train-error:0.1118#011validation-error:0.1554\u001b[0m\n",
      "\u001b[34m[02:48:31] src/tree/updater_prune.cc:74: tree pruning end, 1 roots, 14 extra nodes, 6 pruned nodes, max_depth=5\u001b[0m\n",
      "\u001b[34m[85]#011train-error:0.111267#011validation-error:0.1555\u001b[0m\n",
      "\u001b[34m[02:48:33] src/tree/updater_prune.cc:74: tree pruning end, 1 roots, 16 extra nodes, 4 pruned nodes, max_depth=5\u001b[0m\n",
      "\u001b[34m[86]#011train-error:0.111067#011validation-error:0.1556\u001b[0m\n",
      "\u001b[34m[02:48:34] src/tree/updater_prune.cc:74: tree pruning end, 1 roots, 14 extra nodes, 12 pruned nodes, max_depth=5\u001b[0m\n",
      "\u001b[34m[87]#011train-error:0.111133#011validation-error:0.1556\u001b[0m\n",
      "\u001b[34m[02:48:35] src/tree/updater_prune.cc:74: tree pruning end, 1 roots, 20 extra nodes, 2 pruned nodes, max_depth=5\u001b[0m\n",
      "\u001b[34m[88]#011train-error:0.110467#011validation-error:0.1559\u001b[0m\n",
      "\u001b[34m[02:48:37] src/tree/updater_prune.cc:74: tree pruning end, 1 roots, 24 extra nodes, 10 pruned nodes, max_depth=5\u001b[0m\n",
      "\u001b[34m[89]#011train-error:0.109933#011validation-error:0.1547\u001b[0m\n",
      "\u001b[34m[02:48:38] src/tree/updater_prune.cc:74: tree pruning end, 1 roots, 18 extra nodes, 2 pruned nodes, max_depth=5\u001b[0m\n",
      "\u001b[34m[90]#011train-error:0.108533#011validation-error:0.1545\u001b[0m\n",
      "\u001b[34m[02:48:39] src/tree/updater_prune.cc:74: tree pruning end, 1 roots, 12 extra nodes, 12 pruned nodes, max_depth=5\u001b[0m\n",
      "\u001b[34m[91]#011train-error:0.107933#011validation-error:0.1538\u001b[0m\n"
     ]
    },
    {
     "name": "stdout",
     "output_type": "stream",
     "text": [
      "\u001b[34m[02:48:41] src/tree/updater_prune.cc:74: tree pruning end, 1 roots, 22 extra nodes, 4 pruned nodes, max_depth=5\u001b[0m\n",
      "\u001b[34m[92]#011train-error:0.108467#011validation-error:0.1529\u001b[0m\n",
      "\u001b[34m[02:48:42] src/tree/updater_prune.cc:74: tree pruning end, 1 roots, 14 extra nodes, 8 pruned nodes, max_depth=5\u001b[0m\n",
      "\u001b[34m[93]#011train-error:0.108267#011validation-error:0.1531\u001b[0m\n",
      "\u001b[34m[02:48:43] src/tree/updater_prune.cc:74: tree pruning end, 1 roots, 18 extra nodes, 6 pruned nodes, max_depth=5\u001b[0m\n",
      "\u001b[34m[94]#011train-error:0.1084#011validation-error:0.1525\u001b[0m\n",
      "\u001b[34m[02:48:44] src/tree/updater_prune.cc:74: tree pruning end, 1 roots, 16 extra nodes, 8 pruned nodes, max_depth=5\u001b[0m\n",
      "\u001b[34m[95]#011train-error:0.108067#011validation-error:0.1525\u001b[0m\n",
      "\u001b[34m[02:48:46] src/tree/updater_prune.cc:74: tree pruning end, 1 roots, 14 extra nodes, 18 pruned nodes, max_depth=5\u001b[0m\n",
      "\u001b[34m[96]#011train-error:0.1084#011validation-error:0.1518\u001b[0m\n",
      "\u001b[34m[02:48:47] src/tree/updater_prune.cc:74: tree pruning end, 1 roots, 18 extra nodes, 4 pruned nodes, max_depth=5\u001b[0m\n",
      "\u001b[34m[97]#011train-error:0.107867#011validation-error:0.1509\u001b[0m\n",
      "\u001b[34m[02:48:48] src/tree/updater_prune.cc:74: tree pruning end, 1 roots, 18 extra nodes, 10 pruned nodes, max_depth=5\u001b[0m\n",
      "\u001b[34m[98]#011train-error:0.107333#011validation-error:0.1514\u001b[0m\n",
      "\u001b[34m[02:48:50] src/tree/updater_prune.cc:74: tree pruning end, 1 roots, 22 extra nodes, 12 pruned nodes, max_depth=5\u001b[0m\n",
      "\u001b[34m[99]#011train-error:0.1062#011validation-error:0.1513\u001b[0m\n",
      "\u001b[34m[02:48:51] src/tree/updater_prune.cc:74: tree pruning end, 1 roots, 16 extra nodes, 10 pruned nodes, max_depth=5\u001b[0m\n",
      "\u001b[34m[100]#011train-error:0.1062#011validation-error:0.1501\u001b[0m\n",
      "\u001b[34m[02:48:52] src/tree/updater_prune.cc:74: tree pruning end, 1 roots, 20 extra nodes, 6 pruned nodes, max_depth=5\u001b[0m\n",
      "\u001b[34m[101]#011train-error:0.1052#011validation-error:0.1492\u001b[0m\n",
      "\u001b[34m[02:48:54] src/tree/updater_prune.cc:74: tree pruning end, 1 roots, 18 extra nodes, 4 pruned nodes, max_depth=5\u001b[0m\n",
      "\u001b[34m[102]#011train-error:0.1042#011validation-error:0.1497\u001b[0m\n",
      "\u001b[34m[02:48:55] src/tree/updater_prune.cc:74: tree pruning end, 1 roots, 12 extra nodes, 12 pruned nodes, max_depth=5\u001b[0m\n",
      "\u001b[34m[103]#011train-error:0.102333#011validation-error:0.1497\u001b[0m\n",
      "\u001b[34m[02:48:56] src/tree/updater_prune.cc:74: tree pruning end, 1 roots, 12 extra nodes, 12 pruned nodes, max_depth=5\u001b[0m\n",
      "\u001b[34m[104]#011train-error:0.101467#011validation-error:0.149\u001b[0m\n",
      "\u001b[34m[02:48:57] src/tree/updater_prune.cc:74: tree pruning end, 1 roots, 14 extra nodes, 12 pruned nodes, max_depth=5\u001b[0m\n",
      "\u001b[34m[105]#011train-error:0.101467#011validation-error:0.1487\u001b[0m\n",
      "\u001b[34m[02:48:59] src/tree/updater_prune.cc:74: tree pruning end, 1 roots, 22 extra nodes, 12 pruned nodes, max_depth=5\u001b[0m\n",
      "\u001b[34m[106]#011train-error:0.100867#011validation-error:0.1492\u001b[0m\n",
      "\u001b[34m[02:49:00] src/tree/updater_prune.cc:74: tree pruning end, 1 roots, 18 extra nodes, 8 pruned nodes, max_depth=5\u001b[0m\n",
      "\u001b[34m[107]#011train-error:0.100467#011validation-error:0.1492\u001b[0m\n",
      "\u001b[34m[02:49:01] src/tree/updater_prune.cc:74: tree pruning end, 1 roots, 24 extra nodes, 10 pruned nodes, max_depth=5\u001b[0m\n",
      "\u001b[34m[108]#011train-error:0.0998#011validation-error:0.1486\u001b[0m\n",
      "\u001b[34m[02:49:03] src/tree/updater_prune.cc:74: tree pruning end, 1 roots, 24 extra nodes, 10 pruned nodes, max_depth=5\u001b[0m\n",
      "\u001b[34m[109]#011train-error:0.099733#011validation-error:0.1474\u001b[0m\n",
      "\u001b[34m[02:49:04] src/tree/updater_prune.cc:74: tree pruning end, 1 roots, 26 extra nodes, 6 pruned nodes, max_depth=5\u001b[0m\n",
      "\u001b[34m[110]#011train-error:0.099133#011validation-error:0.1474\u001b[0m\n",
      "\u001b[34m[02:49:05] src/tree/updater_prune.cc:74: tree pruning end, 1 roots, 16 extra nodes, 8 pruned nodes, max_depth=5\u001b[0m\n",
      "\u001b[34m[111]#011train-error:0.098733#011validation-error:0.147\u001b[0m\n",
      "\u001b[34m[02:49:07] src/tree/updater_prune.cc:74: tree pruning end, 1 roots, 12 extra nodes, 4 pruned nodes, max_depth=5\u001b[0m\n",
      "\u001b[34m[112]#011train-error:0.098733#011validation-error:0.1472\u001b[0m\n",
      "\u001b[34m[02:49:08] src/tree/updater_prune.cc:74: tree pruning end, 1 roots, 16 extra nodes, 12 pruned nodes, max_depth=5\u001b[0m\n",
      "\u001b[34m[113]#011train-error:0.0986#011validation-error:0.1463\u001b[0m\n",
      "\u001b[34m[02:49:09] src/tree/updater_prune.cc:74: tree pruning end, 1 roots, 18 extra nodes, 12 pruned nodes, max_depth=5\u001b[0m\n",
      "\u001b[34m[114]#011train-error:0.098#011validation-error:0.1468\u001b[0m\n",
      "\u001b[34m[02:49:11] src/tree/updater_prune.cc:74: tree pruning end, 1 roots, 16 extra nodes, 6 pruned nodes, max_depth=5\u001b[0m\n",
      "\u001b[34m[115]#011train-error:0.097333#011validation-error:0.1467\u001b[0m\n",
      "\u001b[34m[02:49:12] src/tree/updater_prune.cc:74: tree pruning end, 1 roots, 24 extra nodes, 12 pruned nodes, max_depth=5\u001b[0m\n",
      "\u001b[34m[116]#011train-error:0.096933#011validation-error:0.1457\u001b[0m\n",
      "\u001b[34m[02:49:13] src/tree/updater_prune.cc:74: tree pruning end, 1 roots, 16 extra nodes, 8 pruned nodes, max_depth=5\u001b[0m\n",
      "\u001b[34m[117]#011train-error:0.0964#011validation-error:0.146\u001b[0m\n",
      "\u001b[34m[02:49:14] src/tree/updater_prune.cc:74: tree pruning end, 1 roots, 16 extra nodes, 4 pruned nodes, max_depth=5\u001b[0m\n",
      "\u001b[34m[118]#011train-error:0.0962#011validation-error:0.146\u001b[0m\n",
      "\u001b[34m[02:49:16] src/tree/updater_prune.cc:74: tree pruning end, 1 roots, 16 extra nodes, 2 pruned nodes, max_depth=5\u001b[0m\n",
      "\u001b[34m[119]#011train-error:0.0958#011validation-error:0.1456\u001b[0m\n",
      "\u001b[34m[02:49:17] src/tree/updater_prune.cc:74: tree pruning end, 1 roots, 20 extra nodes, 14 pruned nodes, max_depth=5\u001b[0m\n",
      "\u001b[34m[120]#011train-error:0.095267#011validation-error:0.1445\u001b[0m\n",
      "\u001b[34m[02:49:18] src/tree/updater_prune.cc:74: tree pruning end, 1 roots, 16 extra nodes, 2 pruned nodes, max_depth=5\u001b[0m\n",
      "\u001b[34m[121]#011train-error:0.095533#011validation-error:0.1437\u001b[0m\n",
      "\u001b[34m[02:49:20] src/tree/updater_prune.cc:74: tree pruning end, 1 roots, 10 extra nodes, 6 pruned nodes, max_depth=5\u001b[0m\n",
      "\u001b[34m[122]#011train-error:0.095533#011validation-error:0.1432\u001b[0m\n",
      "\u001b[34m[02:49:21] src/tree/updater_prune.cc:74: tree pruning end, 1 roots, 12 extra nodes, 6 pruned nodes, max_depth=5\u001b[0m\n",
      "\u001b[34m[123]#011train-error:0.094733#011validation-error:0.1435\u001b[0m\n",
      "\u001b[34m[02:49:22] src/tree/updater_prune.cc:74: tree pruning end, 1 roots, 18 extra nodes, 8 pruned nodes, max_depth=5\u001b[0m\n",
      "\u001b[34m[124]#011train-error:0.0938#011validation-error:0.1439\u001b[0m\n",
      "\u001b[34m[02:49:24] src/tree/updater_prune.cc:74: tree pruning end, 1 roots, 30 extra nodes, 2 pruned nodes, max_depth=5\u001b[0m\n",
      "\u001b[34m[125]#011train-error:0.093533#011validation-error:0.143\u001b[0m\n",
      "\u001b[34m[02:49:25] src/tree/updater_prune.cc:74: tree pruning end, 1 roots, 22 extra nodes, 8 pruned nodes, max_depth=5\u001b[0m\n",
      "\u001b[34m[126]#011train-error:0.092733#011validation-error:0.1431\u001b[0m\n",
      "\u001b[34m[02:49:26] src/tree/updater_prune.cc:74: tree pruning end, 1 roots, 12 extra nodes, 4 pruned nodes, max_depth=5\u001b[0m\n",
      "\u001b[34m[127]#011train-error:0.0928#011validation-error:0.1426\u001b[0m\n",
      "\u001b[34m[02:49:27] src/tree/updater_prune.cc:74: tree pruning end, 1 roots, 22 extra nodes, 10 pruned nodes, max_depth=5\u001b[0m\n",
      "\u001b[34m[128]#011train-error:0.092333#011validation-error:0.1419\u001b[0m\n",
      "\u001b[34m[02:49:29] src/tree/updater_prune.cc:74: tree pruning end, 1 roots, 16 extra nodes, 6 pruned nodes, max_depth=5\u001b[0m\n",
      "\u001b[34m[129]#011train-error:0.0928#011validation-error:0.1414\u001b[0m\n",
      "\u001b[34m[02:49:30] src/tree/updater_prune.cc:74: tree pruning end, 1 roots, 14 extra nodes, 2 pruned nodes, max_depth=5\u001b[0m\n",
      "\u001b[34m[130]#011train-error:0.0924#011validation-error:0.1416\u001b[0m\n",
      "\u001b[34m[02:49:31] src/tree/updater_prune.cc:74: tree pruning end, 1 roots, 26 extra nodes, 8 pruned nodes, max_depth=5\u001b[0m\n",
      "\u001b[34m[131]#011train-error:0.092#011validation-error:0.1393\u001b[0m\n",
      "\u001b[34m[02:49:33] src/tree/updater_prune.cc:74: tree pruning end, 1 roots, 14 extra nodes, 8 pruned nodes, max_depth=5\u001b[0m\n",
      "\u001b[34m[132]#011train-error:0.092067#011validation-error:0.1393\u001b[0m\n",
      "\u001b[34m[02:49:34] src/tree/updater_prune.cc:74: tree pruning end, 1 roots, 20 extra nodes, 12 pruned nodes, max_depth=5\u001b[0m\n",
      "\u001b[34m[133]#011train-error:0.0914#011validation-error:0.1398\u001b[0m\n",
      "\u001b[34m[02:49:35] src/tree/updater_prune.cc:74: tree pruning end, 1 roots, 34 extra nodes, 8 pruned nodes, max_depth=5\u001b[0m\n",
      "\u001b[34m[134]#011train-error:0.090133#011validation-error:0.1403\u001b[0m\n",
      "\u001b[34m[02:49:36] src/tree/updater_prune.cc:74: tree pruning end, 1 roots, 14 extra nodes, 2 pruned nodes, max_depth=5\u001b[0m\n",
      "\u001b[34m[135]#011train-error:0.09#011validation-error:0.1402\u001b[0m\n",
      "\u001b[34m[02:49:38] src/tree/updater_prune.cc:74: tree pruning end, 1 roots, 16 extra nodes, 4 pruned nodes, max_depth=5\u001b[0m\n",
      "\u001b[34m[136]#011train-error:0.088933#011validation-error:0.1401\u001b[0m\n",
      "\u001b[34m[02:49:39] src/tree/updater_prune.cc:74: tree pruning end, 1 roots, 14 extra nodes, 8 pruned nodes, max_depth=5\u001b[0m\n",
      "\u001b[34m[137]#011train-error:0.088667#011validation-error:0.1399\u001b[0m\n",
      "\u001b[34m[02:49:40] src/tree/updater_prune.cc:74: tree pruning end, 1 roots, 14 extra nodes, 26 pruned nodes, max_depth=5\u001b[0m\n",
      "\u001b[34m[138]#011train-error:0.088733#011validation-error:0.1391\u001b[0m\n",
      "\u001b[34m[02:49:42] src/tree/updater_prune.cc:74: tree pruning end, 1 roots, 12 extra nodes, 8 pruned nodes, max_depth=5\u001b[0m\n",
      "\u001b[34m[139]#011train-error:0.0884#011validation-error:0.1394\u001b[0m\n"
     ]
    },
    {
     "name": "stdout",
     "output_type": "stream",
     "text": [
      "\u001b[34m[02:49:43] src/tree/updater_prune.cc:74: tree pruning end, 1 roots, 12 extra nodes, 10 pruned nodes, max_depth=5\u001b[0m\n",
      "\u001b[34m[140]#011train-error:0.088733#011validation-error:0.1397\u001b[0m\n",
      "\u001b[34m[02:49:44] src/tree/updater_prune.cc:74: tree pruning end, 1 roots, 14 extra nodes, 4 pruned nodes, max_depth=5\u001b[0m\n",
      "\u001b[34m[141]#011train-error:0.088267#011validation-error:0.1402\u001b[0m\n",
      "\u001b[34m[02:49:46] src/tree/updater_prune.cc:74: tree pruning end, 1 roots, 22 extra nodes, 18 pruned nodes, max_depth=5\u001b[0m\n",
      "\u001b[34m[142]#011train-error:0.087467#011validation-error:0.1407\u001b[0m\n",
      "\u001b[34m[02:49:47] src/tree/updater_prune.cc:74: tree pruning end, 1 roots, 12 extra nodes, 8 pruned nodes, max_depth=5\u001b[0m\n",
      "\u001b[34m[143]#011train-error:0.0876#011validation-error:0.1398\u001b[0m\n",
      "\u001b[34m[02:49:48] src/tree/updater_prune.cc:74: tree pruning end, 1 roots, 12 extra nodes, 12 pruned nodes, max_depth=5\u001b[0m\n",
      "\u001b[34m[144]#011train-error:0.087467#011validation-error:0.1398\u001b[0m\n",
      "\u001b[34m[02:49:49] src/tree/updater_prune.cc:74: tree pruning end, 1 roots, 30 extra nodes, 4 pruned nodes, max_depth=5\u001b[0m\n",
      "\u001b[34m[145]#011train-error:0.086667#011validation-error:0.1401\u001b[0m\n",
      "\u001b[34m[02:49:51] src/tree/updater_prune.cc:74: tree pruning end, 1 roots, 16 extra nodes, 8 pruned nodes, max_depth=5\u001b[0m\n",
      "\u001b[34m[146]#011train-error:0.086867#011validation-error:0.1403\u001b[0m\n",
      "\u001b[34m[02:49:52] src/tree/updater_prune.cc:74: tree pruning end, 1 roots, 26 extra nodes, 10 pruned nodes, max_depth=5\u001b[0m\n",
      "\u001b[34m[147]#011train-error:0.085867#011validation-error:0.1389\u001b[0m\n",
      "\u001b[34m[02:49:53] src/tree/updater_prune.cc:74: tree pruning end, 1 roots, 14 extra nodes, 6 pruned nodes, max_depth=5\u001b[0m\n",
      "\u001b[34m[148]#011train-error:0.0856#011validation-error:0.139\u001b[0m\n",
      "\u001b[34m[02:49:55] src/tree/updater_prune.cc:74: tree pruning end, 1 roots, 16 extra nodes, 14 pruned nodes, max_depth=5\u001b[0m\n",
      "\u001b[34m[149]#011train-error:0.0852#011validation-error:0.1384\u001b[0m\n",
      "\u001b[34m[02:49:56] src/tree/updater_prune.cc:74: tree pruning end, 1 roots, 16 extra nodes, 8 pruned nodes, max_depth=5\u001b[0m\n",
      "\u001b[34m[150]#011train-error:0.084933#011validation-error:0.1396\u001b[0m\n",
      "\u001b[34m[02:49:57] src/tree/updater_prune.cc:74: tree pruning end, 1 roots, 14 extra nodes, 8 pruned nodes, max_depth=5\u001b[0m\n",
      "\u001b[34m[151]#011train-error:0.0844#011validation-error:0.1391\u001b[0m\n",
      "\u001b[34m[02:49:58] src/tree/updater_prune.cc:74: tree pruning end, 1 roots, 32 extra nodes, 8 pruned nodes, max_depth=5\u001b[0m\n",
      "\u001b[34m[152]#011train-error:0.084667#011validation-error:0.1377\u001b[0m\n",
      "\u001b[34m[02:50:00] src/tree/updater_prune.cc:74: tree pruning end, 1 roots, 10 extra nodes, 6 pruned nodes, max_depth=5\u001b[0m\n",
      "\u001b[34m[153]#011train-error:0.084133#011validation-error:0.1379\u001b[0m\n",
      "\u001b[34m[02:50:01] src/tree/updater_prune.cc:74: tree pruning end, 1 roots, 14 extra nodes, 4 pruned nodes, max_depth=5\u001b[0m\n",
      "\u001b[34m[154]#011train-error:0.084733#011validation-error:0.1381\u001b[0m\n",
      "\u001b[34m[02:50:02] src/tree/updater_prune.cc:74: tree pruning end, 1 roots, 22 extra nodes, 12 pruned nodes, max_depth=5\u001b[0m\n",
      "\u001b[34m[155]#011train-error:0.0842#011validation-error:0.1371\u001b[0m\n",
      "\u001b[34m[02:50:04] src/tree/updater_prune.cc:74: tree pruning end, 1 roots, 10 extra nodes, 4 pruned nodes, max_depth=5\u001b[0m\n",
      "\u001b[34m[156]#011train-error:0.084#011validation-error:0.1367\u001b[0m\n",
      "\u001b[34m[02:50:05] src/tree/updater_prune.cc:74: tree pruning end, 1 roots, 16 extra nodes, 10 pruned nodes, max_depth=5\u001b[0m\n",
      "\u001b[34m[157]#011train-error:0.0842#011validation-error:0.1367\u001b[0m\n",
      "\u001b[34m[02:50:06] src/tree/updater_prune.cc:74: tree pruning end, 1 roots, 28 extra nodes, 6 pruned nodes, max_depth=5\u001b[0m\n",
      "\u001b[34m[158]#011train-error:0.0832#011validation-error:0.1371\u001b[0m\n",
      "\u001b[34m[02:50:07] src/tree/updater_prune.cc:74: tree pruning end, 1 roots, 16 extra nodes, 10 pruned nodes, max_depth=5\u001b[0m\n",
      "\u001b[34m[159]#011train-error:0.083067#011validation-error:0.1369\u001b[0m\n",
      "\n",
      "2020-12-09 02:50:18 Uploading - Uploading generated training model\u001b[34m[02:50:09] src/tree/updater_prune.cc:74: tree pruning end, 1 roots, 10 extra nodes, 4 pruned nodes, max_depth=5\u001b[0m\n",
      "\u001b[34m[160]#011train-error:0.082667#011validation-error:0.1374\u001b[0m\n",
      "\u001b[34m[02:50:10] src/tree/updater_prune.cc:74: tree pruning end, 1 roots, 20 extra nodes, 12 pruned nodes, max_depth=5\u001b[0m\n",
      "\u001b[34m[161]#011train-error:0.082133#011validation-error:0.1378\u001b[0m\n",
      "\u001b[34m[02:50:11] src/tree/updater_prune.cc:74: tree pruning end, 1 roots, 10 extra nodes, 4 pruned nodes, max_depth=5\u001b[0m\n",
      "\u001b[34m[162]#011train-error:0.0822#011validation-error:0.1377\u001b[0m\n",
      "\u001b[34m[02:50:13] src/tree/updater_prune.cc:74: tree pruning end, 1 roots, 32 extra nodes, 8 pruned nodes, max_depth=5\u001b[0m\n",
      "\u001b[34m[163]#011train-error:0.080933#011validation-error:0.1386\u001b[0m\n",
      "\u001b[34m[02:50:14] src/tree/updater_prune.cc:74: tree pruning end, 1 roots, 20 extra nodes, 8 pruned nodes, max_depth=5\u001b[0m\n",
      "\u001b[34m[164]#011train-error:0.0808#011validation-error:0.1388\u001b[0m\n",
      "\u001b[34m[02:50:15] src/tree/updater_prune.cc:74: tree pruning end, 1 roots, 10 extra nodes, 4 pruned nodes, max_depth=5\u001b[0m\n",
      "\u001b[34m[165]#011train-error:0.080267#011validation-error:0.1381\u001b[0m\n",
      "\u001b[34m[02:50:17] src/tree/updater_prune.cc:74: tree pruning end, 1 roots, 16 extra nodes, 2 pruned nodes, max_depth=5\u001b[0m\n",
      "\u001b[34m[166]#011train-error:0.080133#011validation-error:0.1379\u001b[0m\n",
      "\u001b[34mStopping. Best iteration:\u001b[0m\n",
      "\u001b[34m[156]#011train-error:0.084#011validation-error:0.1367\n",
      "\u001b[0m\n",
      "\n",
      "2020-12-09 02:50:25 Completed - Training job completed\n",
      "Training seconds: 271\n",
      "Billable seconds: 271\n"
     ]
    }
   ],
   "source": [
    "xgb.fit({'train': s3_input_train, 'validation': s3_input_validation})"
   ]
  },
  {
   "cell_type": "markdown",
   "metadata": {},
   "source": [
    "## Step 5: Testing the model\n",
    "\n",
    "Now that we've fit our XGBoost model, it's time to see how well it performs. To do this we will use SageMakers Batch Transform functionality. Batch Transform is a convenient way to perform inference on a large dataset in a way that is not realtime. That is, we don't necessarily need to use our model's results immediately and instead we can perform inference on a large number of samples. An example of this in industry might be performing an end of month report. This method of inference can also be useful to us as it means that we can perform inference on our entire test set. \n",
    "\n",
    "To perform a Batch Transformation we need to first create a transformer objects from our trained estimator object."
   ]
  },
  {
   "cell_type": "code",
   "execution_count": 24,
   "metadata": {},
   "outputs": [
    {
     "name": "stderr",
     "output_type": "stream",
     "text": [
      "Parameter image will be renamed to image_uri in SageMaker Python SDK v2.\n"
     ]
    }
   ],
   "source": [
    "xgb_transformer = xgb.transformer(instance_count = 1, instance_type = 'ml.m4.xlarge')"
   ]
  },
  {
   "cell_type": "markdown",
   "metadata": {},
   "source": [
    "Next we actually perform the transform job. When doing so we need to make sure to specify the type of data we are sending so that it is serialized correctly in the background. In our case we are providing our model with csv data so we specify `text/csv`. Also, if the test data that we have provided is too large to process all at once then we need to specify how the data file should be split up. Since each line is a single entry in our data set we tell SageMaker that it can split the input on each line."
   ]
  },
  {
   "cell_type": "code",
   "execution_count": 25,
   "metadata": {},
   "outputs": [],
   "source": [
    "xgb_transformer.transform(test_location, content_type='text/csv', split_type='Line')"
   ]
  },
  {
   "cell_type": "markdown",
   "metadata": {},
   "source": [
    "Currently the transform job is running but it is doing so in the background. Since we wish to wait until the transform job is done and we would like a bit of feedback we can run the `wait()` method."
   ]
  },
  {
   "cell_type": "code",
   "execution_count": 26,
   "metadata": {},
   "outputs": [
    {
     "name": "stdout",
     "output_type": "stream",
     "text": [
      ".............................\u001b[32m2020-12-09T02:56:15.100:[sagemaker logs]: MaxConcurrentTransforms=4, MaxPayloadInMB=6, BatchStrategy=MULTI_RECORD\u001b[0m\n",
      "\u001b[34mArguments: serve\u001b[0m\n",
      "\u001b[34m[2020-12-09 02:56:14 +0000] [1] [INFO] Starting gunicorn 19.7.1\u001b[0m\n",
      "\u001b[34m[2020-12-09 02:56:14 +0000] [1] [INFO] Listening at: http://0.0.0.0:8080 (1)\u001b[0m\n",
      "\u001b[34m[2020-12-09 02:56:14 +0000] [1] [INFO] Using worker: gevent\u001b[0m\n",
      "\u001b[34m[2020-12-09 02:56:14 +0000] [36] [INFO] Booting worker with pid: 36\u001b[0m\n",
      "\u001b[34m[2020-12-09 02:56:14 +0000] [37] [INFO] Booting worker with pid: 37\u001b[0m\n",
      "\u001b[34m[2020-12-09 02:56:15 +0000] [38] [INFO] Booting worker with pid: 38\u001b[0m\n",
      "\u001b[35mArguments: serve\u001b[0m\n",
      "\u001b[35m[2020-12-09 02:56:14 +0000] [1] [INFO] Starting gunicorn 19.7.1\u001b[0m\n",
      "\u001b[35m[2020-12-09 02:56:14 +0000] [1] [INFO] Listening at: http://0.0.0.0:8080 (1)\u001b[0m\n",
      "\u001b[35m[2020-12-09 02:56:14 +0000] [1] [INFO] Using worker: gevent\u001b[0m\n",
      "\u001b[35m[2020-12-09 02:56:14 +0000] [36] [INFO] Booting worker with pid: 36\u001b[0m\n",
      "\u001b[35m[2020-12-09 02:56:14 +0000] [37] [INFO] Booting worker with pid: 37\u001b[0m\n",
      "\u001b[35m[2020-12-09 02:56:15 +0000] [38] [INFO] Booting worker with pid: 38\u001b[0m\n",
      "\u001b[34m[2020-12-09:02:56:15:INFO] Model loaded successfully for worker : 36\u001b[0m\n",
      "\u001b[34m[2020-12-09:02:56:15:INFO] Model loaded successfully for worker : 37\u001b[0m\n",
      "\u001b[34m[2020-12-09 02:56:15 +0000] [39] [INFO] Booting worker with pid: 39\u001b[0m\n",
      "\u001b[34m[2020-12-09:02:56:15:INFO] Model loaded successfully for worker : 38\u001b[0m\n",
      "\u001b[34m[2020-12-09:02:56:15:INFO] Model loaded successfully for worker : 39\u001b[0m\n",
      "\u001b[34m[2020-12-09:02:56:15:INFO] Sniff delimiter as ','\u001b[0m\n",
      "\u001b[34m[2020-12-09:02:56:15:INFO] Determined delimiter of CSV input is ','\u001b[0m\n",
      "\u001b[34m[2020-12-09:02:56:15:INFO] Sniff delimiter as ','\u001b[0m\n",
      "\u001b[34m[2020-12-09:02:56:15:INFO] Determined delimiter of CSV input is ','\u001b[0m\n",
      "\u001b[34m[2020-12-09:02:56:15:INFO] Sniff delimiter as ','\u001b[0m\n",
      "\u001b[34m[2020-12-09:02:56:15:INFO] Determined delimiter of CSV input is ','\u001b[0m\n",
      "\u001b[34m[2020-12-09:02:56:16:INFO] Sniff delimiter as ','\u001b[0m\n",
      "\u001b[34m[2020-12-09:02:56:16:INFO] Determined delimiter of CSV input is ','\u001b[0m\n",
      "\u001b[34m[2020-12-09:02:56:17:INFO] Sniff delimiter as ','\u001b[0m\n",
      "\u001b[34m[2020-12-09:02:56:17:INFO] Determined delimiter of CSV input is ','\u001b[0m\n",
      "\u001b[34m[2020-12-09:02:56:18:INFO] Sniff delimiter as ','\u001b[0m\n",
      "\u001b[35m[2020-12-09:02:56:15:INFO] Model loaded successfully for worker : 36\u001b[0m\n",
      "\u001b[35m[2020-12-09:02:56:15:INFO] Model loaded successfully for worker : 37\u001b[0m\n",
      "\u001b[35m[2020-12-09 02:56:15 +0000] [39] [INFO] Booting worker with pid: 39\u001b[0m\n",
      "\u001b[35m[2020-12-09:02:56:15:INFO] Model loaded successfully for worker : 38\u001b[0m\n",
      "\u001b[35m[2020-12-09:02:56:15:INFO] Model loaded successfully for worker : 39\u001b[0m\n",
      "\u001b[35m[2020-12-09:02:56:15:INFO] Sniff delimiter as ','\u001b[0m\n",
      "\u001b[35m[2020-12-09:02:56:15:INFO] Determined delimiter of CSV input is ','\u001b[0m\n",
      "\u001b[35m[2020-12-09:02:56:15:INFO] Sniff delimiter as ','\u001b[0m\n",
      "\u001b[35m[2020-12-09:02:56:15:INFO] Determined delimiter of CSV input is ','\u001b[0m\n",
      "\u001b[35m[2020-12-09:02:56:15:INFO] Sniff delimiter as ','\u001b[0m\n",
      "\u001b[35m[2020-12-09:02:56:15:INFO] Determined delimiter of CSV input is ','\u001b[0m\n",
      "\u001b[35m[2020-12-09:02:56:16:INFO] Sniff delimiter as ','\u001b[0m\n",
      "\u001b[35m[2020-12-09:02:56:16:INFO] Determined delimiter of CSV input is ','\u001b[0m\n",
      "\u001b[35m[2020-12-09:02:56:17:INFO] Sniff delimiter as ','\u001b[0m\n",
      "\u001b[35m[2020-12-09:02:56:17:INFO] Determined delimiter of CSV input is ','\u001b[0m\n",
      "\u001b[35m[2020-12-09:02:56:18:INFO] Sniff delimiter as ','\u001b[0m\n",
      "\u001b[34m[2020-12-09:02:56:18:INFO] Determined delimiter of CSV input is ','\u001b[0m\n",
      "\u001b[35m[2020-12-09:02:56:18:INFO] Determined delimiter of CSV input is ','\u001b[0m\n",
      "\u001b[34m[2020-12-09:02:56:18:INFO] Sniff delimiter as ','\u001b[0m\n",
      "\u001b[34m[2020-12-09:02:56:18:INFO] Determined delimiter of CSV input is ','\u001b[0m\n",
      "\u001b[34m[2020-12-09:02:56:18:INFO] Sniff delimiter as ','\u001b[0m\n",
      "\u001b[34m[2020-12-09:02:56:18:INFO] Determined delimiter of CSV input is ','\u001b[0m\n",
      "\u001b[35m[2020-12-09:02:56:18:INFO] Sniff delimiter as ','\u001b[0m\n",
      "\u001b[35m[2020-12-09:02:56:18:INFO] Determined delimiter of CSV input is ','\u001b[0m\n",
      "\u001b[35m[2020-12-09:02:56:18:INFO] Sniff delimiter as ','\u001b[0m\n",
      "\u001b[35m[2020-12-09:02:56:18:INFO] Determined delimiter of CSV input is ','\u001b[0m\n",
      "\u001b[34m[2020-12-09:02:56:20:INFO] Sniff delimiter as ','\u001b[0m\n",
      "\u001b[34m[2020-12-09:02:56:20:INFO] Determined delimiter of CSV input is ','\u001b[0m\n",
      "\u001b[34m[2020-12-09:02:56:20:INFO] Sniff delimiter as ','\u001b[0m\n",
      "\u001b[34m[2020-12-09:02:56:20:INFO] Determined delimiter of CSV input is ','\u001b[0m\n",
      "\u001b[34m[2020-12-09:02:56:20:INFO] Sniff delimiter as ','\u001b[0m\n",
      "\u001b[35m[2020-12-09:02:56:20:INFO] Sniff delimiter as ','\u001b[0m\n",
      "\u001b[35m[2020-12-09:02:56:20:INFO] Determined delimiter of CSV input is ','\u001b[0m\n",
      "\u001b[35m[2020-12-09:02:56:20:INFO] Sniff delimiter as ','\u001b[0m\n",
      "\u001b[35m[2020-12-09:02:56:20:INFO] Determined delimiter of CSV input is ','\u001b[0m\n",
      "\u001b[35m[2020-12-09:02:56:20:INFO] Sniff delimiter as ','\u001b[0m\n",
      "\u001b[34m[2020-12-09:02:56:20:INFO] Determined delimiter of CSV input is ','\u001b[0m\n",
      "\u001b[34m[2020-12-09:02:56:21:INFO] Sniff delimiter as ','\u001b[0m\n",
      "\u001b[34m[2020-12-09:02:56:21:INFO] Determined delimiter of CSV input is ','\u001b[0m\n",
      "\u001b[35m[2020-12-09:02:56:20:INFO] Determined delimiter of CSV input is ','\u001b[0m\n",
      "\u001b[35m[2020-12-09:02:56:21:INFO] Sniff delimiter as ','\u001b[0m\n",
      "\u001b[35m[2020-12-09:02:56:21:INFO] Determined delimiter of CSV input is ','\u001b[0m\n",
      "\u001b[34m[2020-12-09:02:56:23:INFO] Determined delimiter of CSV input is ','\u001b[0m\n",
      "\u001b[35m[2020-12-09:02:56:23:INFO] Determined delimiter of CSV input is ','\u001b[0m\n",
      "\u001b[34m[2020-12-09:02:56:23:INFO] Sniff delimiter as ','\u001b[0m\n",
      "\u001b[35m[2020-12-09:02:56:23:INFO] Sniff delimiter as ','\u001b[0m\n",
      "\u001b[34m[2020-12-09:02:56:23:INFO] Determined delimiter of CSV input is ','\u001b[0m\n",
      "\u001b[34m[2020-12-09:02:56:23:INFO] Sniff delimiter as ','\u001b[0m\n",
      "\u001b[34m[2020-12-09:02:56:23:INFO] Determined delimiter of CSV input is ','\u001b[0m\n",
      "\u001b[35m[2020-12-09:02:56:23:INFO] Determined delimiter of CSV input is ','\u001b[0m\n",
      "\u001b[35m[2020-12-09:02:56:23:INFO] Sniff delimiter as ','\u001b[0m\n",
      "\u001b[35m[2020-12-09:02:56:23:INFO] Determined delimiter of CSV input is ','\u001b[0m\n",
      "\u001b[34m[2020-12-09:02:56:25:INFO] Sniff delimiter as ','\u001b[0m\n",
      "\u001b[34m[2020-12-09:02:56:25:INFO] Determined delimiter of CSV input is ','\u001b[0m\n",
      "\u001b[34m[2020-12-09:02:56:25:INFO] Sniff delimiter as ','\u001b[0m\n",
      "\u001b[34m[2020-12-09:02:56:25:INFO] Determined delimiter of CSV input is ','\u001b[0m\n",
      "\u001b[34m[2020-12-09:02:56:25:INFO] Sniff delimiter as ','\u001b[0m\n",
      "\u001b[34m[2020-12-09:02:56:25:INFO] Determined delimiter of CSV input is ','\u001b[0m\n",
      "\u001b[35m[2020-12-09:02:56:25:INFO] Sniff delimiter as ','\u001b[0m\n",
      "\u001b[35m[2020-12-09:02:56:25:INFO] Determined delimiter of CSV input is ','\u001b[0m\n",
      "\u001b[35m[2020-12-09:02:56:25:INFO] Sniff delimiter as ','\u001b[0m\n",
      "\u001b[35m[2020-12-09:02:56:25:INFO] Determined delimiter of CSV input is ','\u001b[0m\n",
      "\u001b[35m[2020-12-09:02:56:25:INFO] Sniff delimiter as ','\u001b[0m\n",
      "\u001b[35m[2020-12-09:02:56:25:INFO] Determined delimiter of CSV input is ','\u001b[0m\n",
      "\u001b[34m[2020-12-09:02:56:26:INFO] Sniff delimiter as ','\u001b[0m\n",
      "\u001b[34m[2020-12-09:02:56:26:INFO] Determined delimiter of CSV input is ','\u001b[0m\n",
      "\u001b[35m[2020-12-09:02:56:26:INFO] Sniff delimiter as ','\u001b[0m\n",
      "\u001b[35m[2020-12-09:02:56:26:INFO] Determined delimiter of CSV input is ','\u001b[0m\n",
      "\u001b[34m[2020-12-09:02:56:27:INFO] Sniff delimiter as ','\u001b[0m\n",
      "\u001b[34m[2020-12-09:02:56:27:INFO] Determined delimiter of CSV input is ','\u001b[0m\n",
      "\u001b[34m[2020-12-09:02:56:28:INFO] Sniff delimiter as ','\u001b[0m\n",
      "\u001b[35m[2020-12-09:02:56:27:INFO] Sniff delimiter as ','\u001b[0m\n",
      "\u001b[35m[2020-12-09:02:56:27:INFO] Determined delimiter of CSV input is ','\u001b[0m\n",
      "\u001b[35m[2020-12-09:02:56:28:INFO] Sniff delimiter as ','\u001b[0m\n",
      "\u001b[34m[2020-12-09:02:56:28:INFO] Determined delimiter of CSV input is ','\u001b[0m\n",
      "\u001b[35m[2020-12-09:02:56:28:INFO] Determined delimiter of CSV input is ','\u001b[0m\n",
      "\u001b[34m[2020-12-09:02:56:28:INFO] Sniff delimiter as ','\u001b[0m\n",
      "\u001b[34m[2020-12-09:02:56:28:INFO] Determined delimiter of CSV input is ','\u001b[0m\n",
      "\u001b[34m[2020-12-09:02:56:28:INFO] Sniff delimiter as ','\u001b[0m\n",
      "\u001b[34m[2020-12-09:02:56:28:INFO] Determined delimiter of CSV input is ','\u001b[0m\n",
      "\u001b[35m[2020-12-09:02:56:28:INFO] Sniff delimiter as ','\u001b[0m\n",
      "\u001b[35m[2020-12-09:02:56:28:INFO] Determined delimiter of CSV input is ','\u001b[0m\n",
      "\u001b[35m[2020-12-09:02:56:28:INFO] Sniff delimiter as ','\u001b[0m\n",
      "\u001b[35m[2020-12-09:02:56:28:INFO] Determined delimiter of CSV input is ','\u001b[0m\n",
      "\u001b[34m[2020-12-09:02:56:30:INFO] Sniff delimiter as ','\u001b[0m\n",
      "\u001b[34m[2020-12-09:02:56:30:INFO] Determined delimiter of CSV input is ','\u001b[0m\n",
      "\u001b[34m[2020-12-09:02:56:30:INFO] Sniff delimiter as ','\u001b[0m\n",
      "\u001b[34m[2020-12-09:02:56:30:INFO] Determined delimiter of CSV input is ','\u001b[0m\n",
      "\u001b[34m[2020-12-09:02:56:30:INFO] Sniff delimiter as ','\u001b[0m\n",
      "\u001b[34m[2020-12-09:02:56:30:INFO] Determined delimiter of CSV input is ','\u001b[0m\n",
      "\u001b[34m[2020-12-09:02:56:31:INFO] Sniff delimiter as ','\u001b[0m\n",
      "\u001b[34m[2020-12-09:02:56:31:INFO] Determined delimiter of CSV input is ','\u001b[0m\n",
      "\u001b[35m[2020-12-09:02:56:30:INFO] Sniff delimiter as ','\u001b[0m\n",
      "\u001b[35m[2020-12-09:02:56:30:INFO] Determined delimiter of CSV input is ','\u001b[0m\n",
      "\u001b[35m[2020-12-09:02:56:30:INFO] Sniff delimiter as ','\u001b[0m\n",
      "\u001b[35m[2020-12-09:02:56:30:INFO] Determined delimiter of CSV input is ','\u001b[0m\n",
      "\u001b[35m[2020-12-09:02:56:30:INFO] Sniff delimiter as ','\u001b[0m\n",
      "\u001b[35m[2020-12-09:02:56:30:INFO] Determined delimiter of CSV input is ','\u001b[0m\n",
      "\u001b[35m[2020-12-09:02:56:31:INFO] Sniff delimiter as ','\u001b[0m\n",
      "\u001b[35m[2020-12-09:02:56:31:INFO] Determined delimiter of CSV input is ','\u001b[0m\n"
     ]
    },
    {
     "name": "stdout",
     "output_type": "stream",
     "text": [
      "\u001b[34m[2020-12-09:02:56:35:INFO] Sniff delimiter as ','\u001b[0m\n",
      "\u001b[34m[2020-12-09:02:56:35:INFO] Determined delimiter of CSV input is ','\u001b[0m\n",
      "\u001b[34m[2020-12-09:02:56:35:INFO] Sniff delimiter as ','\u001b[0m\n",
      "\u001b[34m[2020-12-09:02:56:35:INFO] Determined delimiter of CSV input is ','\u001b[0m\n",
      "\u001b[34m[2020-12-09:02:56:35:INFO] Sniff delimiter as ','\u001b[0m\n",
      "\u001b[34m[2020-12-09:02:56:35:INFO] Determined delimiter of CSV input is ','\u001b[0m\n",
      "\u001b[34m[2020-12-09:02:56:35:INFO] Sniff delimiter as ','\u001b[0m\n",
      "\u001b[34m[2020-12-09:02:56:35:INFO] Determined delimiter of CSV input is ','\u001b[0m\n",
      "\u001b[35m[2020-12-09:02:56:35:INFO] Sniff delimiter as ','\u001b[0m\n",
      "\u001b[35m[2020-12-09:02:56:35:INFO] Determined delimiter of CSV input is ','\u001b[0m\n",
      "\u001b[35m[2020-12-09:02:56:35:INFO] Sniff delimiter as ','\u001b[0m\n",
      "\u001b[35m[2020-12-09:02:56:35:INFO] Determined delimiter of CSV input is ','\u001b[0m\n",
      "\u001b[35m[2020-12-09:02:56:35:INFO] Sniff delimiter as ','\u001b[0m\n",
      "\u001b[35m[2020-12-09:02:56:35:INFO] Determined delimiter of CSV input is ','\u001b[0m\n",
      "\u001b[35m[2020-12-09:02:56:35:INFO] Sniff delimiter as ','\u001b[0m\n",
      "\u001b[35m[2020-12-09:02:56:35:INFO] Determined delimiter of CSV input is ','\u001b[0m\n",
      "\u001b[34m[2020-12-09:02:56:37:INFO] Sniff delimiter as ','\u001b[0m\n",
      "\u001b[34m[2020-12-09:02:56:37:INFO] Determined delimiter of CSV input is ','\u001b[0m\n",
      "\u001b[34m[2020-12-09:02:56:37:INFO] Sniff delimiter as ','\u001b[0m\n",
      "\u001b[34m[2020-12-09:02:56:37:INFO] Determined delimiter of CSV input is ','\u001b[0m\n",
      "\u001b[34m[2020-12-09:02:56:38:INFO] Sniff delimiter as ','\u001b[0m\n",
      "\u001b[34m[2020-12-09:02:56:38:INFO] Determined delimiter of CSV input is ','\u001b[0m\n",
      "\u001b[35m[2020-12-09:02:56:37:INFO] Sniff delimiter as ','\u001b[0m\n",
      "\u001b[35m[2020-12-09:02:56:37:INFO] Determined delimiter of CSV input is ','\u001b[0m\n",
      "\u001b[35m[2020-12-09:02:56:37:INFO] Sniff delimiter as ','\u001b[0m\n",
      "\u001b[35m[2020-12-09:02:56:37:INFO] Determined delimiter of CSV input is ','\u001b[0m\n",
      "\u001b[35m[2020-12-09:02:56:38:INFO] Sniff delimiter as ','\u001b[0m\n",
      "\u001b[35m[2020-12-09:02:56:38:INFO] Determined delimiter of CSV input is ','\u001b[0m\n",
      "\u001b[34m[2020-12-09:02:56:38:INFO] Sniff delimiter as ','\u001b[0m\n",
      "\u001b[34m[2020-12-09:02:56:38:INFO] Determined delimiter of CSV input is ','\u001b[0m\n",
      "\u001b[35m[2020-12-09:02:56:38:INFO] Sniff delimiter as ','\u001b[0m\n",
      "\u001b[35m[2020-12-09:02:56:38:INFO] Determined delimiter of CSV input is ','\u001b[0m\n",
      "\n"
     ]
    }
   ],
   "source": [
    "xgb_transformer.wait()"
   ]
  },
  {
   "cell_type": "markdown",
   "metadata": {},
   "source": [
    "Now the transform job has executed and the result, the estimated sentiment of each review, has been saved on S3. Since we would rather work on this file locally we can perform a bit of notebook magic to copy the file to the `data_dir`."
   ]
  },
  {
   "cell_type": "code",
   "execution_count": 27,
   "metadata": {},
   "outputs": [
    {
     "name": "stdout",
     "output_type": "stream",
     "text": [
      "Completed 256.0 KiB/369.6 KiB (2.4 MiB/s) with 1 file(s) remaining\r",
      "Completed 369.6 KiB/369.6 KiB (3.3 MiB/s) with 1 file(s) remaining\r",
      "download: s3://sagemaker-ap-southeast-1-933770514188/xgboost-2020-12-09-02-51-32-738/test.csv.out to ../data/sentiment_web_app/test.csv.out\r\n"
     ]
    }
   ],
   "source": [
    "!aws s3 cp --recursive $xgb_transformer.output_path $data_dir"
   ]
  },
  {
   "cell_type": "markdown",
   "metadata": {},
   "source": [
    "The last step is now to read in the output from our model, convert the output to something a little more usable, in this case we want the sentiment to be either `1` (positive) or `0` (negative), and then compare to the ground truth labels."
   ]
  },
  {
   "cell_type": "code",
   "execution_count": 28,
   "metadata": {},
   "outputs": [],
   "source": [
    "predictions = pd.read_csv(os.path.join(data_dir, 'test.csv.out'), header=None)\n",
    "predictions = [round(num) for num in predictions.squeeze().values]"
   ]
  },
  {
   "cell_type": "code",
   "execution_count": 29,
   "metadata": {},
   "outputs": [
    {
     "data": {
      "text/plain": [
       "0.85852"
      ]
     },
     "execution_count": 29,
     "metadata": {},
     "output_type": "execute_result"
    }
   ],
   "source": [
    "from sklearn.metrics import accuracy_score\n",
    "accuracy_score(test_y, predictions)"
   ]
  },
  {
   "cell_type": "markdown",
   "metadata": {},
   "source": [
    "## Step 6: Deploying the model\n",
    "\n",
    "Once we construct and fit our model, SageMaker stores the resulting model artifacts and we can use those to deploy an endpoint (inference code). To see this, look in the SageMaker console and you should see that a model has been created along with a link to the S3 location where the model artifacts have been stored.\n",
    "\n",
    "Deploying an endpoint is a lot like training the model with a few important differences. The first is that a deployed model doesn't change the model artifacts, so as you send it various testing instances the model won't change. Another difference is that since we aren't performing a fixed computation, as we were in the training step or while performing a batch transform, the compute instance that gets started stays running until we tell it to stop. This is important to note as if we forget and leave it running we will be charged the entire time.\n",
    "\n",
    "In other words **If you are no longer using a deployed endpoint, shut it down!**"
   ]
  },
  {
   "cell_type": "code",
   "execution_count": 30,
   "metadata": {},
   "outputs": [
    {
     "name": "stderr",
     "output_type": "stream",
     "text": [
      "Parameter image will be renamed to image_uri in SageMaker Python SDK v2.\n",
      "Using already existing model: xgboost-2020-12-09-02-43-46-714\n"
     ]
    },
    {
     "name": "stdout",
     "output_type": "stream",
     "text": [
      "-------------!"
     ]
    }
   ],
   "source": [
    "xgb_predictor = xgb.deploy(initial_instance_count = 1, instance_type = 'ml.m4.xlarge')"
   ]
  },
  {
   "cell_type": "markdown",
   "metadata": {},
   "source": [
    "### Testing the model (again)\n",
    "\n",
    "Now that we have deployed our endpoint, we can send the testing data to it and get back the inference results. We already did this earlier using the batch transform functionality of SageMaker, however, we will test our model again using the newly deployed endpoint so that we can make sure that it works properly and to get a bit of a feel for how the endpoint works.\n",
    "\n",
    "When using the created endpoint it is important to know that we are limited in the amount of information we can send in each call so we need to break the testing data up into chunks and then send each chunk. Also, we need to serialize our data before we send it to the endpoint to ensure that our data is transmitted properly. Fortunately, SageMaker can do the serialization part for us provided we tell it the format of our data."
   ]
  },
  {
   "cell_type": "code",
   "execution_count": 31,
   "metadata": {},
   "outputs": [],
   "source": [
    "from sagemaker.predictor import csv_serializer\n",
    "\n",
    "# We need to tell the endpoint what format the data we are sending is in so that SageMaker can perform the serialization.\n",
    "xgb_predictor.content_type = 'text/csv'\n",
    "xgb_predictor.serializer = csv_serializer"
   ]
  },
  {
   "cell_type": "code",
   "execution_count": 32,
   "metadata": {},
   "outputs": [],
   "source": [
    "# We split the data into chunks and send each chunk seperately, accumulating the results.\n",
    "\n",
    "def predict(data, rows=512):\n",
    "    split_array = np.array_split(data, int(data.shape[0] / float(rows) + 1))\n",
    "    predictions = ''\n",
    "    for array in split_array:\n",
    "        predictions = ','.join([predictions, xgb_predictor.predict(array).decode('utf-8')])\n",
    "    \n",
    "    return np.fromstring(predictions[1:], sep=',')"
   ]
  },
  {
   "cell_type": "code",
   "execution_count": 33,
   "metadata": {},
   "outputs": [],
   "source": [
    "test_X = pd.read_csv(os.path.join(data_dir, 'test.csv'), header=None).values\n",
    "\n",
    "predictions = predict(test_X)\n",
    "predictions = [round(num) for num in predictions]"
   ]
  },
  {
   "cell_type": "markdown",
   "metadata": {},
   "source": [
    "Lastly, we check to see what the accuracy of our model is."
   ]
  },
  {
   "cell_type": "code",
   "execution_count": 34,
   "metadata": {},
   "outputs": [
    {
     "data": {
      "text/plain": [
       "0.85852"
      ]
     },
     "execution_count": 34,
     "metadata": {},
     "output_type": "execute_result"
    }
   ],
   "source": [
    "from sklearn.metrics import accuracy_score\n",
    "accuracy_score(test_y, predictions)"
   ]
  },
  {
   "cell_type": "markdown",
   "metadata": {},
   "source": [
    "And the results here should agree with the model testing that we did earlier using the batch transform job.\n",
    "\n",
    "### Cleaning up\n",
    "\n",
    "Now that we've determined that deploying our model works as expected, we are going to shut it down. Remember that the longer the endpoint is left running, the greater the cost and since we have a bit more work to do before we are able to use our endpoint with our simple web app, we should shut everything down."
   ]
  },
  {
   "cell_type": "code",
   "execution_count": 35,
   "metadata": {},
   "outputs": [],
   "source": [
    "xgb_predictor.delete_endpoint()"
   ]
  },
  {
   "cell_type": "markdown",
   "metadata": {},
   "source": [
    "## Step 7: Putting our model to work\n",
    "\n",
    "As we've mentioned a few times now, our goal is to have our model deployed and then access it using a very simple web app. The intent is for this web app to take some user submitted data (a review), send it off to our endpoint (the model) and then display the result.\n",
    "\n",
    "However, there is a small catch. Currently the only way we can access the endpoint to send it data is using the SageMaker API. We can, if we wish, expose the actual URL that our model's endpoint is receiving data from, however, if we just send it data ourselves we will not get anything in return. This is because the endpoint created by SageMaker requires the entity accessing it have the correct permissions. So, we would need to somehow authenticate our web app with AWS.\n",
    "\n",
    "Having a website that authenticates to AWS seems a bit beyond the scope of this lesson so we will opt for an alternative approach. Namely, we will create a new endpoint which does not require authentication and which acts as a proxy for the SageMaker endpoint.\n",
    "\n",
    "As an additional constraint, we will try to avoid doing any data processing in the web app itself. Remember that when we constructed and tested our model we started with a movie review, then we simplified it by removing any html formatting and punctuation, then we constructed a bag of words embedding and the resulting vector is what we sent to our model. All of this needs to be done to our user input as well.\n",
    "\n",
    "Fortunately we can do all of this data processing in the backend, using Amazon's Lambda service.\n",
    "\n",
    "<img src=\"Web App Diagram.svg\">\n",
    "\n",
    "The diagram above gives an overview of how the various services will work together. On the far right is the model which we trained above and which will be deployed using SageMaker. On the far left is our web app that collects a user's movie review, sends it off and expects a positive or negative sentiment in return.\n",
    "\n",
    "In the middle is where some of the magic happens. We will construct a Lambda function, which you can think of as a straightforward Python function that can be executed whenever a specified event occurs. This Python function will do the data processing we need to perform on a user submitted review. In addition, we will give this function permission to send and recieve data from a SageMaker endpoint.\n",
    "\n",
    "Lastly, the method we will use to execute the Lambda function is a new endpoint that we will create using API Gateway. This endpoint will be a url that listens for data to be sent to it. Once it gets some data it will pass that data on to the Lambda function and then return whatever the Lambda function returns. Essentially it will act as an interface that lets our web app communicate with the Lambda function.\n",
    "\n",
    "### Processing a single review\n",
    "\n",
    "For now, suppose we are given a movie review by our user in the form of a string, like so:"
   ]
  },
  {
   "cell_type": "code",
   "execution_count": 36,
   "metadata": {},
   "outputs": [],
   "source": [
    "test_review = \"Nothing but a disgusting materialistic pageant of glistening abed remote control greed zombies, totally devoid of any heart or heat. A romantic comedy that has zero romantic chemestry and zero laughs!\""
   ]
  },
  {
   "cell_type": "markdown",
   "metadata": {},
   "source": [
    "How do we go from this string to the bag of words feature vector that is expected by our model?\n",
    "\n",
    "If we recall at the beginning of this notebook, the first step is to remove any unnecessary characters using the `review_to_words` method. Remember that we intentionally did this in a very simplistic way. This is because we are going to have to copy this method to our (eventual) Lambda function (we will go into more detail later) and this means it needs to be rather simplistic."
   ]
  },
  {
   "cell_type": "code",
   "execution_count": 37,
   "metadata": {},
   "outputs": [
    {
     "name": "stdout",
     "output_type": "stream",
     "text": [
      "nothing but a disgusting materialistic pageant of glistening abed remote control greed zombies totally devoid of any heart or heat a romantic comedy that has zero romantic chemestry and zero laughs\n"
     ]
    }
   ],
   "source": [
    "test_words = review_to_words(test_review)\n",
    "print(test_words)"
   ]
  },
  {
   "cell_type": "markdown",
   "metadata": {},
   "source": [
    "Next, we need to construct a bag of words embedding of the `test_words` string. To do this, remember that a bag of words embedding uses a `vocabulary` consisting of the most frequently appearing words in a set of documents. Then, for each word in the vocabulary we record the number of times that word appears in `test_words`. We constructed the `vocabulary` earlier using the training set for our problem so encoding `test_words` is relatively straightforward."
   ]
  },
  {
   "cell_type": "code",
   "execution_count": 38,
   "metadata": {},
   "outputs": [],
   "source": [
    "def bow_encoding(words, vocabulary):\n",
    "    bow = [0] * len(vocabulary) # Start by setting the count for each word in the vocabulary to zero.\n",
    "    for word in words.split():  # For each word in the string\n",
    "        if word in vocabulary:  # If the word is one that occurs in the vocabulary, increase its count.\n",
    "            bow[vocabulary[word]] += 1\n",
    "    return bow"
   ]
  },
  {
   "cell_type": "code",
   "execution_count": 39,
   "metadata": {},
   "outputs": [
    {
     "name": "stdout",
     "output_type": "stream",
     "text": [
      "[0, 0, 0, 0, 0, 0, 0, 0, 0, 0, 0, 0, 0, 0, 0, 0, 0, 0, 0, 0, 0, 0, 0, 0, 0, 0, 0, 0, 0, 0, 0, 0, 0, 0, 0, 0, 0, 0, 0, 0, 0, 0, 0, 0, 0, 0, 0, 0, 0, 0, 0, 0, 0, 0, 0, 0, 0, 0, 0, 0, 0, 0, 0, 0, 0, 0, 0, 0, 0, 0, 0, 0, 0, 0, 0, 0, 0, 0, 0, 0, 0, 0, 0, 0, 0, 0, 0, 0, 0, 0, 0, 0, 0, 0, 0, 0, 0, 0, 0, 0, 0, 0, 0, 0, 0, 0, 0, 0, 0, 0, 0, 0, 0, 0, 0, 0, 0, 0, 0, 0, 0, 0, 0, 0, 0, 0, 0, 0, 0, 0, 0, 0, 0, 0, 0, 0, 0, 0, 0, 0, 0, 0, 0, 0, 0, 0, 0, 0, 0, 0, 0, 0, 0, 0, 0, 0, 0, 0, 0, 0, 0, 0, 0, 0, 0, 0, 0, 0, 0, 0, 0, 0, 0, 0, 0, 0, 0, 0, 0, 0, 0, 0, 0, 0, 0, 0, 0, 0, 0, 0, 0, 0, 0, 0, 0, 0, 0, 0, 0, 0, 0, 0, 0, 0, 0, 0, 0, 0, 0, 0, 0, 0, 0, 0, 0, 0, 0, 0, 0, 0, 0, 0, 0, 0, 0, 0, 1, 0, 0, 0, 0, 0, 0, 0, 0, 0, 0, 0, 0, 0, 0, 0, 0, 0, 0, 0, 0, 0, 0, 0, 0, 0, 0, 0, 0, 0, 1, 0, 0, 0, 0, 0, 0, 0, 0, 0, 0, 0, 0, 0, 0, 0, 0, 0, 0, 0, 0, 0, 0, 0, 0, 0, 0, 0, 0, 0, 0, 0, 0, 0, 0, 0, 0, 0, 0, 0, 0, 0, 0, 0, 0, 0, 0, 0, 0, 0, 0, 0, 0, 0, 0, 0, 0, 0, 0, 0, 0, 0, 0, 0, 0, 0, 0, 0, 0, 0, 0, 0, 0, 0, 0, 0, 0, 0, 0, 0, 0, 0, 0, 0, 0, 0, 0, 0, 0, 0, 0, 0, 0, 0, 0, 0, 0, 0, 0, 0, 0, 0, 0, 0, 0, 0, 0, 0, 0, 0, 0, 0, 0, 0, 0, 0, 0, 0, 0, 0, 0, 0, 0, 0, 0, 0, 0, 0, 0, 0, 0, 0, 0, 0, 0, 0, 0, 0, 0, 0, 0, 0, 0, 0, 0, 0, 0, 0, 0, 0, 0, 0, 0, 0, 0, 0, 0, 0, 0, 0, 0, 0, 0, 0, 0, 0, 0, 0, 0, 0, 0, 0, 0, 0, 0, 0, 0, 0, 0, 0, 0, 0, 0, 0, 0, 0, 0, 0, 0, 0, 0, 0, 0, 0, 0, 0, 0, 0, 0, 0, 0, 0, 0, 0, 0, 0, 0, 0, 0, 0, 0, 0, 0, 0, 0, 0, 0, 0, 0, 0, 0, 0, 0, 0, 0, 0, 0, 0, 0, 0, 0, 0, 0, 0, 0, 0, 0, 0, 0, 0, 0, 0, 0, 0, 0, 0, 0, 0, 0, 0, 0, 0, 0, 0, 0, 0, 0, 0, 0, 0, 0, 0, 0, 0, 0, 0, 0, 0, 0, 0, 0, 0, 0, 0, 0, 0, 0, 0, 0, 0, 0, 0, 0, 0, 0, 0, 0, 0, 0, 0, 0, 0, 0, 0, 0, 0, 0, 0, 0, 0, 0, 0, 0, 0, 0, 0, 0, 0, 0, 0, 0, 0, 0, 0, 0, 0, 0, 0, 0, 0, 0, 0, 0, 0, 0, 0, 0, 0, 0, 0, 0, 0, 0, 0, 0, 0, 0, 0, 0, 0, 0, 0, 0, 0, 0, 0, 0, 0, 0, 0, 0, 0, 0, 0, 0, 0, 0, 0, 0, 0, 0, 0, 0, 0, 0, 0, 0, 0, 0, 0, 0, 0, 0, 0, 0, 0, 0, 0, 0, 0, 1, 0, 0, 0, 0, 0, 0, 0, 0, 0, 0, 0, 0, 0, 0, 0, 0, 0, 0, 0, 0, 0, 0, 0, 0, 0, 0, 0, 0, 0, 0, 0, 0, 0, 0, 0, 0, 0, 0, 0, 0, 0, 0, 0, 0, 0, 0, 0, 0, 0, 0, 0, 0, 0, 0, 0, 0, 0, 0, 0, 0, 0, 0, 0, 0, 0, 0, 0, 0, 0, 0, 0, 0, 0, 0, 0, 0, 0, 0, 0, 0, 0, 0, 0, 0, 0, 0, 0, 0, 0, 0, 0, 0, 0, 0, 0, 0, 0, 0, 0, 0, 0, 0, 0, 0, 0, 0, 0, 0, 0, 0, 0, 0, 0, 0, 0, 0, 0, 0, 0, 0, 0, 0, 0, 0, 0, 0, 0, 0, 0, 0, 0, 0, 0, 0, 0, 0, 0, 0, 0, 0, 0, 0, 0, 0, 0, 0, 0, 0, 0, 0, 0, 0, 0, 0, 0, 0, 0, 0, 0, 0, 0, 0, 0, 0, 0, 0, 0, 0, 0, 0, 0, 0, 0, 0, 0, 0, 0, 0, 0, 0, 0, 0, 0, 0, 0, 0, 0, 0, 0, 0, 0, 0, 0, 0, 0, 0, 0, 0, 0, 0, 0, 0, 0, 0, 0, 0, 0, 0, 0, 0, 0, 0, 0, 0, 0, 0, 0, 0, 0, 0, 0, 0, 0, 0, 0, 0, 0, 0, 0, 0, 0, 0, 0, 0, 0, 0, 0, 0, 0, 0, 0, 0, 0, 0, 0, 0, 0, 0, 0, 0, 0, 0, 0, 1, 0, 0, 0, 0, 0, 0, 0, 0, 0, 0, 0, 0, 0, 0, 0, 0, 0, 0, 0, 0, 0, 0, 0, 0, 0, 0, 0, 0, 0, 0, 0, 0, 0, 0, 0, 0, 0, 0, 0, 0, 0, 0, 0, 0, 0, 0, 0, 0, 0, 0, 0, 0, 0, 0, 0, 0, 0, 0, 0, 0, 0, 0, 0, 0, 0, 0, 0, 0, 0, 0, 0, 0, 0, 0, 0, 0, 0, 0, 0, 0, 0, 0, 0, 0, 0, 0, 1, 0, 0, 0, 0, 0, 0, 0, 0, 0, 0, 0, 0, 0, 0, 0, 0, 0, 0, 0, 0, 0, 0, 0, 0, 0, 0, 0, 0, 0, 0, 0, 0, 0, 0, 0, 0, 0, 0, 0, 0, 0, 0, 0, 0, 0, 0, 0, 0, 0, 0, 0, 0, 0, 0, 0, 0, 0, 0, 0, 0, 0, 0, 0, 0, 0, 0, 0, 0, 0, 0, 0, 0, 0, 0, 0, 0, 0, 0, 0, 0, 0, 0, 0, 0, 0, 0, 0, 0, 0, 0, 0, 0, 0, 0, 0, 0, 0, 0, 0, 0, 0, 0, 0, 0, 0, 0, 0, 0, 0, 0, 0, 0, 0, 0, 0, 0, 0, 0, 0, 0, 0, 0, 0, 0, 0, 0, 0, 0, 0, 0, 0, 0, 0, 0, 0, 0, 0, 0, 0, 0, 0, 0, 0, 0, 0, 0, 0, 0, 0, 0, 0, 0, 0, 0, 0, 0, 0, 0, 0, 0, 0, 0, 0, 0, 0, 0, 0, 0, 0, 0, 0, 0, 0, 0, 0, 0, 0, 0, 0, 0, 0, 0, 0, 0, 0, 0, 0, 0, 0, 0, 0, 0, 0, 0, 0, 0, 0, 0, 0, 0, 0, 0, 0, 0, 0, 0, 0, 0, 0, 0, 0, 0, 0, 0, 0, 0, 0, 0, 0, 0, 0, 0, 0, 0, 0, 0, 0, 0, 0, 0, 0, 0, 0, 0, 0, 0, 0, 0, 0, 0, 0, 0, 0, 0, 0, 0, 0, 0, 0, 0, 0, 0, 1, 0, 0, 0, 0, 0, 0, 0, 0, 0, 0, 0, 0, 0, 0, 0, 0, 0, 0, 0, 0, 0, 0, 0, 0, 0, 0, 0, 0, 0, 0, 0, 0, 0, 0, 0, 0, 0, 0, 0, 0, 0, 0, 0, 0, 0, 0, 0, 0, 0, 0, 0, 0, 0, 0, 0, 1, 0, 0, 0, 0, 0, 0, 0, 0, 0, 0, 0, 0, 0, 0, 0, 0, 0, 0, 0, 0, 0, 0, 0, 0, 0, 0, 0, 0, 0, 0, 0, 0, 0, 0, 0, 0, 0, 0, 0, 0, 0, 0, 0, 0, 0, 0, 0, 0, 0, 0, 0, 0, 0, 0, 0, 0, 0, 0, 0, 0, 0, 0, 0, 0, 0, 0, 0, 0, 0, 0, 0, 0, 0, 0, 0, 0, 0, 0, 0, 0, 0, 0, 0, 0, 0, 0, 0, 0, 0, 0, 0, 0, 0, 0, 0, 0, 0, 0, 0, 0, 0, 0, 0, 0, 0, 0, 0, 0, 0, 0, 0, 0, 0, 0, 0, 0, 0, 0, 0, 0, 0, 0, 0, 0, 0, 0, 0, 0, 0, 0, 0, 0, 0, 0, 0, 0, 0, 0, 0, 0, 0, 0, 0, 0, 0, 0, 0, 0, 0, 0, 0, 0, 0, 0, 0, 0, 0, 0, 0, 0, 0, 0, 0, 0, 0, 0, 0, 0, 0, 0, 0, 0, 0, 0, 0, 0, 0, 0, 0, 0, 0, 0, 0, 0, 0, 0, 0, 0, 0, 0, 0, 0, 0, 0, 0, 0, 0, 0, 0, 0, 0, 0, 0, 0, 0, 0, 0, 0, 0, 0, 0, 0, 0, 0, 0, 0, 0, 0, 0, 0, 0, 0, 0, 0, 0, 0, 0, 0, 0, 0, 0, 0, 0, 0, 0, 0, 0, 0, 0, 0, 0, 0, 0, 0, 0, 0, 0, 0, 0, 0, 0, 0, 0, 0, 0, 0, 0, 0, 0, 0, 0, 0, 0, 0, 0, 0, 0, 0, 0, 0, 0, 0, 0, 0, 0, 0, 0, 0, 0, 0, 0, 0, 0, 0, 0, 0, 0, 0, 0, 0, 0, 0, 0, 0, 0, 0, 0, 0, 0, 0, 0, 0, 0, 0, 0, 0, 0, 0, 0, 0, 0, 0, 0, 0, 0, 0, 0, 0, 0, 0, 0, 0, 0, 0, 0, 0, 0, 0, 0, 0, 0, 0, 0, 0, 0, 0, 0, 0, 0, 0, 0, 0, 0, 0, 0, 0, 0, 0, 0, 0, 0, 0, 0, 0, 0, 0, 0, 0, 0, 0, 0, 0, 0, 0, 0, 0, 0, 0, 0, 0, 0, 0, 0, 0, 0, 0, 0, 0, 0, 0, 0, 0, 0, 0, 0, 0, 0, 0, 0, 0, 0, 0, 0, 0, 0, 0, 0, 0, 0, 0, 0, 0, 0, 0, 0, 0, 0, 0, 0, 0, 0, 0, 0, 0, 0, 0, 0, 0, 0, 0, 0, 0, 0, 0, 0, 0, 0, 0, 0, 0, 0, 0, 0, 0, 0, 0, 0, 0, 0, 0, 0, 0, 0, 0, 0, 0, 0, 0, 0, 0, 0, 0, 0, 0, 0, 0, 0, 0, 0, 0, 0, 0, 0, 0, 0, 0, 0, 0, 0, 0, 0, 0, 0, 0, 0, 0, 0, 0, 0, 0, 0, 0, 0, 0, 0, 0, 0, 0, 0, 0, 0, 0, 0, 0, 0, 0, 0, 0, 0, 0, 0, 0, 0, 0, 0, 0, 0, 0, 0, 0, 0, 0, 0, 0, 0, 0, 0, 0, 0, 0, 0, 0, 0, 0, 0, 0, 0, 0, 0, 0, 0, 0, 0, 0, 0, 0, 0, 0, 0, 0, 0, 0, 0, 0, 0, 0, 0, 0, 0, 0, 0, 0, 0, 0, 0, 0, 0, 0, 0, 0, 0, 0, 0, 0, 0, 0, 0, 0, 0, 0, 0, 0, 0, 0, 0, 0, 0, 0, 0, 0, 0, 0, 0, 0, 0, 0, 0, 0, 0, 0, 0, 0, 0, 0, 0, 0, 0, 0, 0, 0, 0, 0, 0, 0, 0, 0, 0, 0, 0, 0, 0, 0, 0, 0, 0, 0, 0, 0, 0, 0, 0, 0, 0, 0, 0, 0, 0, 0, 0, 0, 0, 0, 0, 0, 0, 0, 0, 0, 0, 0, 0, 0, 0, 0, 0, 0, 0, 0, 0, 0, 0, 0, 0, 0, 0, 0, 0, 0, 0, 0, 0, 0, 0, 0, 0, 0, 0, 0, 0, 0, 0, 0, 0, 0, 0, 0, 0, 0, 0, 0, 0, 1, 0, 0, 0, 0, 0, 0, 0, 0, 0, 0, 0, 0, 0, 0, 0, 0, 0, 0, 0, 0, 0, 0, 0, 0, 0, 0, 0, 0, 0, 0, 0, 0, 0, 0, 0, 0, 0, 0, 0, 0, 0, 0, 0, 0, 0, 0, 0, 0, 0, 0, 0, 0, 0, 0, 0, 0, 0, 0, 0, 0, 0, 0, 0, 0, 0, 0, 0, 0, 0, 0, 0, 0, 0, 0, 1, 0, 0, 0, 0, 0, 0, 0, 0, 0, 0, 0, 0, 0, 0, 0, 0, 0, 0, 0, 0, 1, 0, 0, 1, 0, 0, 0, 0, 0, 0, 0, 0, 0, 0, 0, 0, 0, 0, 0, 0, 0, 0, 0, 0, 0, 0, 0, 0, 0, 0, 0, 0, 0, 0, 0, 0, 0, 0, 0, 0, 0, 0, 0, 0, 0, 0, 0, 0, 0, 0, 0, 0, 0, 0, 0, 0, 0, 0, 0, 0, 0, 0, 0, 0, 0, 0, 0, 0, 0, 0, 0, 0, 0, 0, 0, 0, 0, 0, 0, 0, 0, 0, 0, 0, 0, 0, 0, 0, 0, 0, 0, 0, 0, 0, 0, 0, 0, 0, 0, 0, 0, 0, 0, 0, 0, 0, 0, 0, 0, 0, 0, 0, 0, 0, 0, 0, 0, 0, 0, 0, 0, 0, 0, 0, 0, 0, 0, 0, 0, 0, 0, 0, 0, 0, 0, 0, 0, 0, 0, 0, 0, 0, 0, 0, 0, 0, 0, 0, 0, 0, 0, 0, 0, 0, 0, 0, 0, 0, 0, 0, 0, 0, 0, 0, 0, 0, 0, 0, 0, 0, 0, 0, 0, 0, 0, 0, 0, 0, 0, 0, 0, 0, 0, 0, 0, 0, 0, 0, 0, 0, 0, 0, 0, 0, 0, 0, 0, 0, 0, 0, 0, 0, 0, 0, 0, 0, 0, 0, 0, 0, 0, 0, 0, 0, 0, 0, 0, 0, 0, 0, 0, 0, 0, 0, 0, 0, 0, 0, 0, 0, 0, 0, 0, 0, 0, 0, 0, 0, 0, 0, 0, 0, 0, 0, 0, 0, 0, 0, 0, 0, 0, 0, 0, 0, 0, 0, 0, 0, 0, 0, 0, 0, 0, 0, 0, 0, 0, 0, 0, 0, 0, 0, 0, 0, 0, 0, 0, 0, 0, 0, 0, 0, 0, 0, 0, 0, 0, 0, 0, 0, 0, 0, 0, 0, 0, 0, 0, 0, 0, 0, 0, 0, 0, 0, 0, 0, 0, 0, 0, 0, 0, 0, 0, 0, 0, 0, 0, 0, 0, 0, 0, 0, 0, 0, 0, 0, 0, 0, 0, 0, 0, 0, 0, 0, 0, 0, 0, 0, 0, 0, 0, 0, 0, 0, 0, 0, 0, 0, 0, 0, 0, 0, 0, 0, 0, 0, 0, 0, 0, 0, 0, 0, 0, 0, 0, 0, 0, 0, 0, 0, 0, 0, 0, 0, 0, 0, 0, 0, 0, 0, 0, 0, 0, 0, 0, 0, 0, 0, 0, 0, 0, 0, 0, 0, 0, 0, 0, 0, 0, 0, 0, 0, 0, 0, 0, 0, 0, 0, 0, 0, 0, 0, 0, 0, 0, 0, 0, 0, 0, 0, 0, 0, 0, 0, 0, 0, 0, 0, 0, 0, 0, 0, 0, 0, 0, 0, 0, 0, 0, 0, 0, 0, 0, 0, 0, 0, 0, 0, 0, 0, 0, 0, 0, 0, 0, 0, 0, 0, 0, 0, 0, 0, 0, 0, 0, 0, 0, 0, 0, 0, 1, 0, 0, 0, 0, 0, 0, 0, 0, 0, 0, 0, 0, 0, 0, 0, 0, 0, 0, 0, 0, 0, 0, 0, 0, 0, 0, 0, 0, 0, 0, 0, 0, 0, 0, 0, 0, 0, 0, 0, 0, 0, 0, 0, 0, 0, 0, 0, 0, 0, 0, 0, 0, 0, 0, 0, 0, 0, 0, 0, 0, 0, 0, 0, 0, 0, 0, 0, 0, 0, 0, 0, 0, 0, 0, 0, 0, 0, 0, 0, 0, 0, 0, 0, 0, 0, 0, 0, 0, 0, 0, 0, 0, 0, 0, 0, 0, 0, 0, 0, 0, 0, 0, 0, 0, 0, 0, 0, 0, 0, 0, 0, 0, 0, 0, 0, 0, 0, 0, 0, 0, 0, 0, 0, 0, 0, 0, 0, 0, 0, 0, 0, 0, 0, 0, 0, 0, 0, 0, 0, 0, 0, 0, 0, 0, 0, 0, 0, 0, 0, 0, 0, 0, 0, 0, 0, 0, 0, 0, 0, 0, 0, 0, 0, 0, 0, 0, 0, 0, 0, 0, 0, 0, 0, 0, 0, 0, 0, 0, 0, 0, 0, 0, 0, 0, 0, 0, 0, 0, 0, 0, 0, 0, 0, 0, 0, 0, 0, 0, 0, 0, 0, 0, 0, 0, 0, 0, 0, 0, 0, 0, 0, 0, 0, 0, 0, 0, 0, 0, 0, 0, 0, 0, 0, 0, 0, 0, 0, 0, 0, 0, 0, 0, 0, 0, 0, 0, 0, 0, 0, 0, 0, 0, 0, 0, 0, 0, 0, 0, 0, 0, 0, 0, 0, 0, 0, 0, 0, 0, 0, 0, 0, 0, 0, 0, 0, 0, 0, 0, 0, 0, 0, 0, 0, 0, 0, 0, 0, 0, 0, 0, 0, 0, 0, 0, 0, 0, 0, 0, 0, 0, 0, 0, 0, 0, 0, 0, 0, 0, 0, 0, 0, 0, 0, 0, 0, 0, 0, 0, 0, 0, 0, 0, 0, 0, 0, 0, 0, 0, 0, 0, 0, 0, 0, 0, 0, 0, 0, 0, 0, 0, 0, 0, 0, 0, 0, 0, 0, 0, 0, 0, 0, 0, 0, 0, 0, 0, 0, 0, 0, 0, 0, 0, 0, 0, 0, 0, 0, 0, 0, 0, 0, 0, 0, 0, 0, 0, 0, 0, 0, 0, 0, 0, 0, 0, 0, 0, 0, 0, 0, 0, 0, 0, 0, 0, 0, 0, 0, 0, 0, 0, 0, 0, 0, 0, 0, 0, 0, 0, 0, 0, 0, 0, 0, 0, 0, 0, 0, 0, 0, 0, 0, 0, 0, 0, 0, 0, 0, 0, 0, 0, 0, 0, 0, 0, 0, 0, 0, 0, 0, 0, 0, 0, 0, 0, 0, 0, 0, 0, 0, 0, 0, 0, 0, 0, 0, 0, 0, 0, 0, 0, 0, 0, 0, 0, 0, 0, 0, 0, 0, 0, 0, 0, 0, 0, 0, 0, 0, 0, 0, 0, 0, 0, 0, 0, 0, 0, 0, 0, 0, 0, 0, 0, 0, 0, 0, 0, 0, 0, 0, 0, 0, 0, 0, 0, 0, 0, 0, 0, 0, 0, 0, 0, 0, 0, 0, 0, 0, 0, 0, 0, 0, 0, 1, 0, 0, 0, 0, 0, 0, 0, 0, 0, 0, 0, 0, 0, 0, 0, 0, 0, 0, 0, 0, 0, 0, 0, 0, 0, 0, 0, 0, 0, 0, 0, 0, 0, 0, 0, 2, 0, 0, 0, 0, 0, 0, 0, 0, 0, 0, 0, 0, 0, 0, 0, 0, 0, 0, 0, 0, 0, 0, 0, 0, 0, 0, 0, 0, 0, 0, 0, 0, 0, 0, 0, 0, 0, 0, 0, 0, 1, 0, 0, 0, 0, 0, 0, 0, 0, 0, 0, 0, 0, 0, 0, 0, 0, 0, 0, 0, 0, 0, 0, 0, 0, 0, 0, 0, 0, 0, 0, 0, 0, 0, 0, 0, 0, 0, 0, 0, 0, 0, 0, 0, 0, 0, 0, 0, 0, 0, 0, 0, 0, 0, 0, 0, 0, 0, 0, 0, 0, 0, 0, 0, 0, 0, 0, 0, 0, 0, 0, 0, 0, 0, 0, 0, 0, 0, 0, 0, 0, 0, 0, 0, 0, 0, 0, 0, 0, 0, 0, 0, 0, 0, 0, 0, 0, 0, 0, 0, 0, 0, 0, 0, 0, 0, 0, 0, 0, 0, 0, 0, 0, 0, 0, 0, 0, 0, 0, 0, 0, 0, 0, 0, 0, 0, 0, 0, 0, 0, 0, 0, 0, 0, 0, 0, 0, 0, 0, 0, 0, 0, 0, 0, 0, 0, 0, 0, 0, 0, 0, 0, 0, 0, 0, 0, 0, 0, 0, 0, 0, 0, 0, 0, 0, 0, 0, 0, 0, 0, 0, 0, 0, 0, 0, 0, 0, 0, 0, 0, 0, 0, 0, 0, 0, 0, 0, 0, 0, 0, 0, 0, 0, 0, 0, 0, 0, 0, 0, 0, 0, 0, 0, 0, 0, 0, 0, 0, 0, 0, 0, 0, 0, 0, 0, 0, 0, 0, 0, 0, 0, 0, 0, 0, 0, 0, 0, 0, 0, 0, 0, 0, 0, 0, 0, 0, 0, 0, 0, 0, 0, 0, 0, 0, 0, 0, 0, 0, 0, 0, 0, 0, 0, 0, 0, 0, 0, 0, 0, 0, 0, 0, 0, 0, 0, 0, 0, 0, 0, 0, 0, 0, 0, 0, 0, 0, 0, 0, 0, 0, 0, 0, 0, 0, 0, 0, 0, 0, 0, 0, 0, 0, 0, 0, 0, 0, 0, 0, 0, 0, 0, 0, 0, 0, 0, 0, 0, 0, 0, 0, 0, 0, 0, 0, 0, 0, 0, 0, 0, 0, 0, 0, 0, 0, 0, 0, 0, 0, 0, 0, 0, 0, 0, 0, 0, 0, 0, 0, 0, 0, 0, 0, 0, 0, 0, 0, 0, 0, 0, 0, 0, 0, 0, 0, 0, 0, 0, 0, 0, 0, 0, 0, 0, 0, 0, 0, 0, 0, 0, 0, 0, 0, 0, 0, 0, 0, 0, 0, 0, 0, 0, 0, 0, 0, 0, 0, 0, 0, 0, 0, 0, 0, 0, 0, 0, 0, 0, 0, 0, 0, 0, 0, 0, 0, 0, 0, 0, 0, 0, 0, 0, 0, 0, 0, 0, 0, 0, 0, 0, 0, 0, 0, 0, 0, 0, 0, 0, 0, 0, 0, 0, 0, 0, 0, 0, 0, 0, 0, 0, 0, 0, 0, 0, 0, 0, 0, 0, 0, 0, 0, 0, 0, 0, 0, 0, 0, 0, 0, 0, 0, 0, 0, 0, 0, 0, 0, 0, 0, 0, 0, 0, 0, 0, 0, 0, 0, 0, 0, 0, 0, 0, 0, 0, 0, 0, 0, 0, 0, 0, 0, 0, 0, 0, 0, 0, 0, 0, 0, 1, 0, 0, 0, 0, 0, 0, 0, 0, 0, 0, 0, 0, 0, 0, 0, 0, 0, 0, 0, 0, 0, 0, 0, 0, 0, 0, 0, 0, 0, 0, 0, 0, 0, 0, 0, 0, 0, 0, 0, 0, 0, 0, 0, 0, 0, 0, 0, 0, 0, 0, 0, 0, 0, 0, 0, 0, 0, 0, 0, 0, 0, 0, 0, 0, 0, 0, 0, 0, 0, 0, 0, 0, 0, 0, 0, 0, 0, 0, 0, 0, 0, 0, 0, 0, 0, 0, 0, 0, 0, 0, 0, 0, 0, 0, 0, 0, 0, 0, 0, 0, 0, 0, 0, 0, 0, 0, 0, 0, 0, 0, 2, 0, 0, 0, 0, 0, 0, 0, 0, 0, 0, 0, 0, 0, 0, 0, 0, 0, 0, 0, 0, 0, 0, 0, 0, 0, 0, 0, 0, 0, 0, 0, 0, 0, 0, 0, 0, 0, 0, 0, 0, 0, 0, 0, 0, 0, 0, 0, 0, 0, 0, 0, 0, 0, 0, 0, 0, 0, 0, 0, 0, 0, 0, 0, 0, 0, 0, 0, 0, 0, 0, 0, 0, 0, 0, 0, 0, 0, 0, 0, 0, 0, 0, 0, 0, 0, 0, 0, 0, 0, 0, 0, 0, 0, 0, 0, 0, 0, 0, 0, 0, 0, 0, 0, 0, 0, 0, 0, 0, 0, 0, 0, 0, 0, 0, 0, 0, 0, 0, 0, 0, 0, 0, 0, 0, 0, 0, 0, 0, 0, 0, 0, 0, 0, 0, 0, 0, 0, 0, 0, 0, 0, 0, 0, 0, 0, 0, 0, 0, 0, 0, 0, 0, 0, 0, 0, 0, 0, 0, 0, 0, 0, 0, 0, 0, 0, 0, 0, 0, 0, 0, 0, 0, 0, 0, 0, 0, 0, 0, 0, 0, 0, 0, 0, 0, 0, 0, 0, 0, 0, 0, 0, 0, 0, 0, 0, 0, 0, 0, 0, 0, 0, 0, 0, 0, 0, 0, 0, 0, 0, 0, 0, 0, 0, 0, 0, 0, 0, 0, 0, 0, 0, 0, 0, 0, 0, 0, 0, 0, 0, 0, 0, 0, 0, 0, 0, 0, 0, 0, 0, 0, 0, 0, 0, 0, 0, 0, 0, 0, 0, 0, 0, 0, 0, 0, 0, 0, 0, 0, 0, 0, 0, 0, 0, 0, 0, 0, 0, 0, 0, 0, 0, 0, 0, 0, 0, 0, 0, 0, 0, 0, 0, 0, 0, 0, 0, 0, 0, 0, 0, 0, 0, 0, 0, 0, 0, 0, 0, 0, 0, 0, 0, 0, 0, 0, 0, 0, 0, 0, 0, 0, 0, 0, 0, 0, 0, 0, 0, 0, 0, 0, 0, 0, 0, 0, 0, 0, 0, 0, 0, 0, 0, 0, 0, 0, 0, 0, 0, 0, 0, 0, 0, 0, 0, 0, 0, 0, 0, 0, 0, 0, 0, 0, 0, 0, 0, 0, 0, 0, 0, 0, 0, 0, 0, 0, 0, 0, 0, 0, 0, 0, 0, 0, 0, 0, 0, 0, 0, 0, 0, 0, 0, 0, 0, 0, 0, 0, 0, 0, 0, 0, 0, 0, 0, 0, 0, 0, 0, 0, 0, 0, 0, 0, 0, 0, 0, 0, 0, 0, 0, 0, 0, 0, 0, 0, 0, 0, 0, 0, 0, 0, 0, 0, 0, 0, 0, 0, 0, 0, 0, 0, 0, 0, 0, 0, 0, 0, 0, 0, 0, 0, 0, 0, 0, 0, 0, 0, 0, 0, 0, 0, 0, 0, 0, 0, 0, 0, 0, 0, 0, 0, 0, 0, 0, 0, 0, 0, 0, 0, 0, 0, 0, 0, 0, 0, 0, 0, 0, 0, 0, 0, 0, 0, 0, 0, 0, 0, 0, 0, 0, 0, 0, 0, 0, 0, 0, 0, 0, 0, 0, 0, 0, 0, 0, 0, 0, 0, 0, 0, 0, 0, 0, 0, 0, 0, 0, 0, 0, 0, 0, 0, 0, 0, 0, 0, 0, 0, 0, 0, 0, 0, 0, 0, 0, 0, 0, 0, 0, 0, 0, 0, 0, 0, 0, 0, 0, 0, 0, 0, 0, 0, 0, 0, 0, 0, 0, 0, 0, 0, 0, 0, 0, 0, 0, 0, 0, 0, 0, 0, 0, 0, 0, 0, 0, 0, 0, 0, 0, 0, 0, 0, 0, 0, 0, 0, 0, 0, 0, 0, 0, 0, 0, 0, 0, 0, 0, 0, 0, 0, 0, 0, 0, 0, 0, 0, 0, 0, 0, 0, 0, 0, 0, 0, 0, 0, 0, 0, 0, 0, 0, 0, 0, 0, 0, 0, 0, 0, 0, 0, 0, 0, 0, 0, 0, 0, 0, 0, 0, 0, 0, 0, 0, 0, 0, 0, 0, 0, 0, 0, 0, 0, 0, 0, 0, 0, 0, 0, 0, 0, 0, 0, 0, 0, 0, 0, 0, 0, 0, 0, 0, 0, 0, 0, 0, 0, 0, 0, 0, 0, 0, 0, 0, 0, 0, 0, 0, 0, 0, 0, 0, 0, 1, 0, 0, 0, 0, 0, 0, 0, 0, 0, 0, 0, 0, 0, 0, 0, 0, 0, 0, 0, 0, 0, 0, 0, 0, 0, 0, 0, 0, 0, 0, 0, 0, 0, 0, 0, 0, 0, 0, 0, 0, 0, 0, 0, 0, 0, 0, 0, 0, 0, 0, 0, 0, 0, 0, 0, 0, 0, 0, 0, 0, 0, 0, 0, 0, 0, 0, 0, 0, 0, 0, 0, 0, 0, 0, 0, 0, 0, 0, 0, 0, 0, 0, 0, 0, 0, 0, 0, 0, 0, 0, 0, 0, 0, 0, 0, 0, 0, 0, 0, 0, 0, 0, 0, 0, 0, 0, 0, 1, 0, 0, 0, 0, 0, 0, 0, 0, 0, 0, 0, 0, 0, 0, 0, 0, 0, 0, 0, 0, 0, 0, 0, 0, 0, 0, 0, 0, 0, 0, 0, 0, 0, 0, 0, 0, 0, 0, 0, 0, 0, 0, 0, 0, 0, 0, 0, 0, 0, 0, 0, 0, 0, 0, 0, 0, 0, 0, 0, 0, 0, 0, 0, 0, 0, 0, 0, 0, 0, 0, 0, 0, 0, 0, 0, 0, 0, 0, 0, 0, 0, 0, 0, 0, 0, 0, 0, 0, 0, 0, 0, 0, 0, 0, 0, 0, 0, 0, 0, 0, 0, 0, 0, 0, 0, 0, 0, 0, 0, 0, 0, 0, 0, 0, 0, 0, 0, 0, 0, 0, 0, 0, 0, 0, 0, 0, 0, 0, 0, 0, 0, 0, 0, 0, 0, 0, 0, 0, 0, 0, 0, 0, 0, 0, 0, 0, 0, 0, 0, 0, 0, 0, 0, 0, 0, 0, 0, 0, 0, 0, 0, 0, 0, 0, 0, 0, 0, 0, 0, 0, 0, 0, 0, 0, 0, 0, 0, 0, 0, 0, 0, 0, 0, 0, 0, 0, 0, 0, 0, 0, 0, 0, 0, 0, 0, 0, 0, 0, 0, 0, 0, 0, 0, 0, 0, 0, 0, 0, 0, 0, 0, 0, 0, 0, 0, 0, 0, 0, 0, 0, 0, 0, 0, 0, 0, 0, 0, 0, 0, 0, 0, 0, 0, 0, 0, 0, 0, 0, 0, 0, 0, 0, 0, 0, 0, 0, 0, 0, 0, 0, 0, 0, 0, 0, 0, 0, 0, 0, 0, 0, 0, 0, 0, 0, 0, 0, 0, 0, 0, 0, 0, 0, 0, 0, 0, 0, 0, 0, 0, 0, 0, 0, 0, 0, 0, 0, 0, 0, 0, 0, 0, 0, 0, 0, 0, 0, 0, 0, 0, 0, 0, 0, 0, 0, 0, 0, 0, 0, 0, 0, 0, 0, 0, 0, 0, 0, 0, 0, 0, 0, 0, 0, 0, 0, 0, 0, 0, 0, 0, 0, 0, 0, 0, 0, 0, 0, 0, 0, 0, 0, 0, 0, 0, 0, 0, 0, 0, 0, 0, 0, 0, 0, 0, 0, 0, 0, 0, 0, 0, 0, 0, 0, 0, 0, 0, 0, 0, 0, 0, 0, 0, 0, 0, 0, 0, 0, 0, 0, 0, 0, 0, 0, 0, 0, 0, 0, 0, 0, 0, 0, 0, 0, 0, 0, 0, 0, 0, 0, 0, 0, 0, 0, 0, 0, 0, 0, 0, 0, 0, 0, 0, 0, 0, 0, 0, 0, 0, 0, 0, 0, 0, 0, 0, 0, 0, 0, 0, 0, 0, 0, 0, 0, 0, 0, 0, 0, 0, 0, 0, 0, 0, 0, 0, 0, 0, 0, 0, 0, 0, 0, 0, 0, 0, 0, 0, 0, 0, 0, 0, 0, 0, 0, 0, 2, 0, 1, 0]\n"
     ]
    }
   ],
   "source": [
    "test_bow = bow_encoding(test_words, vocabulary)\n",
    "print(test_bow)"
   ]
  },
  {
   "cell_type": "code",
   "execution_count": 40,
   "metadata": {},
   "outputs": [
    {
     "data": {
      "text/plain": [
       "5000"
      ]
     },
     "execution_count": 40,
     "metadata": {},
     "output_type": "execute_result"
    }
   ],
   "source": [
    "len(test_bow)"
   ]
  },
  {
   "cell_type": "markdown",
   "metadata": {},
   "source": [
    "So now we know how to construct a bag of words encoding of a user provided review, how to we send it to our endpoint? First, we need to start the endpoint back up."
   ]
  },
  {
   "cell_type": "code",
   "execution_count": 41,
   "metadata": {},
   "outputs": [
    {
     "name": "stderr",
     "output_type": "stream",
     "text": [
      "Parameter image will be renamed to image_uri in SageMaker Python SDK v2.\n",
      "Using already existing model: xgboost-2020-12-09-02-43-46-714\n"
     ]
    },
    {
     "name": "stdout",
     "output_type": "stream",
     "text": [
      "-------------!"
     ]
    }
   ],
   "source": [
    "xgb_predictor = xgb.deploy(initial_instance_count = 1, instance_type = 'ml.m4.xlarge')"
   ]
  },
  {
   "cell_type": "markdown",
   "metadata": {},
   "source": [
    "At this point we could just do the same thing that we did earlier when we tested our deployed model and send `test_bow` to our endpoint using the `xgb_predictor` object. However, when we eventually construct our Lambda function we won't have access to this object, so how do we call a SageMaker endpoint?\n",
    "\n",
    "It turns out that Python functions that are used in Lambda have access to another Amazon library called `boto3`. This library provides an API for working with Amazon services, including SageMaker. To start with, we need to get a handle to the SageMaker runtime."
   ]
  },
  {
   "cell_type": "code",
   "execution_count": 42,
   "metadata": {},
   "outputs": [],
   "source": [
    "import boto3\n",
    "\n",
    "runtime = boto3.Session().client('sagemaker-runtime')"
   ]
  },
  {
   "cell_type": "markdown",
   "metadata": {},
   "source": [
    "And now that we have access to the SageMaker runtime, we can ask it to make use of (invoke) an endpoint that has already been created. However, we need to provide SageMaker with the name of the deployed endpoint. To find this out we can print it out using the `xgb_predictor` object."
   ]
  },
  {
   "cell_type": "code",
   "execution_count": 44,
   "metadata": {},
   "outputs": [
    {
     "data": {
      "text/plain": [
       "'xgboost-2020-12-09-02-43-46-714'"
      ]
     },
     "execution_count": 44,
     "metadata": {},
     "output_type": "execute_result"
    }
   ],
   "source": [
    "xgb_predictor.endpoint"
   ]
  },
  {
   "cell_type": "markdown",
   "metadata": {},
   "source": [
    "Using the SageMaker runtime and the name of our endpoint, we can invoke the endpoint and send it the `test_bow` data."
   ]
  },
  {
   "cell_type": "code",
   "execution_count": 45,
   "metadata": {},
   "outputs": [
    {
     "ename": "ParamValidationError",
     "evalue": "Parameter validation failed:\nInvalid type for parameter Body, value: [0, 0, 0, 0, 0, 0, 0, 0, 0, 0, 0, 0, 0, 0, 0, 0, 0, 0, 0, 0, 0, 0, 0, 0, 0, 0, 0, 0, 0, 0, 0, 0, 0, 0, 0, 0, 0, 0, 0, 0, 0, 0, 0, 0, 0, 0, 0, 0, 0, 0, 0, 0, 0, 0, 0, 0, 0, 0, 0, 0, 0, 0, 0, 0, 0, 0, 0, 0, 0, 0, 0, 0, 0, 0, 0, 0, 0, 0, 0, 0, 0, 0, 0, 0, 0, 0, 0, 0, 0, 0, 0, 0, 0, 0, 0, 0, 0, 0, 0, 0, 0, 0, 0, 0, 0, 0, 0, 0, 0, 0, 0, 0, 0, 0, 0, 0, 0, 0, 0, 0, 0, 0, 0, 0, 0, 0, 0, 0, 0, 0, 0, 0, 0, 0, 0, 0, 0, 0, 0, 0, 0, 0, 0, 0, 0, 0, 0, 0, 0, 0, 0, 0, 0, 0, 0, 0, 0, 0, 0, 0, 0, 0, 0, 0, 0, 0, 0, 0, 0, 0, 0, 0, 0, 0, 0, 0, 0, 0, 0, 0, 0, 0, 0, 0, 0, 0, 0, 0, 0, 0, 0, 0, 0, 0, 0, 0, 0, 0, 0, 0, 0, 0, 0, 0, 0, 0, 0, 0, 0, 0, 0, 0, 0, 0, 0, 0, 0, 0, 0, 0, 0, 0, 0, 0, 0, 0, 1, 0, 0, 0, 0, 0, 0, 0, 0, 0, 0, 0, 0, 0, 0, 0, 0, 0, 0, 0, 0, 0, 0, 0, 0, 0, 0, 0, 0, 0, 1, 0, 0, 0, 0, 0, 0, 0, 0, 0, 0, 0, 0, 0, 0, 0, 0, 0, 0, 0, 0, 0, 0, 0, 0, 0, 0, 0, 0, 0, 0, 0, 0, 0, 0, 0, 0, 0, 0, 0, 0, 0, 0, 0, 0, 0, 0, 0, 0, 0, 0, 0, 0, 0, 0, 0, 0, 0, 0, 0, 0, 0, 0, 0, 0, 0, 0, 0, 0, 0, 0, 0, 0, 0, 0, 0, 0, 0, 0, 0, 0, 0, 0, 0, 0, 0, 0, 0, 0, 0, 0, 0, 0, 0, 0, 0, 0, 0, 0, 0, 0, 0, 0, 0, 0, 0, 0, 0, 0, 0, 0, 0, 0, 0, 0, 0, 0, 0, 0, 0, 0, 0, 0, 0, 0, 0, 0, 0, 0, 0, 0, 0, 0, 0, 0, 0, 0, 0, 0, 0, 0, 0, 0, 0, 0, 0, 0, 0, 0, 0, 0, 0, 0, 0, 0, 0, 0, 0, 0, 0, 0, 0, 0, 0, 0, 0, 0, 0, 0, 0, 0, 0, 0, 0, 0, 0, 0, 0, 0, 0, 0, 0, 0, 0, 0, 0, 0, 0, 0, 0, 0, 0, 0, 0, 0, 0, 0, 0, 0, 0, 0, 0, 0, 0, 0, 0, 0, 0, 0, 0, 0, 0, 0, 0, 0, 0, 0, 0, 0, 0, 0, 0, 0, 0, 0, 0, 0, 0, 0, 0, 0, 0, 0, 0, 0, 0, 0, 0, 0, 0, 0, 0, 0, 0, 0, 0, 0, 0, 0, 0, 0, 0, 0, 0, 0, 0, 0, 0, 0, 0, 0, 0, 0, 0, 0, 0, 0, 0, 0, 0, 0, 0, 0, 0, 0, 0, 0, 0, 0, 0, 0, 0, 0, 0, 0, 0, 0, 0, 0, 0, 0, 0, 0, 0, 0, 0, 0, 0, 0, 0, 0, 0, 0, 0, 0, 0, 0, 0, 0, 0, 0, 0, 0, 0, 0, 0, 0, 0, 0, 0, 0, 0, 0, 0, 0, 0, 0, 0, 0, 0, 0, 0, 0, 0, 0, 0, 0, 0, 0, 0, 0, 0, 0, 0, 0, 0, 0, 0, 0, 0, 0, 0, 0, 0, 0, 0, 0, 0, 0, 0, 0, 0, 0, 0, 0, 0, 0, 0, 0, 0, 0, 0, 0, 0, 0, 0, 0, 0, 0, 0, 1, 0, 0, 0, 0, 0, 0, 0, 0, 0, 0, 0, 0, 0, 0, 0, 0, 0, 0, 0, 0, 0, 0, 0, 0, 0, 0, 0, 0, 0, 0, 0, 0, 0, 0, 0, 0, 0, 0, 0, 0, 0, 0, 0, 0, 0, 0, 0, 0, 0, 0, 0, 0, 0, 0, 0, 0, 0, 0, 0, 0, 0, 0, 0, 0, 0, 0, 0, 0, 0, 0, 0, 0, 0, 0, 0, 0, 0, 0, 0, 0, 0, 0, 0, 0, 0, 0, 0, 0, 0, 0, 0, 0, 0, 0, 0, 0, 0, 0, 0, 0, 0, 0, 0, 0, 0, 0, 0, 0, 0, 0, 0, 0, 0, 0, 0, 0, 0, 0, 0, 0, 0, 0, 0, 0, 0, 0, 0, 0, 0, 0, 0, 0, 0, 0, 0, 0, 0, 0, 0, 0, 0, 0, 0, 0, 0, 0, 0, 0, 0, 0, 0, 0, 0, 0, 0, 0, 0, 0, 0, 0, 0, 0, 0, 0, 0, 0, 0, 0, 0, 0, 0, 0, 0, 0, 0, 0, 0, 0, 0, 0, 0, 0, 0, 0, 0, 0, 0, 0, 0, 0, 0, 0, 0, 0, 0, 0, 0, 0, 0, 0, 0, 0, 0, 0, 0, 0, 0, 0, 0, 0, 0, 0, 0, 0, 0, 0, 0, 0, 0, 0, 0, 0, 0, 0, 0, 0, 0, 0, 0, 0, 0, 0, 0, 0, 0, 0, 0, 0, 0, 0, 0, 0, 0, 0, 0, 0, 0, 0, 0, 0, 0, 0, 0, 1, 0, 0, 0, 0, 0, 0, 0, 0, 0, 0, 0, 0, 0, 0, 0, 0, 0, 0, 0, 0, 0, 0, 0, 0, 0, 0, 0, 0, 0, 0, 0, 0, 0, 0, 0, 0, 0, 0, 0, 0, 0, 0, 0, 0, 0, 0, 0, 0, 0, 0, 0, 0, 0, 0, 0, 0, 0, 0, 0, 0, 0, 0, 0, 0, 0, 0, 0, 0, 0, 0, 0, 0, 0, 0, 0, 0, 0, 0, 0, 0, 0, 0, 0, 0, 0, 0, 1, 0, 0, 0, 0, 0, 0, 0, 0, 0, 0, 0, 0, 0, 0, 0, 0, 0, 0, 0, 0, 0, 0, 0, 0, 0, 0, 0, 0, 0, 0, 0, 0, 0, 0, 0, 0, 0, 0, 0, 0, 0, 0, 0, 0, 0, 0, 0, 0, 0, 0, 0, 0, 0, 0, 0, 0, 0, 0, 0, 0, 0, 0, 0, 0, 0, 0, 0, 0, 0, 0, 0, 0, 0, 0, 0, 0, 0, 0, 0, 0, 0, 0, 0, 0, 0, 0, 0, 0, 0, 0, 0, 0, 0, 0, 0, 0, 0, 0, 0, 0, 0, 0, 0, 0, 0, 0, 0, 0, 0, 0, 0, 0, 0, 0, 0, 0, 0, 0, 0, 0, 0, 0, 0, 0, 0, 0, 0, 0, 0, 0, 0, 0, 0, 0, 0, 0, 0, 0, 0, 0, 0, 0, 0, 0, 0, 0, 0, 0, 0, 0, 0, 0, 0, 0, 0, 0, 0, 0, 0, 0, 0, 0, 0, 0, 0, 0, 0, 0, 0, 0, 0, 0, 0, 0, 0, 0, 0, 0, 0, 0, 0, 0, 0, 0, 0, 0, 0, 0, 0, 0, 0, 0, 0, 0, 0, 0, 0, 0, 0, 0, 0, 0, 0, 0, 0, 0, 0, 0, 0, 0, 0, 0, 0, 0, 0, 0, 0, 0, 0, 0, 0, 0, 0, 0, 0, 0, 0, 0, 0, 0, 0, 0, 0, 0, 0, 0, 0, 0, 0, 0, 0, 0, 0, 0, 0, 0, 0, 0, 0, 0, 0, 0, 1, 0, 0, 0, 0, 0, 0, 0, 0, 0, 0, 0, 0, 0, 0, 0, 0, 0, 0, 0, 0, 0, 0, 0, 0, 0, 0, 0, 0, 0, 0, 0, 0, 0, 0, 0, 0, 0, 0, 0, 0, 0, 0, 0, 0, 0, 0, 0, 0, 0, 0, 0, 0, 0, 0, 0, 1, 0, 0, 0, 0, 0, 0, 0, 0, 0, 0, 0, 0, 0, 0, 0, 0, 0, 0, 0, 0, 0, 0, 0, 0, 0, 0, 0, 0, 0, 0, 0, 0, 0, 0, 0, 0, 0, 0, 0, 0, 0, 0, 0, 0, 0, 0, 0, 0, 0, 0, 0, 0, 0, 0, 0, 0, 0, 0, 0, 0, 0, 0, 0, 0, 0, 0, 0, 0, 0, 0, 0, 0, 0, 0, 0, 0, 0, 0, 0, 0, 0, 0, 0, 0, 0, 0, 0, 0, 0, 0, 0, 0, 0, 0, 0, 0, 0, 0, 0, 0, 0, 0, 0, 0, 0, 0, 0, 0, 0, 0, 0, 0, 0, 0, 0, 0, 0, 0, 0, 0, 0, 0, 0, 0, 0, 0, 0, 0, 0, 0, 0, 0, 0, 0, 0, 0, 0, 0, 0, 0, 0, 0, 0, 0, 0, 0, 0, 0, 0, 0, 0, 0, 0, 0, 0, 0, 0, 0, 0, 0, 0, 0, 0, 0, 0, 0, 0, 0, 0, 0, 0, 0, 0, 0, 0, 0, 0, 0, 0, 0, 0, 0, 0, 0, 0, 0, 0, 0, 0, 0, 0, 0, 0, 0, 0, 0, 0, 0, 0, 0, 0, 0, 0, 0, 0, 0, 0, 0, 0, 0, 0, 0, 0, 0, 0, 0, 0, 0, 0, 0, 0, 0, 0, 0, 0, 0, 0, 0, 0, 0, 0, 0, 0, 0, 0, 0, 0, 0, 0, 0, 0, 0, 0, 0, 0, 0, 0, 0, 0, 0, 0, 0, 0, 0, 0, 0, 0, 0, 0, 0, 0, 0, 0, 0, 0, 0, 0, 0, 0, 0, 0, 0, 0, 0, 0, 0, 0, 0, 0, 0, 0, 0, 0, 0, 0, 0, 0, 0, 0, 0, 0, 0, 0, 0, 0, 0, 0, 0, 0, 0, 0, 0, 0, 0, 0, 0, 0, 0, 0, 0, 0, 0, 0, 0, 0, 0, 0, 0, 0, 0, 0, 0, 0, 0, 0, 0, 0, 0, 0, 0, 0, 0, 0, 0, 0, 0, 0, 0, 0, 0, 0, 0, 0, 0, 0, 0, 0, 0, 0, 0, 0, 0, 0, 0, 0, 0, 0, 0, 0, 0, 0, 0, 0, 0, 0, 0, 0, 0, 0, 0, 0, 0, 0, 0, 0, 0, 0, 0, 0, 0, 0, 0, 0, 0, 0, 0, 0, 0, 0, 0, 0, 0, 0, 0, 0, 0, 0, 0, 0, 0, 0, 0, 0, 0, 0, 0, 0, 0, 0, 0, 0, 0, 0, 0, 0, 0, 0, 0, 0, 0, 0, 0, 0, 0, 0, 0, 0, 0, 0, 0, 0, 0, 0, 0, 0, 0, 0, 0, 0, 0, 0, 0, 0, 0, 0, 0, 0, 0, 0, 0, 0, 0, 0, 0, 0, 0, 0, 0, 0, 0, 0, 0, 0, 0, 0, 0, 0, 0, 0, 0, 0, 0, 0, 0, 0, 0, 0, 0, 0, 0, 0, 0, 0, 0, 0, 0, 0, 0, 0, 0, 0, 0, 0, 0, 0, 0, 0, 0, 0, 0, 0, 0, 0, 0, 0, 0, 0, 0, 0, 0, 0, 0, 0, 0, 0, 0, 0, 0, 0, 0, 0, 0, 0, 0, 0, 0, 0, 0, 0, 0, 0, 0, 0, 0, 0, 0, 0, 0, 0, 0, 0, 0, 0, 0, 0, 0, 0, 0, 0, 0, 0, 0, 0, 0, 0, 0, 0, 0, 0, 0, 0, 0, 0, 0, 0, 0, 0, 0, 0, 0, 0, 0, 0, 0, 0, 0, 0, 0, 0, 0, 0, 0, 0, 0, 0, 0, 0, 0, 0, 0, 0, 0, 0, 0, 0, 0, 0, 0, 0, 0, 0, 0, 0, 0, 0, 0, 0, 0, 0, 0, 0, 0, 0, 0, 0, 0, 0, 0, 0, 0, 0, 0, 0, 0, 0, 0, 0, 0, 0, 0, 0, 0, 0, 0, 0, 0, 0, 0, 0, 0, 0, 0, 0, 0, 0, 0, 0, 0, 0, 0, 0, 0, 0, 0, 0, 0, 0, 0, 0, 0, 0, 0, 0, 0, 0, 0, 0, 0, 0, 0, 0, 0, 0, 0, 0, 0, 0, 0, 0, 0, 0, 1, 0, 0, 0, 0, 0, 0, 0, 0, 0, 0, 0, 0, 0, 0, 0, 0, 0, 0, 0, 0, 0, 0, 0, 0, 0, 0, 0, 0, 0, 0, 0, 0, 0, 0, 0, 0, 0, 0, 0, 0, 0, 0, 0, 0, 0, 0, 0, 0, 0, 0, 0, 0, 0, 0, 0, 0, 0, 0, 0, 0, 0, 0, 0, 0, 0, 0, 0, 0, 0, 0, 0, 0, 0, 0, 1, 0, 0, 0, 0, 0, 0, 0, 0, 0, 0, 0, 0, 0, 0, 0, 0, 0, 0, 0, 0, 1, 0, 0, 1, 0, 0, 0, 0, 0, 0, 0, 0, 0, 0, 0, 0, 0, 0, 0, 0, 0, 0, 0, 0, 0, 0, 0, 0, 0, 0, 0, 0, 0, 0, 0, 0, 0, 0, 0, 0, 0, 0, 0, 0, 0, 0, 0, 0, 0, 0, 0, 0, 0, 0, 0, 0, 0, 0, 0, 0, 0, 0, 0, 0, 0, 0, 0, 0, 0, 0, 0, 0, 0, 0, 0, 0, 0, 0, 0, 0, 0, 0, 0, 0, 0, 0, 0, 0, 0, 0, 0, 0, 0, 0, 0, 0, 0, 0, 0, 0, 0, 0, 0, 0, 0, 0, 0, 0, 0, 0, 0, 0, 0, 0, 0, 0, 0, 0, 0, 0, 0, 0, 0, 0, 0, 0, 0, 0, 0, 0, 0, 0, 0, 0, 0, 0, 0, 0, 0, 0, 0, 0, 0, 0, 0, 0, 0, 0, 0, 0, 0, 0, 0, 0, 0, 0, 0, 0, 0, 0, 0, 0, 0, 0, 0, 0, 0, 0, 0, 0, 0, 0, 0, 0, 0, 0, 0, 0, 0, 0, 0, 0, 0, 0, 0, 0, 0, 0, 0, 0, 0, 0, 0, 0, 0, 0, 0, 0, 0, 0, 0, 0, 0, 0, 0, 0, 0, 0, 0, 0, 0, 0, 0, 0, 0, 0, 0, 0, 0, 0, 0, 0, 0, 0, 0, 0, 0, 0, 0, 0, 0, 0, 0, 0, 0, 0, 0, 0, 0, 0, 0, 0, 0, 0, 0, 0, 0, 0, 0, 0, 0, 0, 0, 0, 0, 0, 0, 0, 0, 0, 0, 0, 0, 0, 0, 0, 0, 0, 0, 0, 0, 0, 0, 0, 0, 0, 0, 0, 0, 0, 0, 0, 0, 0, 0, 0, 0, 0, 0, 0, 0, 0, 0, 0, 0, 0, 0, 0, 0, 0, 0, 0, 0, 0, 0, 0, 0, 0, 0, 0, 0, 0, 0, 0, 0, 0, 0, 0, 0, 0, 0, 0, 0, 0, 0, 0, 0, 0, 0, 0, 0, 0, 0, 0, 0, 0, 0, 0, 0, 0, 0, 0, 0, 0, 0, 0, 0, 0, 0, 0, 0, 0, 0, 0, 0, 0, 0, 0, 0, 0, 0, 0, 0, 0, 0, 0, 0, 0, 0, 0, 0, 0, 0, 0, 0, 0, 0, 0, 0, 0, 0, 0, 0, 0, 0, 0, 0, 0, 0, 0, 0, 0, 0, 0, 0, 0, 0, 0, 0, 0, 0, 0, 0, 0, 0, 0, 0, 0, 0, 0, 0, 0, 0, 0, 0, 0, 0, 0, 0, 0, 0, 0, 0, 0, 0, 0, 0, 0, 0, 0, 0, 0, 0, 0, 0, 0, 0, 0, 0, 0, 0, 0, 0, 0, 0, 0, 0, 0, 0, 0, 0, 0, 0, 0, 0, 0, 0, 0, 0, 0, 0, 0, 0, 0, 0, 0, 0, 0, 0, 0, 1, 0, 0, 0, 0, 0, 0, 0, 0, 0, 0, 0, 0, 0, 0, 0, 0, 0, 0, 0, 0, 0, 0, 0, 0, 0, 0, 0, 0, 0, 0, 0, 0, 0, 0, 0, 0, 0, 0, 0, 0, 0, 0, 0, 0, 0, 0, 0, 0, 0, 0, 0, 0, 0, 0, 0, 0, 0, 0, 0, 0, 0, 0, 0, 0, 0, 0, 0, 0, 0, 0, 0, 0, 0, 0, 0, 0, 0, 0, 0, 0, 0, 0, 0, 0, 0, 0, 0, 0, 0, 0, 0, 0, 0, 0, 0, 0, 0, 0, 0, 0, 0, 0, 0, 0, 0, 0, 0, 0, 0, 0, 0, 0, 0, 0, 0, 0, 0, 0, 0, 0, 0, 0, 0, 0, 0, 0, 0, 0, 0, 0, 0, 0, 0, 0, 0, 0, 0, 0, 0, 0, 0, 0, 0, 0, 0, 0, 0, 0, 0, 0, 0, 0, 0, 0, 0, 0, 0, 0, 0, 0, 0, 0, 0, 0, 0, 0, 0, 0, 0, 0, 0, 0, 0, 0, 0, 0, 0, 0, 0, 0, 0, 0, 0, 0, 0, 0, 0, 0, 0, 0, 0, 0, 0, 0, 0, 0, 0, 0, 0, 0, 0, 0, 0, 0, 0, 0, 0, 0, 0, 0, 0, 0, 0, 0, 0, 0, 0, 0, 0, 0, 0, 0, 0, 0, 0, 0, 0, 0, 0, 0, 0, 0, 0, 0, 0, 0, 0, 0, 0, 0, 0, 0, 0, 0, 0, 0, 0, 0, 0, 0, 0, 0, 0, 0, 0, 0, 0, 0, 0, 0, 0, 0, 0, 0, 0, 0, 0, 0, 0, 0, 0, 0, 0, 0, 0, 0, 0, 0, 0, 0, 0, 0, 0, 0, 0, 0, 0, 0, 0, 0, 0, 0, 0, 0, 0, 0, 0, 0, 0, 0, 0, 0, 0, 0, 0, 0, 0, 0, 0, 0, 0, 0, 0, 0, 0, 0, 0, 0, 0, 0, 0, 0, 0, 0, 0, 0, 0, 0, 0, 0, 0, 0, 0, 0, 0, 0, 0, 0, 0, 0, 0, 0, 0, 0, 0, 0, 0, 0, 0, 0, 0, 0, 0, 0, 0, 0, 0, 0, 0, 0, 0, 0, 0, 0, 0, 0, 0, 0, 0, 0, 0, 0, 0, 0, 0, 0, 0, 0, 0, 0, 0, 0, 0, 0, 0, 0, 0, 0, 0, 0, 0, 0, 0, 0, 0, 0, 0, 0, 0, 0, 0, 0, 0, 0, 0, 0, 0, 0, 0, 0, 0, 0, 0, 0, 0, 0, 0, 0, 0, 0, 0, 0, 0, 0, 0, 0, 0, 0, 0, 0, 0, 0, 0, 0, 0, 0, 0, 0, 0, 0, 0, 0, 0, 0, 0, 0, 0, 0, 0, 0, 0, 0, 0, 0, 0, 0, 0, 0, 0, 0, 0, 0, 0, 0, 0, 0, 0, 0, 0, 0, 0, 0, 0, 0, 0, 0, 0, 0, 0, 0, 0, 0, 0, 0, 0, 0, 0, 0, 0, 0, 0, 0, 0, 0, 0, 0, 0, 0, 0, 0, 0, 0, 0, 0, 0, 0, 0, 0, 0, 0, 0, 0, 1, 0, 0, 0, 0, 0, 0, 0, 0, 0, 0, 0, 0, 0, 0, 0, 0, 0, 0, 0, 0, 0, 0, 0, 0, 0, 0, 0, 0, 0, 0, 0, 0, 0, 0, 0, 2, 0, 0, 0, 0, 0, 0, 0, 0, 0, 0, 0, 0, 0, 0, 0, 0, 0, 0, 0, 0, 0, 0, 0, 0, 0, 0, 0, 0, 0, 0, 0, 0, 0, 0, 0, 0, 0, 0, 0, 0, 1, 0, 0, 0, 0, 0, 0, 0, 0, 0, 0, 0, 0, 0, 0, 0, 0, 0, 0, 0, 0, 0, 0, 0, 0, 0, 0, 0, 0, 0, 0, 0, 0, 0, 0, 0, 0, 0, 0, 0, 0, 0, 0, 0, 0, 0, 0, 0, 0, 0, 0, 0, 0, 0, 0, 0, 0, 0, 0, 0, 0, 0, 0, 0, 0, 0, 0, 0, 0, 0, 0, 0, 0, 0, 0, 0, 0, 0, 0, 0, 0, 0, 0, 0, 0, 0, 0, 0, 0, 0, 0, 0, 0, 0, 0, 0, 0, 0, 0, 0, 0, 0, 0, 0, 0, 0, 0, 0, 0, 0, 0, 0, 0, 0, 0, 0, 0, 0, 0, 0, 0, 0, 0, 0, 0, 0, 0, 0, 0, 0, 0, 0, 0, 0, 0, 0, 0, 0, 0, 0, 0, 0, 0, 0, 0, 0, 0, 0, 0, 0, 0, 0, 0, 0, 0, 0, 0, 0, 0, 0, 0, 0, 0, 0, 0, 0, 0, 0, 0, 0, 0, 0, 0, 0, 0, 0, 0, 0, 0, 0, 0, 0, 0, 0, 0, 0, 0, 0, 0, 0, 0, 0, 0, 0, 0, 0, 0, 0, 0, 0, 0, 0, 0, 0, 0, 0, 0, 0, 0, 0, 0, 0, 0, 0, 0, 0, 0, 0, 0, 0, 0, 0, 0, 0, 0, 0, 0, 0, 0, 0, 0, 0, 0, 0, 0, 0, 0, 0, 0, 0, 0, 0, 0, 0, 0, 0, 0, 0, 0, 0, 0, 0, 0, 0, 0, 0, 0, 0, 0, 0, 0, 0, 0, 0, 0, 0, 0, 0, 0, 0, 0, 0, 0, 0, 0, 0, 0, 0, 0, 0, 0, 0, 0, 0, 0, 0, 0, 0, 0, 0, 0, 0, 0, 0, 0, 0, 0, 0, 0, 0, 0, 0, 0, 0, 0, 0, 0, 0, 0, 0, 0, 0, 0, 0, 0, 0, 0, 0, 0, 0, 0, 0, 0, 0, 0, 0, 0, 0, 0, 0, 0, 0, 0, 0, 0, 0, 0, 0, 0, 0, 0, 0, 0, 0, 0, 0, 0, 0, 0, 0, 0, 0, 0, 0, 0, 0, 0, 0, 0, 0, 0, 0, 0, 0, 0, 0, 0, 0, 0, 0, 0, 0, 0, 0, 0, 0, 0, 0, 0, 0, 0, 0, 0, 0, 0, 0, 0, 0, 0, 0, 0, 0, 0, 0, 0, 0, 0, 0, 0, 0, 0, 0, 0, 0, 0, 0, 0, 0, 0, 0, 0, 0, 0, 0, 0, 0, 0, 0, 0, 0, 0, 0, 0, 0, 0, 0, 0, 0, 0, 0, 0, 0, 0, 0, 0, 0, 0, 0, 0, 0, 0, 0, 0, 0, 0, 0, 0, 0, 0, 0, 0, 0, 0, 0, 0, 0, 0, 0, 0, 0, 0, 0, 0, 0, 0, 0, 0, 0, 0, 0, 0, 0, 0, 0, 0, 0, 0, 0, 0, 0, 0, 0, 0, 0, 0, 0, 0, 0, 0, 0, 0, 0, 0, 0, 0, 0, 0, 0, 1, 0, 0, 0, 0, 0, 0, 0, 0, 0, 0, 0, 0, 0, 0, 0, 0, 0, 0, 0, 0, 0, 0, 0, 0, 0, 0, 0, 0, 0, 0, 0, 0, 0, 0, 0, 0, 0, 0, 0, 0, 0, 0, 0, 0, 0, 0, 0, 0, 0, 0, 0, 0, 0, 0, 0, 0, 0, 0, 0, 0, 0, 0, 0, 0, 0, 0, 0, 0, 0, 0, 0, 0, 0, 0, 0, 0, 0, 0, 0, 0, 0, 0, 0, 0, 0, 0, 0, 0, 0, 0, 0, 0, 0, 0, 0, 0, 0, 0, 0, 0, 0, 0, 0, 0, 0, 0, 0, 0, 0, 0, 2, 0, 0, 0, 0, 0, 0, 0, 0, 0, 0, 0, 0, 0, 0, 0, 0, 0, 0, 0, 0, 0, 0, 0, 0, 0, 0, 0, 0, 0, 0, 0, 0, 0, 0, 0, 0, 0, 0, 0, 0, 0, 0, 0, 0, 0, 0, 0, 0, 0, 0, 0, 0, 0, 0, 0, 0, 0, 0, 0, 0, 0, 0, 0, 0, 0, 0, 0, 0, 0, 0, 0, 0, 0, 0, 0, 0, 0, 0, 0, 0, 0, 0, 0, 0, 0, 0, 0, 0, 0, 0, 0, 0, 0, 0, 0, 0, 0, 0, 0, 0, 0, 0, 0, 0, 0, 0, 0, 0, 0, 0, 0, 0, 0, 0, 0, 0, 0, 0, 0, 0, 0, 0, 0, 0, 0, 0, 0, 0, 0, 0, 0, 0, 0, 0, 0, 0, 0, 0, 0, 0, 0, 0, 0, 0, 0, 0, 0, 0, 0, 0, 0, 0, 0, 0, 0, 0, 0, 0, 0, 0, 0, 0, 0, 0, 0, 0, 0, 0, 0, 0, 0, 0, 0, 0, 0, 0, 0, 0, 0, 0, 0, 0, 0, 0, 0, 0, 0, 0, 0, 0, 0, 0, 0, 0, 0, 0, 0, 0, 0, 0, 0, 0, 0, 0, 0, 0, 0, 0, 0, 0, 0, 0, 0, 0, 0, 0, 0, 0, 0, 0, 0, 0, 0, 0, 0, 0, 0, 0, 0, 0, 0, 0, 0, 0, 0, 0, 0, 0, 0, 0, 0, 0, 0, 0, 0, 0, 0, 0, 0, 0, 0, 0, 0, 0, 0, 0, 0, 0, 0, 0, 0, 0, 0, 0, 0, 0, 0, 0, 0, 0, 0, 0, 0, 0, 0, 0, 0, 0, 0, 0, 0, 0, 0, 0, 0, 0, 0, 0, 0, 0, 0, 0, 0, 0, 0, 0, 0, 0, 0, 0, 0, 0, 0, 0, 0, 0, 0, 0, 0, 0, 0, 0, 0, 0, 0, 0, 0, 0, 0, 0, 0, 0, 0, 0, 0, 0, 0, 0, 0, 0, 0, 0, 0, 0, 0, 0, 0, 0, 0, 0, 0, 0, 0, 0, 0, 0, 0, 0, 0, 0, 0, 0, 0, 0, 0, 0, 0, 0, 0, 0, 0, 0, 0, 0, 0, 0, 0, 0, 0, 0, 0, 0, 0, 0, 0, 0, 0, 0, 0, 0, 0, 0, 0, 0, 0, 0, 0, 0, 0, 0, 0, 0, 0, 0, 0, 0, 0, 0, 0, 0, 0, 0, 0, 0, 0, 0, 0, 0, 0, 0, 0, 0, 0, 0, 0, 0, 0, 0, 0, 0, 0, 0, 0, 0, 0, 0, 0, 0, 0, 0, 0, 0, 0, 0, 0, 0, 0, 0, 0, 0, 0, 0, 0, 0, 0, 0, 0, 0, 0, 0, 0, 0, 0, 0, 0, 0, 0, 0, 0, 0, 0, 0, 0, 0, 0, 0, 0, 0, 0, 0, 0, 0, 0, 0, 0, 0, 0, 0, 0, 0, 0, 0, 0, 0, 0, 0, 0, 0, 0, 0, 0, 0, 0, 0, 0, 0, 0, 0, 0, 0, 0, 0, 0, 0, 0, 0, 0, 0, 0, 0, 0, 0, 0, 0, 0, 0, 0, 0, 0, 0, 0, 0, 0, 0, 0, 0, 0, 0, 0, 0, 0, 0, 0, 0, 0, 0, 0, 0, 0, 0, 0, 0, 0, 0, 0, 0, 0, 0, 0, 0, 0, 0, 0, 0, 0, 0, 0, 0, 0, 0, 0, 0, 0, 0, 0, 0, 0, 0, 0, 0, 0, 0, 0, 0, 0, 0, 0, 0, 0, 0, 0, 0, 0, 0, 0, 0, 0, 0, 0, 0, 0, 0, 0, 0, 0, 0, 0, 0, 0, 0, 0, 0, 0, 0, 0, 0, 0, 0, 0, 0, 0, 0, 0, 0, 0, 0, 0, 0, 0, 0, 0, 0, 0, 0, 0, 0, 0, 0, 0, 0, 0, 0, 0, 0, 0, 0, 0, 0, 0, 0, 0, 0, 0, 0, 0, 0, 0, 0, 0, 0, 0, 0, 0, 0, 0, 0, 0, 0, 0, 0, 0, 0, 0, 0, 0, 0, 0, 0, 0, 0, 0, 0, 0, 0, 0, 0, 0, 0, 0, 0, 0, 0, 0, 0, 0, 0, 0, 0, 0, 0, 1, 0, 0, 0, 0, 0, 0, 0, 0, 0, 0, 0, 0, 0, 0, 0, 0, 0, 0, 0, 0, 0, 0, 0, 0, 0, 0, 0, 0, 0, 0, 0, 0, 0, 0, 0, 0, 0, 0, 0, 0, 0, 0, 0, 0, 0, 0, 0, 0, 0, 0, 0, 0, 0, 0, 0, 0, 0, 0, 0, 0, 0, 0, 0, 0, 0, 0, 0, 0, 0, 0, 0, 0, 0, 0, 0, 0, 0, 0, 0, 0, 0, 0, 0, 0, 0, 0, 0, 0, 0, 0, 0, 0, 0, 0, 0, 0, 0, 0, 0, 0, 0, 0, 0, 0, 0, 0, 0, 1, 0, 0, 0, 0, 0, 0, 0, 0, 0, 0, 0, 0, 0, 0, 0, 0, 0, 0, 0, 0, 0, 0, 0, 0, 0, 0, 0, 0, 0, 0, 0, 0, 0, 0, 0, 0, 0, 0, 0, 0, 0, 0, 0, 0, 0, 0, 0, 0, 0, 0, 0, 0, 0, 0, 0, 0, 0, 0, 0, 0, 0, 0, 0, 0, 0, 0, 0, 0, 0, 0, 0, 0, 0, 0, 0, 0, 0, 0, 0, 0, 0, 0, 0, 0, 0, 0, 0, 0, 0, 0, 0, 0, 0, 0, 0, 0, 0, 0, 0, 0, 0, 0, 0, 0, 0, 0, 0, 0, 0, 0, 0, 0, 0, 0, 0, 0, 0, 0, 0, 0, 0, 0, 0, 0, 0, 0, 0, 0, 0, 0, 0, 0, 0, 0, 0, 0, 0, 0, 0, 0, 0, 0, 0, 0, 0, 0, 0, 0, 0, 0, 0, 0, 0, 0, 0, 0, 0, 0, 0, 0, 0, 0, 0, 0, 0, 0, 0, 0, 0, 0, 0, 0, 0, 0, 0, 0, 0, 0, 0, 0, 0, 0, 0, 0, 0, 0, 0, 0, 0, 0, 0, 0, 0, 0, 0, 0, 0, 0, 0, 0, 0, 0, 0, 0, 0, 0, 0, 0, 0, 0, 0, 0, 0, 0, 0, 0, 0, 0, 0, 0, 0, 0, 0, 0, 0, 0, 0, 0, 0, 0, 0, 0, 0, 0, 0, 0, 0, 0, 0, 0, 0, 0, 0, 0, 0, 0, 0, 0, 0, 0, 0, 0, 0, 0, 0, 0, 0, 0, 0, 0, 0, 0, 0, 0, 0, 0, 0, 0, 0, 0, 0, 0, 0, 0, 0, 0, 0, 0, 0, 0, 0, 0, 0, 0, 0, 0, 0, 0, 0, 0, 0, 0, 0, 0, 0, 0, 0, 0, 0, 0, 0, 0, 0, 0, 0, 0, 0, 0, 0, 0, 0, 0, 0, 0, 0, 0, 0, 0, 0, 0, 0, 0, 0, 0, 0, 0, 0, 0, 0, 0, 0, 0, 0, 0, 0, 0, 0, 0, 0, 0, 0, 0, 0, 0, 0, 0, 0, 0, 0, 0, 0, 0, 0, 0, 0, 0, 0, 0, 0, 0, 0, 0, 0, 0, 0, 0, 0, 0, 0, 0, 0, 0, 0, 0, 0, 0, 0, 0, 0, 0, 0, 0, 0, 0, 0, 0, 0, 0, 0, 0, 0, 0, 0, 0, 0, 0, 0, 0, 0, 0, 0, 0, 0, 0, 0, 0, 0, 0, 0, 0, 0, 0, 0, 0, 0, 0, 0, 0, 0, 0, 0, 0, 0, 0, 0, 0, 0, 0, 0, 0, 0, 0, 0, 0, 0, 0, 0, 0, 0, 0, 0, 0, 0, 0, 0, 0, 0, 0, 0, 0, 0, 0, 0, 0, 0, 0, 0, 0, 0, 0, 0, 0, 0, 2, 0, 1, 0], type: <class 'list'>, valid types: <class 'bytes'>, <class 'bytearray'>, file-like object",
     "output_type": "error",
     "traceback": [
      "\u001b[0;31m---------------------------------------------------------------------------\u001b[0m",
      "\u001b[0;31mParamValidationError\u001b[0m                      Traceback (most recent call last)",
      "\u001b[0;32m<ipython-input-45-c9ab54ae3a48>\u001b[0m in \u001b[0;36m<module>\u001b[0;34m\u001b[0m\n\u001b[1;32m      1\u001b[0m response = runtime.invoke_endpoint(EndpointName = xgb_predictor.endpoint, # The name of the endpoint we created\n\u001b[1;32m      2\u001b[0m                                        \u001b[0mContentType\u001b[0m \u001b[0;34m=\u001b[0m \u001b[0;34m'text/csv'\u001b[0m\u001b[0;34m,\u001b[0m                     \u001b[0;31m# The data format that is expected\u001b[0m\u001b[0;34m\u001b[0m\u001b[0;34m\u001b[0m\u001b[0m\n\u001b[0;32m----> 3\u001b[0;31m                                        Body = test_bow)\n\u001b[0m",
      "\u001b[0;32m~/anaconda3/envs/pytorch_p36/lib/python3.6/site-packages/botocore/client.py\u001b[0m in \u001b[0;36m_api_call\u001b[0;34m(self, *args, **kwargs)\u001b[0m\n\u001b[1;32m    355\u001b[0m                     \"%s() only accepts keyword arguments.\" % py_operation_name)\n\u001b[1;32m    356\u001b[0m             \u001b[0;31m# The \"self\" in this scope is referring to the BaseClient.\u001b[0m\u001b[0;34m\u001b[0m\u001b[0;34m\u001b[0m\u001b[0;34m\u001b[0m\u001b[0m\n\u001b[0;32m--> 357\u001b[0;31m             \u001b[0;32mreturn\u001b[0m \u001b[0mself\u001b[0m\u001b[0;34m.\u001b[0m\u001b[0m_make_api_call\u001b[0m\u001b[0;34m(\u001b[0m\u001b[0moperation_name\u001b[0m\u001b[0;34m,\u001b[0m \u001b[0mkwargs\u001b[0m\u001b[0;34m)\u001b[0m\u001b[0;34m\u001b[0m\u001b[0;34m\u001b[0m\u001b[0m\n\u001b[0m\u001b[1;32m    358\u001b[0m \u001b[0;34m\u001b[0m\u001b[0m\n\u001b[1;32m    359\u001b[0m         \u001b[0m_api_call\u001b[0m\u001b[0;34m.\u001b[0m\u001b[0m__name__\u001b[0m \u001b[0;34m=\u001b[0m \u001b[0mstr\u001b[0m\u001b[0;34m(\u001b[0m\u001b[0mpy_operation_name\u001b[0m\u001b[0;34m)\u001b[0m\u001b[0;34m\u001b[0m\u001b[0;34m\u001b[0m\u001b[0m\n",
      "\u001b[0;32m~/anaconda3/envs/pytorch_p36/lib/python3.6/site-packages/botocore/client.py\u001b[0m in \u001b[0;36m_make_api_call\u001b[0;34m(self, operation_name, api_params)\u001b[0m\n\u001b[1;32m    647\u001b[0m         }\n\u001b[1;32m    648\u001b[0m         request_dict = self._convert_to_request_dict(\n\u001b[0;32m--> 649\u001b[0;31m             api_params, operation_model, context=request_context)\n\u001b[0m\u001b[1;32m    650\u001b[0m \u001b[0;34m\u001b[0m\u001b[0m\n\u001b[1;32m    651\u001b[0m         \u001b[0mservice_id\u001b[0m \u001b[0;34m=\u001b[0m \u001b[0mself\u001b[0m\u001b[0;34m.\u001b[0m\u001b[0m_service_model\u001b[0m\u001b[0;34m.\u001b[0m\u001b[0mservice_id\u001b[0m\u001b[0;34m.\u001b[0m\u001b[0mhyphenize\u001b[0m\u001b[0;34m(\u001b[0m\u001b[0;34m)\u001b[0m\u001b[0;34m\u001b[0m\u001b[0;34m\u001b[0m\u001b[0m\n",
      "\u001b[0;32m~/anaconda3/envs/pytorch_p36/lib/python3.6/site-packages/botocore/client.py\u001b[0m in \u001b[0;36m_convert_to_request_dict\u001b[0;34m(self, api_params, operation_model, context)\u001b[0m\n\u001b[1;32m    695\u001b[0m             api_params, operation_model, context)\n\u001b[1;32m    696\u001b[0m         request_dict = self._serializer.serialize_to_request(\n\u001b[0;32m--> 697\u001b[0;31m             api_params, operation_model)\n\u001b[0m\u001b[1;32m    698\u001b[0m         \u001b[0;32mif\u001b[0m \u001b[0;32mnot\u001b[0m \u001b[0mself\u001b[0m\u001b[0;34m.\u001b[0m\u001b[0m_client_config\u001b[0m\u001b[0;34m.\u001b[0m\u001b[0minject_host_prefix\u001b[0m\u001b[0;34m:\u001b[0m\u001b[0;34m\u001b[0m\u001b[0;34m\u001b[0m\u001b[0m\n\u001b[1;32m    699\u001b[0m             \u001b[0mrequest_dict\u001b[0m\u001b[0;34m.\u001b[0m\u001b[0mpop\u001b[0m\u001b[0;34m(\u001b[0m\u001b[0;34m'host_prefix'\u001b[0m\u001b[0;34m,\u001b[0m \u001b[0;32mNone\u001b[0m\u001b[0;34m)\u001b[0m\u001b[0;34m\u001b[0m\u001b[0;34m\u001b[0m\u001b[0m\n",
      "\u001b[0;32m~/anaconda3/envs/pytorch_p36/lib/python3.6/site-packages/botocore/validate.py\u001b[0m in \u001b[0;36mserialize_to_request\u001b[0;34m(self, parameters, operation_model)\u001b[0m\n\u001b[1;32m    295\u001b[0m                                                     operation_model.input_shape)\n\u001b[1;32m    296\u001b[0m             \u001b[0;32mif\u001b[0m \u001b[0mreport\u001b[0m\u001b[0;34m.\u001b[0m\u001b[0mhas_errors\u001b[0m\u001b[0;34m(\u001b[0m\u001b[0;34m)\u001b[0m\u001b[0;34m:\u001b[0m\u001b[0;34m\u001b[0m\u001b[0;34m\u001b[0m\u001b[0m\n\u001b[0;32m--> 297\u001b[0;31m                 \u001b[0;32mraise\u001b[0m \u001b[0mParamValidationError\u001b[0m\u001b[0;34m(\u001b[0m\u001b[0mreport\u001b[0m\u001b[0;34m=\u001b[0m\u001b[0mreport\u001b[0m\u001b[0;34m.\u001b[0m\u001b[0mgenerate_report\u001b[0m\u001b[0;34m(\u001b[0m\u001b[0;34m)\u001b[0m\u001b[0;34m)\u001b[0m\u001b[0;34m\u001b[0m\u001b[0;34m\u001b[0m\u001b[0m\n\u001b[0m\u001b[1;32m    298\u001b[0m         return self._serializer.serialize_to_request(parameters,\n\u001b[1;32m    299\u001b[0m                                                      operation_model)\n",
      "\u001b[0;31mParamValidationError\u001b[0m: Parameter validation failed:\nInvalid type for parameter Body, value: [0, 0, 0, 0, 0, 0, 0, 0, 0, 0, 0, 0, 0, 0, 0, 0, 0, 0, 0, 0, 0, 0, 0, 0, 0, 0, 0, 0, 0, 0, 0, 0, 0, 0, 0, 0, 0, 0, 0, 0, 0, 0, 0, 0, 0, 0, 0, 0, 0, 0, 0, 0, 0, 0, 0, 0, 0, 0, 0, 0, 0, 0, 0, 0, 0, 0, 0, 0, 0, 0, 0, 0, 0, 0, 0, 0, 0, 0, 0, 0, 0, 0, 0, 0, 0, 0, 0, 0, 0, 0, 0, 0, 0, 0, 0, 0, 0, 0, 0, 0, 0, 0, 0, 0, 0, 0, 0, 0, 0, 0, 0, 0, 0, 0, 0, 0, 0, 0, 0, 0, 0, 0, 0, 0, 0, 0, 0, 0, 0, 0, 0, 0, 0, 0, 0, 0, 0, 0, 0, 0, 0, 0, 0, 0, 0, 0, 0, 0, 0, 0, 0, 0, 0, 0, 0, 0, 0, 0, 0, 0, 0, 0, 0, 0, 0, 0, 0, 0, 0, 0, 0, 0, 0, 0, 0, 0, 0, 0, 0, 0, 0, 0, 0, 0, 0, 0, 0, 0, 0, 0, 0, 0, 0, 0, 0, 0, 0, 0, 0, 0, 0, 0, 0, 0, 0, 0, 0, 0, 0, 0, 0, 0, 0, 0, 0, 0, 0, 0, 0, 0, 0, 0, 0, 0, 0, 0, 1, 0, 0, 0, 0, 0, 0, 0, 0, 0, 0, 0, 0, 0, 0, 0, 0, 0, 0, 0, 0, 0, 0, 0, 0, 0, 0, 0, 0, 0, 1, 0, 0, 0, 0, 0, 0, 0, 0, 0, 0, 0, 0, 0, 0, 0, 0, 0, 0, 0, 0, 0, 0, 0, 0, 0, 0, 0, 0, 0, 0, 0, 0, 0, 0, 0, 0, 0, 0, 0, 0, 0, 0, 0, 0, 0, 0, 0, 0, 0, 0, 0, 0, 0, 0, 0, 0, 0, 0, 0, 0, 0, 0, 0, 0, 0, 0, 0, 0, 0, 0, 0, 0, 0, 0, 0, 0, 0, 0, 0, 0, 0, 0, 0, 0, 0, 0, 0, 0, 0, 0, 0, 0, 0, 0, 0, 0, 0, 0, 0, 0, 0, 0, 0, 0, 0, 0, 0, 0, 0, 0, 0, 0, 0, 0, 0, 0, 0, 0, 0, 0, 0, 0, 0, 0, 0, 0, 0, 0, 0, 0, 0, 0, 0, 0, 0, 0, 0, 0, 0, 0, 0, 0, 0, 0, 0, 0, 0, 0, 0, 0, 0, 0, 0, 0, 0, 0, 0, 0, 0, 0, 0, 0, 0, 0, 0, 0, 0, 0, 0, 0, 0, 0, 0, 0, 0, 0, 0, 0, 0, 0, 0, 0, 0, 0, 0, 0, 0, 0, 0, 0, 0, 0, 0, 0, 0, 0, 0, 0, 0, 0, 0, 0, 0, 0, 0, 0, 0, 0, 0, 0, 0, 0, 0, 0, 0, 0, 0, 0, 0, 0, 0, 0, 0, 0, 0, 0, 0, 0, 0, 0, 0, 0, 0, 0, 0, 0, 0, 0, 0, 0, 0, 0, 0, 0, 0, 0, 0, 0, 0, 0, 0, 0, 0, 0, 0, 0, 0, 0, 0, 0, 0, 0, 0, 0, 0, 0, 0, 0, 0, 0, 0, 0, 0, 0, 0, 0, 0, 0, 0, 0, 0, 0, 0, 0, 0, 0, 0, 0, 0, 0, 0, 0, 0, 0, 0, 0, 0, 0, 0, 0, 0, 0, 0, 0, 0, 0, 0, 0, 0, 0, 0, 0, 0, 0, 0, 0, 0, 0, 0, 0, 0, 0, 0, 0, 0, 0, 0, 0, 0, 0, 0, 0, 0, 0, 0, 0, 0, 0, 0, 0, 0, 0, 0, 0, 0, 0, 0, 0, 0, 0, 0, 0, 0, 0, 0, 0, 0, 0, 0, 0, 0, 0, 0, 0, 0, 0, 0, 0, 0, 0, 0, 0, 0, 0, 0, 0, 0, 0, 0, 1, 0, 0, 0, 0, 0, 0, 0, 0, 0, 0, 0, 0, 0, 0, 0, 0, 0, 0, 0, 0, 0, 0, 0, 0, 0, 0, 0, 0, 0, 0, 0, 0, 0, 0, 0, 0, 0, 0, 0, 0, 0, 0, 0, 0, 0, 0, 0, 0, 0, 0, 0, 0, 0, 0, 0, 0, 0, 0, 0, 0, 0, 0, 0, 0, 0, 0, 0, 0, 0, 0, 0, 0, 0, 0, 0, 0, 0, 0, 0, 0, 0, 0, 0, 0, 0, 0, 0, 0, 0, 0, 0, 0, 0, 0, 0, 0, 0, 0, 0, 0, 0, 0, 0, 0, 0, 0, 0, 0, 0, 0, 0, 0, 0, 0, 0, 0, 0, 0, 0, 0, 0, 0, 0, 0, 0, 0, 0, 0, 0, 0, 0, 0, 0, 0, 0, 0, 0, 0, 0, 0, 0, 0, 0, 0, 0, 0, 0, 0, 0, 0, 0, 0, 0, 0, 0, 0, 0, 0, 0, 0, 0, 0, 0, 0, 0, 0, 0, 0, 0, 0, 0, 0, 0, 0, 0, 0, 0, 0, 0, 0, 0, 0, 0, 0, 0, 0, 0, 0, 0, 0, 0, 0, 0, 0, 0, 0, 0, 0, 0, 0, 0, 0, 0, 0, 0, 0, 0, 0, 0, 0, 0, 0, 0, 0, 0, 0, 0, 0, 0, 0, 0, 0, 0, 0, 0, 0, 0, 0, 0, 0, 0, 0, 0, 0, 0, 0, 0, 0, 0, 0, 0, 0, 0, 0, 0, 0, 0, 0, 0, 0, 0, 0, 0, 1, 0, 0, 0, 0, 0, 0, 0, 0, 0, 0, 0, 0, 0, 0, 0, 0, 0, 0, 0, 0, 0, 0, 0, 0, 0, 0, 0, 0, 0, 0, 0, 0, 0, 0, 0, 0, 0, 0, 0, 0, 0, 0, 0, 0, 0, 0, 0, 0, 0, 0, 0, 0, 0, 0, 0, 0, 0, 0, 0, 0, 0, 0, 0, 0, 0, 0, 0, 0, 0, 0, 0, 0, 0, 0, 0, 0, 0, 0, 0, 0, 0, 0, 0, 0, 0, 0, 1, 0, 0, 0, 0, 0, 0, 0, 0, 0, 0, 0, 0, 0, 0, 0, 0, 0, 0, 0, 0, 0, 0, 0, 0, 0, 0, 0, 0, 0, 0, 0, 0, 0, 0, 0, 0, 0, 0, 0, 0, 0, 0, 0, 0, 0, 0, 0, 0, 0, 0, 0, 0, 0, 0, 0, 0, 0, 0, 0, 0, 0, 0, 0, 0, 0, 0, 0, 0, 0, 0, 0, 0, 0, 0, 0, 0, 0, 0, 0, 0, 0, 0, 0, 0, 0, 0, 0, 0, 0, 0, 0, 0, 0, 0, 0, 0, 0, 0, 0, 0, 0, 0, 0, 0, 0, 0, 0, 0, 0, 0, 0, 0, 0, 0, 0, 0, 0, 0, 0, 0, 0, 0, 0, 0, 0, 0, 0, 0, 0, 0, 0, 0, 0, 0, 0, 0, 0, 0, 0, 0, 0, 0, 0, 0, 0, 0, 0, 0, 0, 0, 0, 0, 0, 0, 0, 0, 0, 0, 0, 0, 0, 0, 0, 0, 0, 0, 0, 0, 0, 0, 0, 0, 0, 0, 0, 0, 0, 0, 0, 0, 0, 0, 0, 0, 0, 0, 0, 0, 0, 0, 0, 0, 0, 0, 0, 0, 0, 0, 0, 0, 0, 0, 0, 0, 0, 0, 0, 0, 0, 0, 0, 0, 0, 0, 0, 0, 0, 0, 0, 0, 0, 0, 0, 0, 0, 0, 0, 0, 0, 0, 0, 0, 0, 0, 0, 0, 0, 0, 0, 0, 0, 0, 0, 0, 0, 0, 0, 0, 0, 0, 0, 0, 1, 0, 0, 0, 0, 0, 0, 0, 0, 0, 0, 0, 0, 0, 0, 0, 0, 0, 0, 0, 0, 0, 0, 0, 0, 0, 0, 0, 0, 0, 0, 0, 0, 0, 0, 0, 0, 0, 0, 0, 0, 0, 0, 0, 0, 0, 0, 0, 0, 0, 0, 0, 0, 0, 0, 0, 1, 0, 0, 0, 0, 0, 0, 0, 0, 0, 0, 0, 0, 0, 0, 0, 0, 0, 0, 0, 0, 0, 0, 0, 0, 0, 0, 0, 0, 0, 0, 0, 0, 0, 0, 0, 0, 0, 0, 0, 0, 0, 0, 0, 0, 0, 0, 0, 0, 0, 0, 0, 0, 0, 0, 0, 0, 0, 0, 0, 0, 0, 0, 0, 0, 0, 0, 0, 0, 0, 0, 0, 0, 0, 0, 0, 0, 0, 0, 0, 0, 0, 0, 0, 0, 0, 0, 0, 0, 0, 0, 0, 0, 0, 0, 0, 0, 0, 0, 0, 0, 0, 0, 0, 0, 0, 0, 0, 0, 0, 0, 0, 0, 0, 0, 0, 0, 0, 0, 0, 0, 0, 0, 0, 0, 0, 0, 0, 0, 0, 0, 0, 0, 0, 0, 0, 0, 0, 0, 0, 0, 0, 0, 0, 0, 0, 0, 0, 0, 0, 0, 0, 0, 0, 0, 0, 0, 0, 0, 0, 0, 0, 0, 0, 0, 0, 0, 0, 0, 0, 0, 0, 0, 0, 0, 0, 0, 0, 0, 0, 0, 0, 0, 0, 0, 0, 0, 0, 0, 0, 0, 0, 0, 0, 0, 0, 0, 0, 0, 0, 0, 0, 0, 0, 0, 0, 0, 0, 0, 0, 0, 0, 0, 0, 0, 0, 0, 0, 0, 0, 0, 0, 0, 0, 0, 0, 0, 0, 0, 0, 0, 0, 0, 0, 0, 0, 0, 0, 0, 0, 0, 0, 0, 0, 0, 0, 0, 0, 0, 0, 0, 0, 0, 0, 0, 0, 0, 0, 0, 0, 0, 0, 0, 0, 0, 0, 0, 0, 0, 0, 0, 0, 0, 0, 0, 0, 0, 0, 0, 0, 0, 0, 0, 0, 0, 0, 0, 0, 0, 0, 0, 0, 0, 0, 0, 0, 0, 0, 0, 0, 0, 0, 0, 0, 0, 0, 0, 0, 0, 0, 0, 0, 0, 0, 0, 0, 0, 0, 0, 0, 0, 0, 0, 0, 0, 0, 0, 0, 0, 0, 0, 0, 0, 0, 0, 0, 0, 0, 0, 0, 0, 0, 0, 0, 0, 0, 0, 0, 0, 0, 0, 0, 0, 0, 0, 0, 0, 0, 0, 0, 0, 0, 0, 0, 0, 0, 0, 0, 0, 0, 0, 0, 0, 0, 0, 0, 0, 0, 0, 0, 0, 0, 0, 0, 0, 0, 0, 0, 0, 0, 0, 0, 0, 0, 0, 0, 0, 0, 0, 0, 0, 0, 0, 0, 0, 0, 0, 0, 0, 0, 0, 0, 0, 0, 0, 0, 0, 0, 0, 0, 0, 0, 0, 0, 0, 0, 0, 0, 0, 0, 0, 0, 0, 0, 0, 0, 0, 0, 0, 0, 0, 0, 0, 0, 0, 0, 0, 0, 0, 0, 0, 0, 0, 0, 0, 0, 0, 0, 0, 0, 0, 0, 0, 0, 0, 0, 0, 0, 0, 0, 0, 0, 0, 0, 0, 0, 0, 0, 0, 0, 0, 0, 0, 0, 0, 0, 0, 0, 0, 0, 0, 0, 0, 0, 0, 0, 0, 0, 0, 0, 0, 0, 0, 0, 0, 0, 0, 0, 0, 0, 0, 0, 0, 0, 0, 0, 0, 0, 0, 0, 0, 0, 0, 0, 0, 0, 0, 0, 0, 0, 0, 0, 0, 0, 0, 0, 0, 0, 0, 0, 0, 0, 0, 0, 0, 0, 0, 0, 0, 0, 0, 0, 0, 0, 0, 0, 0, 0, 0, 0, 0, 0, 0, 0, 0, 0, 0, 0, 0, 0, 0, 0, 0, 0, 0, 0, 0, 0, 0, 0, 0, 0, 0, 0, 0, 0, 0, 0, 0, 0, 0, 0, 0, 0, 0, 0, 0, 0, 0, 0, 0, 0, 0, 0, 0, 0, 0, 0, 0, 0, 0, 0, 0, 0, 0, 0, 0, 0, 0, 0, 0, 0, 0, 0, 0, 0, 0, 0, 0, 0, 0, 0, 0, 0, 0, 0, 0, 0, 0, 0, 0, 0, 0, 0, 0, 0, 0, 0, 0, 0, 0, 0, 0, 0, 0, 0, 0, 0, 0, 0, 0, 0, 0, 0, 0, 0, 0, 0, 0, 0, 0, 0, 0, 0, 0, 0, 0, 0, 0, 0, 0, 0, 1, 0, 0, 0, 0, 0, 0, 0, 0, 0, 0, 0, 0, 0, 0, 0, 0, 0, 0, 0, 0, 0, 0, 0, 0, 0, 0, 0, 0, 0, 0, 0, 0, 0, 0, 0, 0, 0, 0, 0, 0, 0, 0, 0, 0, 0, 0, 0, 0, 0, 0, 0, 0, 0, 0, 0, 0, 0, 0, 0, 0, 0, 0, 0, 0, 0, 0, 0, 0, 0, 0, 0, 0, 0, 0, 1, 0, 0, 0, 0, 0, 0, 0, 0, 0, 0, 0, 0, 0, 0, 0, 0, 0, 0, 0, 0, 1, 0, 0, 1, 0, 0, 0, 0, 0, 0, 0, 0, 0, 0, 0, 0, 0, 0, 0, 0, 0, 0, 0, 0, 0, 0, 0, 0, 0, 0, 0, 0, 0, 0, 0, 0, 0, 0, 0, 0, 0, 0, 0, 0, 0, 0, 0, 0, 0, 0, 0, 0, 0, 0, 0, 0, 0, 0, 0, 0, 0, 0, 0, 0, 0, 0, 0, 0, 0, 0, 0, 0, 0, 0, 0, 0, 0, 0, 0, 0, 0, 0, 0, 0, 0, 0, 0, 0, 0, 0, 0, 0, 0, 0, 0, 0, 0, 0, 0, 0, 0, 0, 0, 0, 0, 0, 0, 0, 0, 0, 0, 0, 0, 0, 0, 0, 0, 0, 0, 0, 0, 0, 0, 0, 0, 0, 0, 0, 0, 0, 0, 0, 0, 0, 0, 0, 0, 0, 0, 0, 0, 0, 0, 0, 0, 0, 0, 0, 0, 0, 0, 0, 0, 0, 0, 0, 0, 0, 0, 0, 0, 0, 0, 0, 0, 0, 0, 0, 0, 0, 0, 0, 0, 0, 0, 0, 0, 0, 0, 0, 0, 0, 0, 0, 0, 0, 0, 0, 0, 0, 0, 0, 0, 0, 0, 0, 0, 0, 0, 0, 0, 0, 0, 0, 0, 0, 0, 0, 0, 0, 0, 0, 0, 0, 0, 0, 0, 0, 0, 0, 0, 0, 0, 0, 0, 0, 0, 0, 0, 0, 0, 0, 0, 0, 0, 0, 0, 0, 0, 0, 0, 0, 0, 0, 0, 0, 0, 0, 0, 0, 0, 0, 0, 0, 0, 0, 0, 0, 0, 0, 0, 0, 0, 0, 0, 0, 0, 0, 0, 0, 0, 0, 0, 0, 0, 0, 0, 0, 0, 0, 0, 0, 0, 0, 0, 0, 0, 0, 0, 0, 0, 0, 0, 0, 0, 0, 0, 0, 0, 0, 0, 0, 0, 0, 0, 0, 0, 0, 0, 0, 0, 0, 0, 0, 0, 0, 0, 0, 0, 0, 0, 0, 0, 0, 0, 0, 0, 0, 0, 0, 0, 0, 0, 0, 0, 0, 0, 0, 0, 0, 0, 0, 0, 0, 0, 0, 0, 0, 0, 0, 0, 0, 0, 0, 0, 0, 0, 0, 0, 0, 0, 0, 0, 0, 0, 0, 0, 0, 0, 0, 0, 0, 0, 0, 0, 0, 0, 0, 0, 0, 0, 0, 0, 0, 0, 0, 0, 0, 0, 0, 0, 0, 0, 0, 0, 0, 0, 0, 0, 0, 0, 0, 0, 0, 0, 0, 0, 0, 0, 0, 0, 0, 0, 0, 0, 0, 0, 0, 0, 0, 0, 0, 0, 0, 0, 0, 0, 0, 0, 0, 0, 0, 0, 0, 0, 0, 0, 0, 0, 0, 0, 0, 0, 0, 0, 0, 0, 0, 0, 0, 0, 0, 0, 0, 0, 0, 0, 0, 0, 0, 0, 0, 0, 0, 0, 0, 0, 0, 0, 0, 1, 0, 0, 0, 0, 0, 0, 0, 0, 0, 0, 0, 0, 0, 0, 0, 0, 0, 0, 0, 0, 0, 0, 0, 0, 0, 0, 0, 0, 0, 0, 0, 0, 0, 0, 0, 0, 0, 0, 0, 0, 0, 0, 0, 0, 0, 0, 0, 0, 0, 0, 0, 0, 0, 0, 0, 0, 0, 0, 0, 0, 0, 0, 0, 0, 0, 0, 0, 0, 0, 0, 0, 0, 0, 0, 0, 0, 0, 0, 0, 0, 0, 0, 0, 0, 0, 0, 0, 0, 0, 0, 0, 0, 0, 0, 0, 0, 0, 0, 0, 0, 0, 0, 0, 0, 0, 0, 0, 0, 0, 0, 0, 0, 0, 0, 0, 0, 0, 0, 0, 0, 0, 0, 0, 0, 0, 0, 0, 0, 0, 0, 0, 0, 0, 0, 0, 0, 0, 0, 0, 0, 0, 0, 0, 0, 0, 0, 0, 0, 0, 0, 0, 0, 0, 0, 0, 0, 0, 0, 0, 0, 0, 0, 0, 0, 0, 0, 0, 0, 0, 0, 0, 0, 0, 0, 0, 0, 0, 0, 0, 0, 0, 0, 0, 0, 0, 0, 0, 0, 0, 0, 0, 0, 0, 0, 0, 0, 0, 0, 0, 0, 0, 0, 0, 0, 0, 0, 0, 0, 0, 0, 0, 0, 0, 0, 0, 0, 0, 0, 0, 0, 0, 0, 0, 0, 0, 0, 0, 0, 0, 0, 0, 0, 0, 0, 0, 0, 0, 0, 0, 0, 0, 0, 0, 0, 0, 0, 0, 0, 0, 0, 0, 0, 0, 0, 0, 0, 0, 0, 0, 0, 0, 0, 0, 0, 0, 0, 0, 0, 0, 0, 0, 0, 0, 0, 0, 0, 0, 0, 0, 0, 0, 0, 0, 0, 0, 0, 0, 0, 0, 0, 0, 0, 0, 0, 0, 0, 0, 0, 0, 0, 0, 0, 0, 0, 0, 0, 0, 0, 0, 0, 0, 0, 0, 0, 0, 0, 0, 0, 0, 0, 0, 0, 0, 0, 0, 0, 0, 0, 0, 0, 0, 0, 0, 0, 0, 0, 0, 0, 0, 0, 0, 0, 0, 0, 0, 0, 0, 0, 0, 0, 0, 0, 0, 0, 0, 0, 0, 0, 0, 0, 0, 0, 0, 0, 0, 0, 0, 0, 0, 0, 0, 0, 0, 0, 0, 0, 0, 0, 0, 0, 0, 0, 0, 0, 0, 0, 0, 0, 0, 0, 0, 0, 0, 0, 0, 0, 0, 0, 0, 0, 0, 0, 0, 0, 0, 0, 0, 0, 0, 0, 0, 0, 0, 0, 0, 0, 0, 0, 0, 0, 0, 0, 0, 0, 0, 0, 0, 0, 0, 0, 0, 0, 0, 0, 0, 0, 0, 0, 0, 0, 0, 0, 0, 0, 0, 0, 0, 0, 0, 0, 0, 0, 0, 0, 0, 0, 0, 0, 0, 0, 0, 0, 0, 0, 0, 0, 0, 0, 0, 0, 0, 0, 0, 0, 0, 0, 0, 0, 0, 0, 0, 0, 0, 0, 0, 0, 0, 0, 0, 0, 0, 0, 0, 0, 0, 0, 0, 0, 0, 0, 0, 0, 0, 0, 0, 0, 0, 0, 0, 0, 0, 0, 1, 0, 0, 0, 0, 0, 0, 0, 0, 0, 0, 0, 0, 0, 0, 0, 0, 0, 0, 0, 0, 0, 0, 0, 0, 0, 0, 0, 0, 0, 0, 0, 0, 0, 0, 0, 2, 0, 0, 0, 0, 0, 0, 0, 0, 0, 0, 0, 0, 0, 0, 0, 0, 0, 0, 0, 0, 0, 0, 0, 0, 0, 0, 0, 0, 0, 0, 0, 0, 0, 0, 0, 0, 0, 0, 0, 0, 1, 0, 0, 0, 0, 0, 0, 0, 0, 0, 0, 0, 0, 0, 0, 0, 0, 0, 0, 0, 0, 0, 0, 0, 0, 0, 0, 0, 0, 0, 0, 0, 0, 0, 0, 0, 0, 0, 0, 0, 0, 0, 0, 0, 0, 0, 0, 0, 0, 0, 0, 0, 0, 0, 0, 0, 0, 0, 0, 0, 0, 0, 0, 0, 0, 0, 0, 0, 0, 0, 0, 0, 0, 0, 0, 0, 0, 0, 0, 0, 0, 0, 0, 0, 0, 0, 0, 0, 0, 0, 0, 0, 0, 0, 0, 0, 0, 0, 0, 0, 0, 0, 0, 0, 0, 0, 0, 0, 0, 0, 0, 0, 0, 0, 0, 0, 0, 0, 0, 0, 0, 0, 0, 0, 0, 0, 0, 0, 0, 0, 0, 0, 0, 0, 0, 0, 0, 0, 0, 0, 0, 0, 0, 0, 0, 0, 0, 0, 0, 0, 0, 0, 0, 0, 0, 0, 0, 0, 0, 0, 0, 0, 0, 0, 0, 0, 0, 0, 0, 0, 0, 0, 0, 0, 0, 0, 0, 0, 0, 0, 0, 0, 0, 0, 0, 0, 0, 0, 0, 0, 0, 0, 0, 0, 0, 0, 0, 0, 0, 0, 0, 0, 0, 0, 0, 0, 0, 0, 0, 0, 0, 0, 0, 0, 0, 0, 0, 0, 0, 0, 0, 0, 0, 0, 0, 0, 0, 0, 0, 0, 0, 0, 0, 0, 0, 0, 0, 0, 0, 0, 0, 0, 0, 0, 0, 0, 0, 0, 0, 0, 0, 0, 0, 0, 0, 0, 0, 0, 0, 0, 0, 0, 0, 0, 0, 0, 0, 0, 0, 0, 0, 0, 0, 0, 0, 0, 0, 0, 0, 0, 0, 0, 0, 0, 0, 0, 0, 0, 0, 0, 0, 0, 0, 0, 0, 0, 0, 0, 0, 0, 0, 0, 0, 0, 0, 0, 0, 0, 0, 0, 0, 0, 0, 0, 0, 0, 0, 0, 0, 0, 0, 0, 0, 0, 0, 0, 0, 0, 0, 0, 0, 0, 0, 0, 0, 0, 0, 0, 0, 0, 0, 0, 0, 0, 0, 0, 0, 0, 0, 0, 0, 0, 0, 0, 0, 0, 0, 0, 0, 0, 0, 0, 0, 0, 0, 0, 0, 0, 0, 0, 0, 0, 0, 0, 0, 0, 0, 0, 0, 0, 0, 0, 0, 0, 0, 0, 0, 0, 0, 0, 0, 0, 0, 0, 0, 0, 0, 0, 0, 0, 0, 0, 0, 0, 0, 0, 0, 0, 0, 0, 0, 0, 0, 0, 0, 0, 0, 0, 0, 0, 0, 0, 0, 0, 0, 0, 0, 0, 0, 0, 0, 0, 0, 0, 0, 0, 0, 0, 0, 0, 0, 0, 0, 0, 0, 0, 0, 0, 0, 0, 0, 0, 0, 0, 0, 0, 0, 0, 0, 0, 0, 0, 0, 0, 0, 0, 0, 0, 0, 0, 0, 0, 0, 0, 0, 0, 0, 0, 0, 0, 0, 0, 0, 0, 0, 0, 0, 0, 0, 0, 0, 0, 0, 0, 0, 0, 0, 0, 1, 0, 0, 0, 0, 0, 0, 0, 0, 0, 0, 0, 0, 0, 0, 0, 0, 0, 0, 0, 0, 0, 0, 0, 0, 0, 0, 0, 0, 0, 0, 0, 0, 0, 0, 0, 0, 0, 0, 0, 0, 0, 0, 0, 0, 0, 0, 0, 0, 0, 0, 0, 0, 0, 0, 0, 0, 0, 0, 0, 0, 0, 0, 0, 0, 0, 0, 0, 0, 0, 0, 0, 0, 0, 0, 0, 0, 0, 0, 0, 0, 0, 0, 0, 0, 0, 0, 0, 0, 0, 0, 0, 0, 0, 0, 0, 0, 0, 0, 0, 0, 0, 0, 0, 0, 0, 0, 0, 0, 0, 0, 2, 0, 0, 0, 0, 0, 0, 0, 0, 0, 0, 0, 0, 0, 0, 0, 0, 0, 0, 0, 0, 0, 0, 0, 0, 0, 0, 0, 0, 0, 0, 0, 0, 0, 0, 0, 0, 0, 0, 0, 0, 0, 0, 0, 0, 0, 0, 0, 0, 0, 0, 0, 0, 0, 0, 0, 0, 0, 0, 0, 0, 0, 0, 0, 0, 0, 0, 0, 0, 0, 0, 0, 0, 0, 0, 0, 0, 0, 0, 0, 0, 0, 0, 0, 0, 0, 0, 0, 0, 0, 0, 0, 0, 0, 0, 0, 0, 0, 0, 0, 0, 0, 0, 0, 0, 0, 0, 0, 0, 0, 0, 0, 0, 0, 0, 0, 0, 0, 0, 0, 0, 0, 0, 0, 0, 0, 0, 0, 0, 0, 0, 0, 0, 0, 0, 0, 0, 0, 0, 0, 0, 0, 0, 0, 0, 0, 0, 0, 0, 0, 0, 0, 0, 0, 0, 0, 0, 0, 0, 0, 0, 0, 0, 0, 0, 0, 0, 0, 0, 0, 0, 0, 0, 0, 0, 0, 0, 0, 0, 0, 0, 0, 0, 0, 0, 0, 0, 0, 0, 0, 0, 0, 0, 0, 0, 0, 0, 0, 0, 0, 0, 0, 0, 0, 0, 0, 0, 0, 0, 0, 0, 0, 0, 0, 0, 0, 0, 0, 0, 0, 0, 0, 0, 0, 0, 0, 0, 0, 0, 0, 0, 0, 0, 0, 0, 0, 0, 0, 0, 0, 0, 0, 0, 0, 0, 0, 0, 0, 0, 0, 0, 0, 0, 0, 0, 0, 0, 0, 0, 0, 0, 0, 0, 0, 0, 0, 0, 0, 0, 0, 0, 0, 0, 0, 0, 0, 0, 0, 0, 0, 0, 0, 0, 0, 0, 0, 0, 0, 0, 0, 0, 0, 0, 0, 0, 0, 0, 0, 0, 0, 0, 0, 0, 0, 0, 0, 0, 0, 0, 0, 0, 0, 0, 0, 0, 0, 0, 0, 0, 0, 0, 0, 0, 0, 0, 0, 0, 0, 0, 0, 0, 0, 0, 0, 0, 0, 0, 0, 0, 0, 0, 0, 0, 0, 0, 0, 0, 0, 0, 0, 0, 0, 0, 0, 0, 0, 0, 0, 0, 0, 0, 0, 0, 0, 0, 0, 0, 0, 0, 0, 0, 0, 0, 0, 0, 0, 0, 0, 0, 0, 0, 0, 0, 0, 0, 0, 0, 0, 0, 0, 0, 0, 0, 0, 0, 0, 0, 0, 0, 0, 0, 0, 0, 0, 0, 0, 0, 0, 0, 0, 0, 0, 0, 0, 0, 0, 0, 0, 0, 0, 0, 0, 0, 0, 0, 0, 0, 0, 0, 0, 0, 0, 0, 0, 0, 0, 0, 0, 0, 0, 0, 0, 0, 0, 0, 0, 0, 0, 0, 0, 0, 0, 0, 0, 0, 0, 0, 0, 0, 0, 0, 0, 0, 0, 0, 0, 0, 0, 0, 0, 0, 0, 0, 0, 0, 0, 0, 0, 0, 0, 0, 0, 0, 0, 0, 0, 0, 0, 0, 0, 0, 0, 0, 0, 0, 0, 0, 0, 0, 0, 0, 0, 0, 0, 0, 0, 0, 0, 0, 0, 0, 0, 0, 0, 0, 0, 0, 0, 0, 0, 0, 0, 0, 0, 0, 0, 0, 0, 0, 0, 0, 0, 0, 0, 0, 0, 0, 0, 0, 0, 0, 0, 0, 0, 0, 0, 0, 0, 0, 0, 0, 0, 0, 0, 0, 0, 0, 0, 0, 0, 0, 0, 0, 0, 0, 0, 0, 0, 0, 0, 0, 0, 0, 0, 0, 0, 0, 0, 0, 0, 0, 0, 0, 0, 0, 0, 0, 0, 0, 0, 0, 0, 0, 0, 0, 0, 0, 0, 0, 0, 0, 0, 0, 0, 0, 0, 0, 0, 0, 0, 0, 0, 0, 0, 0, 0, 0, 0, 0, 0, 0, 0, 0, 0, 0, 0, 0, 0, 0, 0, 0, 0, 0, 0, 0, 0, 0, 0, 0, 0, 0, 0, 0, 0, 0, 0, 0, 0, 0, 0, 0, 0, 0, 0, 0, 0, 0, 0, 0, 0, 0, 0, 0, 0, 0, 0, 0, 0, 0, 0, 0, 0, 0, 0, 0, 0, 0, 0, 0, 0, 0, 0, 0, 0, 0, 0, 0, 0, 0, 0, 0, 1, 0, 0, 0, 0, 0, 0, 0, 0, 0, 0, 0, 0, 0, 0, 0, 0, 0, 0, 0, 0, 0, 0, 0, 0, 0, 0, 0, 0, 0, 0, 0, 0, 0, 0, 0, 0, 0, 0, 0, 0, 0, 0, 0, 0, 0, 0, 0, 0, 0, 0, 0, 0, 0, 0, 0, 0, 0, 0, 0, 0, 0, 0, 0, 0, 0, 0, 0, 0, 0, 0, 0, 0, 0, 0, 0, 0, 0, 0, 0, 0, 0, 0, 0, 0, 0, 0, 0, 0, 0, 0, 0, 0, 0, 0, 0, 0, 0, 0, 0, 0, 0, 0, 0, 0, 0, 0, 0, 1, 0, 0, 0, 0, 0, 0, 0, 0, 0, 0, 0, 0, 0, 0, 0, 0, 0, 0, 0, 0, 0, 0, 0, 0, 0, 0, 0, 0, 0, 0, 0, 0, 0, 0, 0, 0, 0, 0, 0, 0, 0, 0, 0, 0, 0, 0, 0, 0, 0, 0, 0, 0, 0, 0, 0, 0, 0, 0, 0, 0, 0, 0, 0, 0, 0, 0, 0, 0, 0, 0, 0, 0, 0, 0, 0, 0, 0, 0, 0, 0, 0, 0, 0, 0, 0, 0, 0, 0, 0, 0, 0, 0, 0, 0, 0, 0, 0, 0, 0, 0, 0, 0, 0, 0, 0, 0, 0, 0, 0, 0, 0, 0, 0, 0, 0, 0, 0, 0, 0, 0, 0, 0, 0, 0, 0, 0, 0, 0, 0, 0, 0, 0, 0, 0, 0, 0, 0, 0, 0, 0, 0, 0, 0, 0, 0, 0, 0, 0, 0, 0, 0, 0, 0, 0, 0, 0, 0, 0, 0, 0, 0, 0, 0, 0, 0, 0, 0, 0, 0, 0, 0, 0, 0, 0, 0, 0, 0, 0, 0, 0, 0, 0, 0, 0, 0, 0, 0, 0, 0, 0, 0, 0, 0, 0, 0, 0, 0, 0, 0, 0, 0, 0, 0, 0, 0, 0, 0, 0, 0, 0, 0, 0, 0, 0, 0, 0, 0, 0, 0, 0, 0, 0, 0, 0, 0, 0, 0, 0, 0, 0, 0, 0, 0, 0, 0, 0, 0, 0, 0, 0, 0, 0, 0, 0, 0, 0, 0, 0, 0, 0, 0, 0, 0, 0, 0, 0, 0, 0, 0, 0, 0, 0, 0, 0, 0, 0, 0, 0, 0, 0, 0, 0, 0, 0, 0, 0, 0, 0, 0, 0, 0, 0, 0, 0, 0, 0, 0, 0, 0, 0, 0, 0, 0, 0, 0, 0, 0, 0, 0, 0, 0, 0, 0, 0, 0, 0, 0, 0, 0, 0, 0, 0, 0, 0, 0, 0, 0, 0, 0, 0, 0, 0, 0, 0, 0, 0, 0, 0, 0, 0, 0, 0, 0, 0, 0, 0, 0, 0, 0, 0, 0, 0, 0, 0, 0, 0, 0, 0, 0, 0, 0, 0, 0, 0, 0, 0, 0, 0, 0, 0, 0, 0, 0, 0, 0, 0, 0, 0, 0, 0, 0, 0, 0, 0, 0, 0, 0, 0, 0, 0, 0, 0, 0, 0, 0, 0, 0, 0, 0, 0, 0, 0, 0, 0, 0, 0, 0, 0, 0, 0, 0, 0, 0, 0, 0, 0, 0, 0, 0, 0, 0, 0, 0, 0, 0, 0, 0, 0, 0, 0, 0, 0, 0, 0, 0, 0, 0, 0, 0, 0, 0, 0, 0, 0, 0, 0, 0, 0, 0, 0, 0, 0, 0, 0, 0, 0, 0, 0, 0, 0, 0, 0, 0, 0, 0, 0, 0, 0, 0, 0, 0, 0, 0, 2, 0, 1, 0], type: <class 'list'>, valid types: <class 'bytes'>, <class 'bytearray'>, file-like object"
     ]
    }
   ],
   "source": [
    "response = runtime.invoke_endpoint(EndpointName = xgb_predictor.endpoint, # The name of the endpoint we created\n",
    "                                       ContentType = 'text/csv',                     # The data format that is expected\n",
    "                                       Body = test_bow)"
   ]
  },
  {
   "cell_type": "markdown",
   "metadata": {},
   "source": [
    "So why did we get an error?\n",
    "\n",
    "Because we tried to send the endpoint a list of integers but it expected us to send data of type `text/csv`. So, we need to convert it."
   ]
  },
  {
   "cell_type": "code",
   "execution_count": 46,
   "metadata": {},
   "outputs": [],
   "source": [
    "response = runtime.invoke_endpoint(EndpointName = xgb_predictor.endpoint, # The name of the endpoint we created\n",
    "                                       ContentType = 'text/csv',                     # The data format that is expected\n",
    "                                       Body = ','.join([str(val) for val in test_bow]).encode('utf-8'))"
   ]
  },
  {
   "cell_type": "code",
   "execution_count": 47,
   "metadata": {},
   "outputs": [
    {
     "name": "stdout",
     "output_type": "stream",
     "text": [
      "{'ResponseMetadata': {'RequestId': '463abada-dc80-4039-a101-53425c59de99', 'HTTPStatusCode': 200, 'HTTPHeaders': {'x-amzn-requestid': '463abada-dc80-4039-a101-53425c59de99', 'x-amzn-invoked-production-variant': 'AllTraffic', 'date': 'Wed, 9 Dec 2020 03:16:44 GMT', 'content-type': 'text/csv; charset=utf-8', 'content-length': '14'}, 'RetryAttempts': 0}, 'ContentType': 'text/csv; charset=utf-8', 'InvokedProductionVariant': 'AllTraffic', 'Body': <botocore.response.StreamingBody object at 0x7f3198622dd8>}\n"
     ]
    }
   ],
   "source": [
    "print(response)"
   ]
  },
  {
   "cell_type": "markdown",
   "metadata": {},
   "source": [
    "As we can see, the response from our model is a somewhat complicated looking dict that contains a bunch of information. The bit that we are most interested in is `'Body'` object which is a streaming object that we need to `read` in order to make use of."
   ]
  },
  {
   "cell_type": "code",
   "execution_count": 48,
   "metadata": {},
   "outputs": [
    {
     "name": "stdout",
     "output_type": "stream",
     "text": [
      "0.503778159618\n"
     ]
    }
   ],
   "source": [
    "response = response['Body'].read().decode('utf-8')\n",
    "print(response)"
   ]
  },
  {
   "cell_type": "markdown",
   "metadata": {},
   "source": [
    "Now that we know how to process the incoming user data we can start setting up the infrastructure to make our simple web app work. To do this we will make use of two different services. Amazon's Lambda and API Gateway services.\n",
    "\n",
    "Lambda is a service which allows someone to write some relatively simple code and have it executed whenever a chosen trigger occurs. For example, you may want to update a database whenever new data is uploaded to a folder stored on S3.\n",
    "\n",
    "API Gateway is a service that allows you to create HTTP endpoints (url addresses) which are connected to other AWS services. One of the benefits to this is that you get to decide what credentials, if any, are required to access these endpoints.\n",
    "\n",
    "In our case we are going to set up an HTTP endpoint through API Gateway which is open to the public. Then, whenever anyone sends data to our public endpoint we will trigger a Lambda function which will send the input (in our case a review) to our model's endpoint and then return the result."
   ]
  },
  {
   "cell_type": "markdown",
   "metadata": {},
   "source": [
    "### Setting up a Lambda function\n",
    "\n",
    "The first thing we are going to do is set up a Lambda function. This Lambda function will be executed whenever our public API has data sent to it. When it is executed it will receive the data, perform any sort of processing that is required, send the data (the review) to the SageMaker endpoint we've created and then return the result.\n",
    "\n",
    "#### Part A: Create an IAM Role for the Lambda function\n",
    "\n",
    "Since we want the Lambda function to call a SageMaker endpoint, we need to make sure that it has permission to do so. To do this, we will construct a role that we can later give the Lambda function.\n",
    "\n",
    "Using the AWS Console, navigate to the **IAM** page and click on **Roles**. Then, click on **Create role**. Make sure that the **AWS service** is the type of trusted entity selected and choose **Lambda** as the service that will use this role, then click **Next: Permissions**.\n",
    "\n",
    "In the search box type `sagemaker` and select the check box next to the **AmazonSageMakerFullAccess** policy. Then, click on **Next: Review**.\n",
    "\n",
    "Lastly, give this role a name. Make sure you use a name that you will remember later on, for example `LambdaSageMakerRole`. Then, click on **Create role**."
   ]
  },
  {
   "cell_type": "markdown",
   "metadata": {},
   "source": [
    "#### Part B: Create a Lambda function\n",
    "\n",
    "Now it is time to actually create the Lambda function. Remember from earlier that in order to process the user provided input and send it to our endpoint we need to gather two pieces of information:\n",
    "\n",
    " - The name of the endpoint, and\n",
    " - the vocabulary object.\n",
    "\n",
    "We will copy these pieces of information to our Lambda function after we create it.\n",
    "\n",
    "To start, using the AWS Console, navigate to the AWS Lambda page and click on **Create a function**. When you get to the next page, make sure that **Author from scratch** is selected. Now, name your Lambda function, using a name that you will remember later on, for example `sentiment_analysis_xgboost_func`. Make sure that the **Python 3.6** runtime is selected and then choose the role that you created in the previous part. Then, click on **Create Function**.\n",
    "\n",
    "On the next page you will see some information about the Lambda function you've just created. If you scroll down you should see an editor in which you can write the code that will be executed when your Lambda function is triggered. Collecting the code we wrote above to process a single review and adding it to the provided example `lambda_handler` we arrive at the following.\n",
    "\n",
    "```python\n",
    "# We need to use the low-level library to interact with SageMaker since the SageMaker API\n",
    "# is not available natively through Lambda.\n",
    "import boto3\n",
    "\n",
    "# And we need the regular expression library to do some of the data processing\n",
    "import re\n",
    "\n",
    "REPLACE_NO_SPACE = re.compile(\"(\\.)|(\\;)|(\\:)|(\\!)|(\\')|(\\?)|(\\,)|(\\\")|(\\()|(\\))|(\\[)|(\\])\")\n",
    "REPLACE_WITH_SPACE = re.compile(\"(<br\\s*/><br\\s*/>)|(\\-)|(\\/)\")\n",
    "\n",
    "def review_to_words(review):\n",
    "    words = REPLACE_NO_SPACE.sub(\"\", review.lower())\n",
    "    words = REPLACE_WITH_SPACE.sub(\" \", words)\n",
    "    return words\n",
    "    \n",
    "def bow_encoding(words, vocabulary):\n",
    "    bow = [0] * len(vocabulary) # Start by setting the count for each word in the vocabulary to zero.\n",
    "    for word in words.split():  # For each word in the string\n",
    "        if word in vocabulary:  # If the word is one that occurs in the vocabulary, increase its count.\n",
    "            bow[vocabulary[word]] += 1\n",
    "    return bow\n",
    "\n",
    "\n",
    "def lambda_handler(event, context):\n",
    "    \n",
    "    vocab = \"*** ACTUAL VOCABULARY GOES HERE ***\"\n",
    "    \n",
    "    words = review_to_words(event['body'])\n",
    "    bow = bow_encoding(words, vocab)\n",
    "\n",
    "    # The SageMaker runtime is what allows us to invoke the endpoint that we've created.\n",
    "    runtime = boto3.Session().client('sagemaker-runtime')\n",
    "\n",
    "    # Now we use the SageMaker runtime to invoke our endpoint, sending the review we were given\n",
    "    response = runtime.invoke_endpoint(EndpointName = '***ENDPOINT NAME HERE***',# The name of the endpoint we created\n",
    "                                       ContentType = 'text/csv',                 # The data format that is expected\n",
    "                                       Body = ','.join([str(val) for val in bow]).encode('utf-8')) # The actual review\n",
    "\n",
    "    # The response is an HTTP response whose body contains the result of our inference\n",
    "    result = response['Body'].read().decode('utf-8')\n",
    "    \n",
    "    # Round the result so that our web app only gets '1' or '0' as a response.\n",
    "    result = round(float(result))\n",
    "\n",
    "    return {\n",
    "        'statusCode' : 200,\n",
    "        'headers' : { 'Content-Type' : 'text/plain', 'Access-Control-Allow-Origin' : '*' },\n",
    "        'body' : str(result)\n",
    "    }\n",
    "```"
   ]
  },
  {
   "cell_type": "markdown",
   "metadata": {},
   "source": [
    "Once you have copy and pasted the code above into the Lambda code editor, replace the `**ENDPOINT NAME HERE**` portion with the name of the endpoint that we deployed earlier. You can determine the name of the endpoint using the code cell below."
   ]
  },
  {
   "cell_type": "code",
   "execution_count": 49,
   "metadata": {},
   "outputs": [
    {
     "data": {
      "text/plain": [
       "'xgboost-2020-12-09-02-43-46-714'"
      ]
     },
     "execution_count": 49,
     "metadata": {},
     "output_type": "execute_result"
    }
   ],
   "source": [
    "xgb_predictor.endpoint"
   ]
  },
  {
   "cell_type": "markdown",
   "metadata": {},
   "source": [
    "In addition, you will need to copy the vocabulary dict to the appropriate place in the code at the beginning of the `lambda_handler` method. The cell below prints out the vocabulary dict in a way that is easy to copy and paste."
   ]
  },
  {
   "cell_type": "code",
   "execution_count": 50,
   "metadata": {},
   "outputs": [
    {
     "name": "stdout",
     "output_type": "stream",
     "text": [
      "{'excellent': 1555, 'view': 4736, 'of': 3083, 'mature': 2773, 'woman': 4921, 'that': 4424, 'is': 2360, 'going': 1931, 'to': 4507, 'lose': 2654, 'everything': 1544, 'even': 1533, 'the': 4426, 'has': 2043, 'way': 4820, 'she': 3923, 'gets': 1900, 'involved': 2346, 'into': 2332, 'this': 4457, 'special': 4097, 'business': 633, 'innocence': 2293, 'and': 226, 'true': 4596, 'love': 2669, 'exists': 1573, 'between': 475, 'people': 3221, 'little': 2624, 'town': 4541, 'its': 2370, 'mixed': 2877, 'perfectly': 3226, 'give': 1912, 'us': 4690, 'as': 311, 'result': 3660, 'fresh': 1833, 'light': 2595, 'funny': 1852, 'comedy': 890, 'couldnt': 1008, 'stop': 4201, 'laughing': 2533, 'with': 4911, 'very': 4723, 'scene': 3809, 'two': 4620, 'old': 3100, 'ladies': 2506, 'in': 2257, 'european': 1530, 'films': 1721, 'movies': 2927, 'like': 2599, 'one': 3107, 'my': 2951, 'opinion': 3118, 'grows': 1985, 'stronger': 4230, 'movie': 2926, 'also': 199, 'recommend': 3571, 'eyes': 1613, 'closed': 854, 'same': 3778, 'genre': 1888, 'ned': 2986, 'saving': 3797, 'grace': 1950, 'many': 2732, 'friends': 1837, 'enjoyed': 1486, 'much': 2934, 'myself': 2953, 'you': 4986, 'will': 4886, 'it': 2366, 'hood': 2151, 'living': 2629, 'dead': 1132, 'all': 187, 'other': 3135, 'these': 4441, 'guys': 2001, 'directed': 1259, 'look': 2646, 'they': 4442, 'got': 1944, 'together': 4511, 'filmed': 1717, 'their': 4431, 'buddies': 608, 'who': 4871, 'have': 2052, 'zero': 4996, 'talent': 4354, 'afternoon': 144, 'when': 4862, 'were': 4848, 'bored': 541, 'lines': 2612, 'are': 285, 'completely': 922, 'unconvincing': 4638, 'find': 1726, 'amateur': 206, '90': 60, 'home': 2142, 'video': 4733, 'footage': 1782, 'better': 472, 'than': 4420, 'film': 1716, 'although': 201, 'similarities': 3979, 'them': 4432, 'comparison': 914, 'hey': 2095, 'lets': 2580, 'see': 3855, 'if': 2222, 'anyone': 259, 'dumb': 1385, 'enough': 1491, 'buy': 640, 'our': 3139, 'hopefully': 2157, 'nobody': 3022, 'else': 1448, 'wasnt': 4807, 'those': 4460, 'review': 3676, 'somewhat': 4068, 'harsh': 2040, 'but': 636, 'was': 4805, 'read': 3543, 'your': 4991, 'fake': 1635, 'reviews': 3679, 'purchased': 3470, 'brando': 566, 'had': 2003, 'long': 2644, 'since': 3990, 'lost': 2660, 'interest': 2323, 'acting': 99, 'he': 2056, 'made': 2697, 'his': 2118, 'performance': 3228, 'worst': 4952, 'career': 686, 'what': 4858, 'intended': 2315, 'be': 418, 'doesnt': 1309, 'instead': 2307, 'simply': 3986, 'acts': 107, 'bizarre': 492, 'fashion': 1659, 'fun': 1848, 'at': 331, 'where': 4864, 'over': 3148, 'toilet': 4512, 'probably': 3407, 'funniest': 1851, 'moment': 2886, 'history': 2121, 'cinema': 816, 'we': 4823, 'witness': 4914, 'him': 2110, 'fall': 1637, 'head': 2057, 'first': 1736, 'hard': 2033, 'believe': 454, 'watching': 4815, 'actor': 103, 'starred': 4153, 'named': 2961, 'desire': 1205, 'on': 3105, 'godfather': 1927, 'guess': 1989, 'real': 3547, 'question': 3487, 'why': 4878, 'later': 2525, 'years': 4979, 'sick': 3963, 'did': 1241, 'just': 2437, 'making': 2718, 'complete': 921, 'utter': 4701, 'fool': 1779, 'out': 3141, 'himself': 2111, 'well': 4843, 'never': 3001, 'know': 2489, 'serves': 3895, 'fascinating': 1658, 'study': 4242, 'bad': 382, 'about': 67, 'note': 3044, 'watch': 4811, 'fellow': 1691, 'veteran': 4724, 'donald': 1321, 'sutherland': 4333, 'struggles': 4235, 'deliver': 1169, 'embarrassed': 1453, 'for': 1784, 'travesty': 4570, 'alone': 194, 'dark': 1115, 'favorite': 1671, 'role': 3726, 'playing': 3300, 'games': 1865, 'time': 4495, 'remember': 3616, 'spending': 4106, 'whole': 4873, 'nights': 3016, 'facing': 1620, 'screen': 3829, 'trying': 4601, 'escape': 1517, 'mansion': 2731, 'actually': 109, 'being': 448, 'times': 4497, 'monsters': 2893, 'came': 656, 'surprisingly': 4316, 'now': 3054, 'mind': 2849, 'am': 204, 'computer': 927, 'game': 1864, 'generated': 1882, 'dont': 1324, 'single': 3996, 'success': 4265, 'story': 4207, 'new': 3003, 'hollywood': 2137, 'some': 4061, 'entertaining': 1499, 'watchable': 4812, 'yet': 4984, 'such': 4268, 'big': 478, 'fan': 1648, 'resist': 3648, 'plot': 3309, 'so': 4046, 'would': 4957, 'ok': 3098, 'man': 2721, 'minutes': 2859, 'which': 4867, 'seemed': 3862, 'life': 2592, 'ill': 2228, 'get': 1899, 'back': 378, 'chance': 747, 'spent': 4108, 'isnt': 2362, 'category': 718, 'think': 4452, 'christian': 808, 'bit': 488, 'more': 2904, 'sense': 3877, 'bomb': 531, 'im': 2232, 'not': 3040, 'her': 2085, 'presence': 3373, 'however': 2183, 'purpose': 3474, 'putting': 3482, 'chick': 786, 'starring': 4154, 'sex': 3907, 'totally': 4532, 'understand': 4643, 'support': 4303, 'guy': 2000, 'ive': 2372, 'seen': 3865, 'body': 527, 'press': 3379, 'there': 4438, 'no': 3020, 'speak': 4094, 'wont': 4932, 'waste': 4808, 'credibility': 1047, 'below': 462, 'ms': 2931, 'few': 1700, 'above': 68, 'street': 4216, 'fighter': 1708, 'by': 642, 'kids': 2467, 'far': 1653, 'thrills': 4475, 'heres': 2087, 'spoiler': 4123, 'stinks': 4192, 'wait': 4770, 'porno': 3337, 'version': 4720, 'let': 2579, 'me': 2778, 'saying': 3800, 'followed': 1773, 'saw': 3798, 'after': 143, 'looked': 2647, 'greatest': 1966, 'horror': 2168, 'flick': 1754, 'ever': 1538, 'though': 4461, 'thought': 4462, 'only': 3110, 'fairly': 1631, 'good': 1937, 'pretty': 3384, 'best': 469, 'part': 3193, 'seeing': 3857, 'female': 1693, 'cast': 710, 'nude': 3058, 'gore': 1941, 'looking': 2648, 'done': 1322, 'parts': 3199, 'extremely': 1610, 'predictable': 3367, 'didnt': 1242, 'want': 4788, 'stay': 4166, 'horrible': 2163, 'ending': 1471, 'could': 1007, 'actors': 104, 'actresses': 106, 'reason': 3557, 'been': 438, 'hundred': 2195, 'videos': 4734, 'members': 2801, 'equally': 1510, 'or': 3124, 'worse': 4951, 'motion': 2913, 'pictures': 3270, 'should': 3951, 'allowed': 190, 'continue': 969, 'madness': 2698, 'great': 1964, 'viewed': 4737, 'proper': 3436, 'context': 968, 'meant': 2784, 'parody': 3192, 'teen': 4388, 'devil': 1228, '80s': 59, 'plenty': 3307, 'instantly': 2306, 'liked': 2600, 'kiss': 2483, 'gene': 1879, 'anything': 260, 'metal': 2823, 'cant': 671, 'already': 197, 'mine': 2853, 'hear': 2061, 'soundtrack': 4085, 'original': 3129, 'vhs': 4725, 'pre': 3365, 'dvd': 1391, 'cover': 1022, 'trick': 4582, 'treat': 4572, 'featured': 1679, 'an': 223, 'ring': 3698, 'fire': 1734, 'demon': 1177, 'order': 3126, 'price': 3389, 'copy': 994, 'really': 3556, 'wanted': 4789, 'ridiculous': 3693, 'created': 1037, 're': 3535, 'release': 3602, 'company': 910, 'figured': 1712, 'put': 3480, 'em': 1452, 'thing': 4450, 'shop': 3945, 'horrors': 2169, 'jack': 2373, 'nicholson': 3011, 'five': 1743, 'main': 2707, 'star': 4150, 'web': 4833, 'site': 4005, 'surprising': 4315, 'how': 2181, 'person': 3238, 'helped': 2080, 'album': 175, 'rock': 3720, 'roll': 3728, 'definitely': 1162, 'taken': 4350, 'too': 4522, 'seriously': 3892, 'relative': 3599, 'seems': 3864, 'theme': 4433, 'from': 1840, 'set': 3898, 'pieces': 3273, 'directors': 1266, 'say': 3799, 'might': 2835, 'number': 3060, 'bush': 632, 'blair': 497, 'may': 2775, 'ordinary': 3128, 'opening': 3114, 'teacher': 4375, 'impress': 2250, 'students': 4239, 'most': 2909, 'important': 2247, 'happened': 2027, 'children': 792, 'impressed': 2251, 'death': 1141, 'things': 4451, 'affect': 136, 'closely': 855, 'york': 4985, 'usa': 4691, 'series': 3890, 'almost': 193, 'documentary': 1307, 'equal': 1509, 'men': 2805, 'world': 4946, 'try': 4600, 'whereas': 4865, 'obviously': 3072, 'attack': 337, 'event': 1535, 'any': 256, 'does': 1308, 'impression': 2252, 'both': 547, 'tv': 4610, 'tend': 4400, 'blow': 514, 'up': 4683, 'wonderfully': 4929, 'reaction': 3541, 'international': 2326, 'level': 2584, 'occurred': 3077, 'de': 1131, 'rather': 3528, 'news': 3005, 'suffer': 4275, 'happen': 2026, 'given': 1913, 'italy': 2368, 'ten': 4399, 'outer': 3143, 'greater': 1965, 'seem': 3861, 'disaster': 1276, 'helps': 2082, 'perspective': 3245, 'perhaps': 3235, 'do': 1302, 'each': 1395, 'director': 1264, 'freedom': 1828, 'own': 3158, 'possible': 3350, 'judge': 2424, 'merits': 2817, 'minute': 2858, 'segment': 3867, 'anti': 254, 'american': 213, 'simple': 3983, 'reading': 3544, 'messages': 2820, 'through': 4477, 'segments': 3868, 'pro': 3406, 'either': 1438, 'attitudes': 347, 'common': 906, 'link': 2613, 'different': 1248, 'points': 3319, 'then': 4436, 'george': 1893, 'begin': 442, 'planet': 3289, 'clearly': 840, 'stated': 4161, 'belief': 451, 'america': 212, 'lesson': 2577, 'share': 3920, 'rest': 3657, 'humanity': 2189, 'ruthless': 3764, 'plain': 3286, 'force': 1786, 'learning': 2552, 'cannot': 670, 'everybody': 1540, 'everywhere': 1545, 'political': 3324, 'become': 433, 'arrogant': 303, 'doing': 1312, 'present': 3374, 'elsewhere': 1449, 'white': 4870, 'house': 2178, 'uk': 4626, 'caused': 724, 'chaos': 755, 'clear': 839, 'mess': 2818, 'un': 4630, 'nations': 2971, 'helping': 2081, 'hand': 2015, 'thus': 4486, 'easy': 1410, 'met': 2822, 'ie': 2221, 'women': 4923, 'heads': 2059, 'ground': 1979, 'terrible': 4407, 'greed': 1968, 'rich': 3685, 'countries': 1013, 'understanding': 4645, 'separate': 3883, 'portrays': 3344, 'can': 665, 'appreciate': 279, 'achieve': 92, 'sitting': 4007, 'last': 2521, 'night': 3013, 'college': 875, 'help': 2079, 'gonna': 1936, 'end': 1468, 'hours': 2177, 'fifteen': 1706, 'knew': 2486, 'expect': 1575, 'said': 3774, 'small': 4033, 'couple': 1016, 'beautiful': 428, 'title': 4504, 'sequence': 3887, 'kidding': 2465, 'go': 1924, 'expecting': 1578, 'kind': 2476, 'meaning': 2780, 'inducing': 2279, 'ride': 3692, 'managed': 2723, 'awake': 365, 'thats': 4425, 'often': 3095, 'waiting': 4772, 'mistake': 2871, 'among': 217, 'collection': 874, 'images': 2235, 'gift': 1906, 'creation': 1040, 'disgusting': 1286, 'appears': 278, 'served': 3894, 'crew': 1053, 'ship': 3934, 'shown': 3959, 'throughout': 4478, 'large': 2517, 'placed': 3283, 'center': 732, 'matthew': 2772, 'eventually': 1537, 'transformation': 4560, 'whale': 4857, 'creatures': 1046, 'song': 4071, 'along': 195, 'played': 3297, 'before': 440, 'constant': 957, 'high': 2100, 'mysterious': 2955, 'beginning': 443, 'sounds': 4084, 'make': 2713, 'because': 432, 'cup': 1080, 'tea': 4373, 'absolutely': 72, 'something': 4066, 'away': 369, 'likely': 2601, 'walk': 4775, 'theater': 4427, 'during': 1387, 'halfway': 2008, 'mark': 2739, 'several': 3905, 'screening': 3830, 'definition': 1163, 'art': 304, 'take': 4349, 'otherwise': 3137, 'construction': 960, 'glad': 1916, 'place': 3282, 'sit': 4003, 'again': 146, 'wouldnt': 4958, 'start': 4156, 'finish': 1732, 'compare': 911, 'enjoy': 1484, 'idea': 2213, 'factor': 1622, 'wouldve': 4959, 'gotten': 1947, 'couldve': 1009, 'felt': 1692, 'twice': 4613, 'everyone': 1542, 'breaking': 570, 'glass': 1917, 'released': 3603, 'england': 1482, 'loved': 2670, 'having': 2054, 'caught': 722, '2005': 35, 'canadian': 667, 'station': 4164, 'still': 4188, 'regret': 3591, 'sound': 4081, 'track': 4544, 'care': 684, 'shed': 3924, 'must': 2950, 'internet': 2327, 'getting': 1901, 'music': 2946, 'stands': 4147, 'test': 4416, 'kate': 2446, 'decade': 1144, 'moved': 2922, 'canada': 666, 'reasons': 3560, 'country': 1014, 'please': 3304, 'sorry': 4076, 'underrated': 4642, 'davies': 1125, 'shows': 3960, 'stuff': 4243, 'late': 2523, 'silent': 3975, 'wonderful': 4928, 'william': 4887, 'plays': 3301, 'appear': 273, 'cheap': 774, 'comedies': 889, 'until': 4680, 'discovered': 1280, 'becomes': 434, 'dramatic': 1348, 'team': 4378, 'guest': 1992, 'shots': 3950, 'likes': 2602, 'charlie': 765, 'chaplin': 756, 'douglas': 1334, 'hart': 2041, 'john': 2409, 'serious': 3891, 'buff': 611, 'interested': 2324, 'offered': 3088, 'elaborate': 1439, 'box': 555, 'streisand': 4218, 'television': 4394, 'disc': 1278, 'dollars': 1315, 'indeed': 2271, 'bunch': 623, 'fact': 1621, 'eager': 1396, 'succeeds': 4264, 'brilliantly': 584, 'key': 2458, 'legend': 2564, 'signed': 3971, 'term': 4405, 'contract': 973, 'produce': 3413, 'hour': 2176, 'variety': 4714, 'format': 1799, 'nowadays': 3055, 'broadcast': 591, 'april': 284, 'point': 3316, 'limited': 2606, 'handful': 2017, 'selling': 3873, 'appearances': 275, 'talk': 4358, 'successful': 4266, 'broadway': 592, 'run': 3755, 'girl': 1909, 'black': 493, 'program': 3424, 'three': 4469, 'distinct': 1296, 'creative': 1041, 'use': 4692, 'disneys': 1290, 'alice': 182, 'cleverly': 842, 'growing': 1983, 'childhood': 790, 'numbers': 3061, 'comic': 893, 'pearl': 3220, 'second': 3846, 'moves': 2925, 'location': 2635, 'while': 4868, 'singing': 3995, 'depression': 1189, 'era': 1513, 'songs': 4072, 'free': 1827, 'irony': 2357, 'third': 4455, 'straight': 4210, 'ahead': 159, 'concert': 935, 'opens': 3115, 'sun': 4292, 'comes': 891, 'includes': 2263, 'ends': 1474, 'classic': 835, 'happy': 2032, 'days': 1130, 'here': 2086, 'credits': 1050, 'included': 2262, 'brief': 579, 'introduction': 2339, 'genuine': 1891, 'eye': 1611, 'amusing': 221, 'bugs': 613, 'cartoon': 704, 'sees': 3866, 'return': 3665, 'sidekick': 3966, 'green': 1971, 'dog': 1310, 'destroy': 1213, 'earth': 1403, 'mission': 2870, 'land': 2511, 'capture': 676, 'creature': 1045, 'mars': 2746, 'course': 1019, 'picks': 3268, 'thinks': 4454, 'right': 3696, 'rabbit': 3498, 'hole': 2132, 'ray': 3533, 'gun': 1996, 'tries': 4585, 'situation': 4008, 'ways': 4822, 'including': 2264, 'planning': 3291, 'captured': 677, 'using': 4698, 'amazingly': 210, 'product': 3418, 'works': 4945, 'forced': 1787, 'soon': 4074, 'turned': 4606, 'fly': 1763, 'weak': 4824, 'compared': 912, 'voice': 4761, 'changed': 750, 'slightly': 4029, 'visible': 4753, 'emotional': 1459, 'angry': 238, 'less': 2575, 'wanting': 4790, 'previous': 3387, 'reviewer': 3677, 'comments': 901, 'miss': 2866, 'understood': 4647, 'ended': 1470, 'comment': 898, 'happens': 2029, 'princess': 3397, 'wants': 4791, 'uses': 4697, 'money': 2888, 'wrote': 4974, 'directs': 1267, 'pays': 3218, 'close': 853, 'realize': 3552, 'character': 758, 'development': 1225, 'directions': 1262, 'middle': 2833, 'come': 886, 'side': 3965, 'cold': 872, 'believable': 453, 'check': 777, 'noise': 3024, 'runs': 3757, 'ignorant': 2223, 'lover': 2672, 'background': 380, 'vision': 4754, 'car': 680, 'tell': 4395, 'escaped': 1518, 'mental': 2808, 'patient': 3211, 'tom': 4514, 'whats': 4860, 'oh': 3096, 'suppose': 4305, 'whose': 4877, 'feel': 1684, 'aspect': 321, 'rented': 3628, 'known': 2492, 'need': 2987, 'mom': 2885, 'loves': 2674, 'effort': 1432, 'vehicle': 4718, 'war': 4792, 'audience': 352, 'learns': 2553, 'deal': 1135, 'early': 1400, 'rescue': 3643, 'learn': 2550, 'wwii': 4975, 'concerning': 933, 'lack': 2502, 'inspiring': 2302, 'edition': 1422, 'transfer': 4559, 'technology': 4385, 'foreign': 1790, 'cuts': 1091, 'off': 3084, 'characters': 760, 'holds': 2131, 'aspects': 322, 'analysis': 224, 'lighting': 2596, 'techniques': 4384, 'historical': 2119, 'content': 966, 'scenario': 3808, 'inspired': 2301, 'writer': 4968, 'filmmaker': 1719, 'went': 4847, 'direct': 1258, 'opera': 3116, 'fatal': 1664, 'cool': 989, 'robert': 3713, 'jr': 2423, 'turner': 4607, 'jason': 2383, 'stewart': 4184, 'david': 1124, 'lewis': 2586, 'acted': 98, 'relationship': 3597, 'nice': 3008, 'maybe': 2776, 'age': 148, 'difference': 1246, 'unique': 4662, 'worked': 4941, 'ron': 3734, 'fits': 1741, 'next': 3007, 'keeps': 2451, 'fantastic': 1651, 'job': 2405, 'hit': 2122, 'born': 544, 'craft': 1028, 'savage': 3793, 'survive': 4321, 'kill': 2468, 'killed': 2469, 'dialogue': 1234, 'least': 2554, 'compelling': 916, 'jet': 2400, 'li': 2587, 'danny': 1112, 'sole': 4055, 'fighting': 1709, 'someone': 4064, 'talked': 4359, 'bare': 398, 'fight': 1707, 'sequences': 3888, 'choreographed': 801, 'designed': 1203, 'normal': 3033, 'brutal': 603, 'goes': 1930, 'brought': 600, 'realism': 3549, 'others': 3136, 'lives': 2628, 'taking': 4352, 'grim': 1974, 'gritty': 1977, 'literally': 2622, 'sets': 3899, 'apart': 264, 'usual': 4699, 'mill': 2845, 'cop': 991, 'thriller': 4472, 'production': 3419, 'hired': 2117, 'hong': 2149, 'kong': 2494, 'cops': 993, 'gone': 1935, 'leading': 2547, 'chase': 769, 'led': 2558, 'member': 2800, 'inspector': 2299, 'sam': 3777, 'lee': 2559, 'whos': 4876, 'father': 1666, 'begins': 444, 'cat': 713, 'mouse': 2919, 'shadows': 3913, 'itself': 2371, 'multiple': 2936, 'levels': 2585, 'especially': 1520, 'opposite': 3123, 'sides': 3967, 'law': 2538, 'within': 4912, 'grey': 1973, 'caring': 691, 'hooked': 2153, 'developed': 1223, 'feelings': 1686, 'bringing': 586, 'revealing': 3672, 'heart': 2064, 'gold': 1932, 'questionable': 3488, 'makes': 2716, 'wonder': 4926, 'willing': 4889, 'takes': 4351, 'interesting': 2325, 'moments': 2887, 'moral': 2902, 'hero': 2088, 'youll': 4988, 'ask': 316, 'beast': 422, 'switch': 4339, 'circumstances': 822, 'inner': 2292, 'bite': 489, 'mid': 2832, 'drag': 1342, 'tender': 4401, 'suffered': 4276, 'knowing': 2490, 'pick': 3265, 'favourite': 1673, 'market': 2740, 'food': 1778, 'delivered': 1170, 'suspenseful': 4331, 'edge': 1418, 'seat': 3845, 'listen': 2619, 'musical': 2947, 'score': 3822, 'youre': 4992, 'dogs': 1311, 'highly': 2105, 'recommended': 3572, 'youve': 4995, 'started': 4157, 'shocked': 3939, 'cruel': 1070, 'intentions': 2321, 'prequel': 3372, 'certain': 737, 'married': 2744, 'wealth': 4826, 'aunt': 355, 'island': 2361, 'found': 1811, 'today': 4508, 'hearing': 2063, 'vampire': 4711, 'form': 1798, 'roger': 3724, 'added': 116, 'picked': 3266, 'fox': 1814, 'fast': 1661, 'becoming': 435, 'male': 2719, 'episode': 1507, '1999': 27, 'towards': 4540, 'suggested': 4281, 'typically': 4624, 'upon': 4684, 'area': 286, 'mother': 2911, 'adult': 125, 'position': 3345, 'marry': 2745, 'social': 4049, 'class': 833, 'lame': 2510, 'grand': 1953, 'strange': 4211, 'bird': 484, 'urban': 4688, 'piece': 3272, 'entire': 1502, 'fail': 1625, 'convey': 982, 'central': 735, 'every': 1539, 'race': 3499, 'horribly': 2164, 'scope': 3821, 'similarly': 3980, 'particular': 3194, 'viewer': 4738, 'says': 3801, 'non': 3027, 'angles': 237, 'message': 2819, 'nevertheless': 3002, 'line': 2610, 'dialog': 1232, 'bar': 396, 'mood': 2898, 'powerful': 3360, 'pleasantly': 3303, 'surprised': 4313, 'thoughtful': 4463, 'viewing': 4740, 'working': 4944, 'firstly': 1737, 'means': 2783, 'protect': 3443, 'color': 877, 'police': 3322, 'industry': 2280, 'full': 1846, 'purely': 3472, 'commercial': 902, 'stand': 4143, 'testament': 4417, 'statement': 4162, 'certainly': 738, 'stunning': 4244, 'final': 1722, 'unexpected': 4650, 'depth': 1190, 'twists': 4619, 'turns': 4609, 'keep': 2449, 'families': 1644, 'language': 2516, 'coming': 896, 'tremendous': 4579, 'loss': 2659, 'leaves': 2556, 'raw': 3532, 'emotions': 1461, 'without': 4913, 'anger': 235, 'hate': 2046, 'unfortunately': 4654, 'lead': 2545, 'young': 4989, 'boy': 557, 'shoots': 3944, 'kills': 2474, 'brother': 598, 'hunting': 2201, 'fair': 1630, 'grandfather': 1954, 'accident': 84, 'needed': 2988, 'words': 4938, 'parents': 3188, 'receive': 3563, 'emphasis': 1463, 'physical': 3262, 'facial': 1619, 'expressions': 1603, 'pace': 3161, 'allows': 192, 'reactions': 3542, 'todays': 4509, 'realistic': 3550, 'german': 1896, 'brings': 587, 'dealing': 1136, 'strong': 4229, 'dialogues': 1235, 'enjoyable': 1485, 'blockbuster': 509, 'highest': 2102, 'always': 203, 'critics': 1064, 'fans': 1650, 'alike': 185, 'open': 3112, 'negative': 2991, 'million': 2847, 'picture': 3269, 'gross': 1978, 'office': 3091, 'won': 4925, 'academy': 77, 'award': 366, 'golden': 1934, 'remain': 3609, 'controversial': 978, 'state': 4160, 'claim': 828, 'weakest': 4825, 'merit': 2816, 'claims': 830, 'noted': 3045, 'seventies': 3904, 'remains': 3611, 'touching': 4536, 'dramas': 1347, 'produced': 3414, 'told': 4513, 'tale': 4353, 'changing': 752, 'setting': 3900, 'studio': 4240, 'system': 4345, 'screenplay': 3831, 'contrast': 975, 'romance': 3732, 'careers': 687, 'example': 1553, 'depicting': 1184, 'personal': 3240, 'professional': 3421, 'recording': 3575, 'phone': 3255, 'calls': 654, 'attempts': 343, 'portrayal': 3341, 'leads': 2548, 'versions': 4721, 'self': 3869, 'portrayed': 3342, 'passionate': 3206, 'flawed': 1750, 'judy': 2426, 'effective': 1429, 'performances': 3229, 'target': 4366, 'supporting': 4304, 'arent': 288, 'actress': 105, 'singer': 3993, 'fine': 1729, 'tough': 4537, 'vulnerable': 4768, 'herself': 2092, 'script': 3834, 'shes': 3930, 'stars': 4155, 'natural': 2973, 'manages': 2725, 'connection': 946, 'fully': 1847, 'realized': 3553, 'dimensional': 1253, 'human': 2188, 'respect': 3652, 'laid': 2508, 'characterization': 759, 'hes': 2093, 'displays': 1293, 'charisma': 762, 'displayed': 1292, 'received': 3564, 'usually': 4700, 'vicious': 4728, 'gary': 1873, 'paul': 3214, 'minimal': 2855, 'amount': 219, 'massive': 2756, 'hitting': 2126, 'hot': 2174, 'four': 1812, 'copies': 992, 'composed': 926, 'lyrics': 2692, 'williams': 4888, 'gorgeous': 1942, 'contemporary': 965, 'pop': 3330, 'further': 1853, 'mostly': 2910, 'holmes': 2139, 'live': 2625, 'solo': 4058, 'memory': 2804, 'bring': 585, 'moon': 2900, 'thrilling': 4474, 'queen': 3485, 'work': 4940, 'naturally': 2974, 'dated': 1119, 'reflect': 3584, 'remarkably': 3614, 'chemistry': 782, 'feels': 1687, 'scenes': 3811, 'near': 2979, 'finale': 1723, 'conclusion': 936, 'moving': 2928, 'criticism': 1063, 'nearly': 2981, 'expected': 1577, 'seconds': 3848, 'brilliance': 582, 'idiotic': 2219, 'hardcore': 2034, 'conspiracy': 956, 'paranoia': 3186, 'fest': 1696, 'mediocre': 2791, 'typical': 4623, '1970s': 17, 'style': 4249, 'pregnant': 3369, 'photographer': 3259, 'model': 2880, 'woods': 4935, 'victim': 4729, 'flying': 1764, 'disappear': 1270, 'aliens': 184, 'ultra': 4629, 'secret': 3849, 'group': 1980, 'reporter': 3636, 'apparently': 270, 'drawn': 1351, 'agents': 151, 'menacing': 2807, 'average': 362, 'theory': 4437, 'camera': 659, 'low': 2676, 'budget': 610, 'pacing': 3163, 'silly': 3976, 'absurd': 73, 'continuity': 972, 'issues': 2365, 'mentioned': 2811, 'honestly': 2147, 'writing': 4971, 'suffice': 4279, 'worth': 4953, 'warning': 4800, 'themselves': 4435, 'animals': 240, 'landscapes': 2514, 'pass': 3201, 'mention': 2810, 'detail': 1217, 'based': 404, 'watched': 4813, 'bbc': 417, 'captivating': 675, 'wished': 4905, 'patrick': 3213, 'captain': 674, 'space': 4090, 'appropriate': 283, 'case': 707, 'calm': 655, '12': 3, 'follow': 1772, 'animal': 239, 'north': 3036, 'bear': 420, 'elephant': 1444, 'chapter': 757, 'starts': 4159, 'birds': 485, 'fish': 1738, 'mountains': 2918, 'jungle': 2434, 'perfect': 3224, 'presentation': 3375, 'cities': 823, 'nature': 2975, 'shot': 3949, 'accompanied': 86, 'delightful': 1168, 'opened': 3113, 'family': 1645, 'killings': 2473, 'hunter': 2199, 'cases': 708, 'slow': 4031, 'violent': 4748, 'blood': 512, 'newly': 3004, 'cute': 1090, 'looks': 2649, 'shooting': 3943, 'took': 4523, 'cost': 1003, 'beauty': 430, 'dutch': 1389, 'yesterday': 4983, 'month': 2896, 'actual': 108, '15': 7, 'rarely': 3524, 'curious': 1083, 'impressive': 2253, 'luckily': 2682, 'cried': 1054, 'clues': 865, 'obvious': 3071, 'touch': 4533, 'soul': 4079, 'ben': 463, 'face': 1616, 'thoughts': 4464, 'ultimate': 4627, 'sacrifice': 3766, 'against': 147, 'emotion': 1458, 'left': 2561, 'confused': 941, 'smith': 4038, 'another': 250, 'choice': 797, 'knows': 2493, 'entertain': 1497, 'slick': 4026, 'consistently': 954, 'delivers': 1172, 'easily': 1406, 'leonard': 2572, 'adaptation': 113, 'date': 1118, 'thinking': 4453, 'captures': 678, 'glover': 1923, 'novel': 3052, 'amazing': 209, 'heights': 2073, 'reference': 3582, 'purposes': 3475, 'books': 536, 'punch': 3466, 'city': 825, 'include': 2261, 'bang': 393, 'sunday': 4293, 'sign': 3970, 'running': 3756, 'ideas': 2215, 'hudson': 2184, 'former': 1800, 'officer': 3092, 'author': 359, 'stuck': 4237, 'wedding': 4836, 'spends': 4107, 'week': 4837, 'fancy': 1649, 'hotel': 2175, 'meets': 2795, 'anna': 245, 'quickly': 3491, 'plan': 3287, 'boring': 543, 'falls': 1640, 'choose': 799, 'safe': 3771, 'romantic': 3733, 'horrific': 2166, 'poor': 3328, 'evil': 1548, 'humans': 2190, 'mean': 2779, 'theyre': 4445, 'sharp': 3922, 'teeth': 4393, 'eat': 1411, 'flesh': 1753, 'none': 3028, 'beloved': 461, 'encounter': 1466, 'puts': 3481, 'hanging': 2023, 'comfortable': 892, 'nowhere': 3056, 'giant': 1905, 'seeking': 3859, 'medical': 2790, 'attention': 345, 'around': 297, 'screaming': 3827, 'idiot': 2218, 'mix': 2876, 'blame': 499, 'portrait': 3339, 'sheriff': 3929, 'hates': 2048, 'drunk': 1375, 'wife': 4884, 'forty': 1807, 'older': 3101, 'theres': 4440, 'drunken': 1376, 'teens': 4392, 'attacked': 338, 'meanwhile': 2785, 'leslie': 2574, 'authority': 360, 'birthday': 487, 'finally': 1724, 'mst3k': 2932, 'eating': 1413, 'avoided': 364, 'fate': 1665, 'greedy': 1969, 'stupid': 4247, 'racist': 3503, 'alcoholic': 177, 'pointless': 3318, 'climactic': 848, 'burn': 625, 'idiots': 2220, 'succeed': 4262, 'blowing': 515, 'damage': 1099, 'illogical': 2231, 'effects': 1431, 'dubbing': 1380, 'hold': 2129, 'pack': 3165, 'thrill': 4471, 'splatter': 4118, 'suspend': 4329, 'disbelief': 1277, 'instance': 2304, 'recent': 3566, 'mummy': 2937, 'costs': 1004, 'per': 3223, 'grew': 1972, 'roots': 3738, 'subtlety': 4261, 'terrifying': 4410, 'channel': 753, 'channels': 754, 'stopped': 4202, 'masterpiece': 2759, 'british': 589, 'anyway': 261, 'viewers': 4739, 'slowly': 4032, 'paced': 3162, 'makeup': 2717, 'costume': 1005, 'ghost': 1902, 'kept': 2456, 'hell': 2077, 'etc': 1527, 'distance': 1294, 'creates': 1038, 'appeared': 276, 'visits': 4756, 'arthur': 305, 'extraordinary': 1607, 'rate': 3526, 'finest': 1730, 'haunting': 2051, 'havent': 2053, 'gives': 1914, 'existence': 1571, 'ghosts': 1903, 'joke': 2414, 'occasionally': 3075, 'fears': 1677, 'standing': 4146, 'road': 3709, 'id': 2212, 'staring': 4152, 'window': 4894, 'crowd': 1067, 'mall': 2720, 'pulls': 3464, 'neck': 2985, 'closest': 857, 'shame': 3918, 'print': 3399, 'paid': 3169, '40': 48, 'major': 2711, 'prize': 3405, 'quest': 3486, 'drama': 1346, 'thoroughly': 4459, 'impossible': 2249, 'worried': 4949, 'quite': 3495, 'past': 3207, 'thankfully': 4422, 'enjoying': 1487, 'surviving': 4323, 'whom': 4875, 'devils': 1229, 'doctors': 1305, 'needless': 2989, 'solid': 4057, 'doctor': 1304, 'tad': 4347, 'intense': 2316, 'younger': 4990, 'grade': 1951, 'noticed': 3049, 'unnecessary': 4672, 'nudity': 3059, 'lot': 2661, 'disturbed': 1299, 'believing': 457, 'stories': 4205, 'resembles': 3646, 'werewolf': 4850, 'believes': 456, 'wolf': 4920, 'psychological': 3458, 'universal': 4665, 'threw': 4470, 'supposed': 4306, 'extra': 1606, 'buck': 605, 'concept': 930, 'searching': 3842, 'twist': 4617, 'attempt': 340, 'adding': 117, 'reality': 3551, 'excited': 1561, 'description': 1197, 'breasts': 572, 'decent': 1147, 'psychotic': 3459, 'brains': 563, 'insane': 2296, 'skill': 4013, 'play': 3296, 'breaks': 571, 'creepy': 1052, 'ruined': 3751, 'executed': 1565, '10': 0, 'exactly': 1551, 'kissing': 2484, 'santa': 3783, 'wicked': 4879, 'emotionally': 1460, 'bitter': 491, 'upset': 4687, 'quality': 3484, 'toys': 4543, 'christmas': 810, 'spirit': 4113, 'slasher': 4020, 'disappointed': 1273, 'dies': 1245, 'sure': 4308, 'action': 100, 'reminds': 3620, 'attractive': 351, 'conflicts': 940, 'proceedings': 3410, 'vast': 4716, 'amounts': 220, 'tunes': 4603, 'nothing': 3047, 'wrong': 4973, 'absolute': 71, 'ourselves': 3140, 'embarrassing': 1454, 'admit': 122, 'room': 3735, 'theatre': 4429, 'lowest': 2678, 'truly': 4597, 'name': 2960, 'guessed': 1990, 'san': 3780, 'francisco': 1819, 'jumped': 2430, 'guilty': 1995, 'leave': 2555, 'written': 4972, 'maria': 2736, 'finds': 1728, 'husband': 2204, 'van': 4713, 'cheating': 776, 'dare': 1113, 'painfully': 3172, 'beings': 449, 'sister': 4001, 'feature': 1678, 'barely': 399, 'motivations': 2915, 'blind': 506, 'difficult': 1249, 'suffers': 4278, 'gave': 1875, 'unwatchable': 4682, 'dull': 1384, 'painful': 3171, 'normally': 3034, 'avoid': 363, 'wasting': 4810, 'energy': 1478, 'beating': 425, 'turkey': 4604, 'appeal': 271, 'whatsoever': 4861, 'vaguely': 4706, 'defined': 1160, 'womans': 4922, 'insult': 2309, 'tribute': 4581, 'dire': 1257, 'material': 2766, 'imagine': 2238, 'tried': 4584, 'directing': 1260, 'express': 1600, 'sadness': 3770, 'cure': 1081, 'sleep': 4024, 'kung': 2498, 'fu': 1844, 'cut': 1089, 'martial': 2747, 'artists': 309, 'alexander': 180, 'jackie': 2374, 'chan': 746, 'antics': 255, 'companion': 909, 'particularly': 3195, 'skills': 4014, 'flaw': 1749, 'size': 4012, 'changes': 751, 'various': 4715, 'subplots': 4256, 'wish': 4904, 'temple': 4398, 'count': 1010, 'battle': 414, 'show': 3953, 'worthy': 4956, 'overall': 3150, 'rating': 3529, 'notes': 3046, 'warner': 4799, 'poorly': 3329, 'dubbed': 1379, 'lacked': 2503, 'considering': 952, 'day': 1129, 'involves': 2348, 'move': 2921, 'isolated': 2363, 'desert': 1198, 'california': 650, 'daughter': 1121, 'ryan': 3765, 'figures': 1713, 'recently': 3567, 'explosion': 1596, 'unusual': 4681, 'jim': 2402, 'davis': 1126, 'dorothy': 1330, 'alien': 183, 'forces': 1788, 'elements': 1443, '2001': 31, 'encounters': 1467, 'despite': 1211, 'flaws': 1752, 'uneven': 4649, 'due': 1382, 'superb': 4296, 'allen': 188, 'knock': 2488, 'credit': 1049, 'bud': 607, 'kingdom': 2480, 'basis': 408, 'superman': 4301, 'comics': 895, '1950s': 14, 'chris': 806, 'clark': 832, 'hoping': 2160, 'clever': 841, 'returns': 3668, 'estate': 1525, 'beaten': 424, 'wearing': 4831, 'falling': 1639, 'ocean': 3079, 'leaving': 2557, 'partner': 3198, 'kinds': 2478, 'heroic': 2090, 'guts': 1999, 'save': 3794, 'universe': 4666, 'general': 1880, 'petty': 3249, 'stick': 4185, 'school': 3813, 'rent': 3626, 'crazy': 1035, 'project': 3427, 'built': 618, 'nuclear': 3057, 'underground': 4640, 'covered': 1023, 'inside': 2297, 'cave': 727, 'zombies': 4998, 'top': 4525, 'gruesome': 1986, 'evening': 1534, 'party': 3200, 'pleasure': 3306, 'hundreds': 2196, 'cameo': 657, 'wild': 4885, 'trip': 4588, 'stephen': 4176, 'kings': 2481, 'book': 535, 'names': 2963, 'object': 3066, 'loose': 2650, 'youd': 4987, 'call': 651, 'premise': 3370, 'tension': 4404, 'greatly': 1967, 'climax': 849, 'garbage': 1870, 'cinematic': 818, 'arnold': 296, 'messed': 2821, 'decisions': 1152, 'maker': 2714, 'sensitive': 3879, 'subject': 4253, 'hits': 2125, 'hope': 2155, 'distribution': 1298, 'deserves': 1201, 'yes': 4982, 'correct': 1000, 'rank': 3518, 'james': 2378, 'justice': 2438, 'margaret': 2735, 'hyde': 2206, 'awful': 372, 'gag': 1861, 'sight': 3969, 'thrown': 4481, 'lively': 2627, 'dancer': 1104, 'competent': 917, 'diana': 1237, 'providing': 3451, 'daring': 1114, 'provide': 3448, 'sold': 4052, 'bay': 416, 'spare': 4093, 'yourself': 4993, 'laugh': 2529, 'memorable': 2802, 'dance': 1103, 'following': 1774, 'dreadful': 1353, 'references': 3583, 'possibly': 3351, 'values': 4710, 'wasted': 4809, 'power': 3359, 'rangers': 3517, 'spot': 4131, 'familiar': 1643, 'faces': 1618, 'presumably': 3380, 'decided': 1149, 'monster': 2892, 'costumes': 1006, 'everyones': 1543, 'toy': 4542, 'franchise': 1817, 'episodes': 1508, 'kid': 2464, 'nostalgia': 3038, 'value': 4709, 'consider': 949, 'fairy': 1632, 'tales': 4357, 'shelley': 3928, 'imaginative': 2237, 'popular': 3333, 'scripts': 3836, 'offer': 3087, 'cinderella': 815, 'exception': 1557, 'standard': 4144, 'jennifer': 2392, 'jean': 2389, 'southern': 4088, 'accent': 78, 'eve': 1532, 'edie': 1419, 'jane': 2380, 'hilarious': 2106, 'duo': 1386, 'prince': 3396, 'henry': 2084, 'lucky': 2683, 'catch': 714, 'nyc': 3065, 'blew': 505, 'heard': 2062, 'festival': 1697, 'deserved': 1200, 'struck': 4232, 'cinematography': 820, 'eric': 1514, 'necessary': 2984, 'across': 96, 'future': 1856, 'projects': 3428, 'narration': 2965, 'surreal': 4317, 'critic': 1061, 'concerned': 932, 'english': 1483, 'reviewers': 3678, 'native': 2972, 'hearts': 2066, 'child': 789, 'keeping': 2450, 'winter': 4900, 'break': 569, 'building': 615, 'awesome': 371, 'snow': 4045, 'forth': 1804, 'control': 977, 'weapons': 4829, 'hands': 2020, 'lessons': 2578, 'agree': 155, 'albeit': 173, 'animation': 242, 'addition': 118, 'positive': 3346, 'adults': 126, 'co': 867, 'earlier': 1399, 'rental': 3627, 'manhattan': 2726, 'tongue': 4518, 'cheek': 779, 'shakespeare': 3915, 'underlying': 4641, 'wit': 4908, 'intelligence': 2313, 'storyline': 4208, 'parallel': 3185, 'park': 3190, 'castle': 712, 'mr': 2929, 'fond': 1776, 'warm': 4794, 'six': 4010, 'thirty': 4456, 'primarily': 3393, 'charming': 768, 'brooklyn': 595, 'neighborhood': 2993, 'measure': 2786, 'considerable': 950, 'deep': 1154, 'essential': 1522, 'core': 995, 'reminded': 3619, 'al': 170, 'richard': 3686, 'checking': 778, 'sneak': 4043, 'follows': 1775, 'fallen': 1638, 'prove': 3445, 'wall': 4781, 'magical': 2704, 'joy': 2422, 'beautifully': 429, 'spread': 4133, 'corny': 997, 'bride': 577, 'outstanding': 3147, 'claire': 831, 'danes': 1108, 'naive': 2958, 'under': 4639, 'rated': 3527, 'michelle': 2830, 'stellar': 4174, 'down': 1335, 'steals': 4172, 'fantasy': 1652, 'lots': 2662, 'candy': 668, 'entertained': 1498, 'unbelievably': 4635, 'lynch': 2691, 'focusing': 1769, 'beyond': 476, 'eccentric': 1414, 'reveal': 3670, 'whether': 4866, 'unreal': 4676, 'blue': 518, 'abuse': 74, 'exploitation': 1592, 'empty': 1465, 'bedroom': 437, 'cats': 721, 'bed': 436, 'holes': 2133, 'walls': 4783, 'incredibly': 2270, 'sad': 3767, 'forget': 1793, 'disturbing': 1300, '11': 2, 'oscar': 3133, 'win': 4892, 'giving': 1915, 'awards': 367, 'roles': 3727, 'denzel': 1181, 'washington': 4806, 'oscars': 3134, 'year': 4978, 'african': 142, 'desired': 1206, 'somewhere': 4069, 'west': 4852, 'africa': 141, 'steven': 4182, 'spielberg': 4110, 'outside': 3146, 'speaks': 4096, 'needs': 2990, 'student': 4238, 'molly': 2884, 'ago': 154, 'sadly': 3769, 'lacking': 2504, 'curse': 1086, 'psycho': 3457, 'murderer': 2941, 'exposure': 1599, 'dying': 1393, 'modern': 2882, 'exciting': 1563, 'table': 4346, 'half': 2007, 'wes': 4851, '90s': 61, 'dropping': 1371, 'la': 2500, 'scream': 3826, 'except': 1556, 'nightmare': 3014, 'editing': 1421, 'annoying': 249, 'laughable': 2530, 'fortunately': 1805, 'humor': 2192, 'dressed': 1358, 'owner': 3159, 'filming': 1718, 'worry': 4950, 'ha': 2002, 'liners': 2611, 'renting': 3629, 'agent': 150, 'rick': 3689, 'sci': 3815, 'fi': 1701, 'crap': 1031, 'questions': 3489, 'attacks': 339, 'hung': 2197, 'hadnt': 2004, 'french': 1830, 'eg': 1434, 'wave': 4818, 'length': 2569, 'personally': 3243, 'pan': 3180, 'events': 1536, 'causing': 726, 'subtle': 4260, 'bits': 490, 'happening': 2028, 'century': 736, 'drop': 1369, '20th': 38, 'france': 1816, 'society': 4050, 'largely': 2518, 'record': 3573, 'players': 3299, 'worlds': 4947, 'loses': 2657, 'recognition': 3568, 'similar': 3978, 'utterly': 4702, 'convinced': 984, 'bruce': 602, 'trouble': 4592, 'inappropriate': 2259, 'stops': 4203, 'discover': 1279, 'water': 4816, 'shirt': 3937, 'ones': 3108, 'gotta': 1946, 'problem': 3408, 'obsession': 3070, 'troubles': 4594, 'beats': 426, 'gang': 1867, 'thugs': 4484, 'pay': 3216, 'restaurant': 3658, 'uncle': 4636, 'considered': 951, 'learned': 2551, 'triumph': 4590, 'innocent': 2294, 'represent': 3637, 'admire': 121, 'experience': 1580, 'beat': 423, 'lees': 2560, 'ah': 158, 'suggest': 4280, 'fashioned': 1660, 'spots': 4132, 'lady': 2507, 'ran': 3513, 'thief': 4448, 'jerk': 2395, 'hook': 2152, 'potential': 3355, 'dinner': 1254, 'mans': 2730, 'handled': 2019, 'awfully': 373, 'clichéd': 845, 'once': 3106, 'forward': 1808, 'cable': 644, 'mad': 2696, 'season': 3843, 'unoriginal': 4673, 'contrived': 976, 'blacks': 494, 'writers': 4969, 'hip': 2114, 'rare': 3523, 'selfish': 3870, 'hated': 2047, 'mexico': 2827, 'cliché': 844, 'technical': 4381, 'add': 115, 'motivation': 2914, 'casting': 711, 'suspect': 4327, 'challenge': 743, 'unless': 4669, 'mary': 2751, 'thomas': 4458, 'tony': 4521, 'king': 2479, '70s': 56, 'unlike': 4670, 'ultimately': 4628, 'fit': 1740, 'died': 1244, 'lived': 2626, 'grave': 1962, 'feeling': 1685, 'biggest': 480, 'hollow': 2135, 'foster': 1809, 'regarding': 3589, 'granted': 1957, 'empathy': 1462, 'nonetheless': 3029, 'environment': 1505, 'behavior': 446, 'themes': 4434, 'dealt': 1138, 'soft': 4051, 'porn': 3336, 'ugly': 4625, 'portraying': 3343, 'anybody': 257, 'dirty': 1268, 'satisfy': 3790, 'enjoys': 1489, 'telling': 4396, 'bag': 384, 'animated': 241, 'twilight': 4614, 'zone': 4999, 'mixture': 2878, 'lifetime': 2594, 'network': 3000, 'train': 4556, 'build': 614, 'anyways': 262, 'grow': 1982, 'wise': 4903, 'kevin': 2457, 'harvey': 2042, 'tim': 4494, 'robbins': 3712, 'christopher': 811, 'lloyd': 2630, 'june': 2433, 'baker': 385, 'weird': 4841, 'clint': 850, 'eastwood': 1409, 'burt': 629, 'reynolds': 3684, 'bob': 524, 'joe': 2407, 'martin': 2748, 'sometimes': 4067, 'stinker': 4191, 'nostalgic': 3039, 'sort': 4077, 'watches': 4814, '30': 42, 'historically': 2120, 'accurate': 90, 'intention': 2319, 'judging': 2425, 'titles': 4506, 'badly': 383, 'court': 1020, 'expert': 1585, 'victoria': 4732, 'mouth': 2920, 'speaking': 4095, 'prime': 3395, 'sympathetic': 4342, 'shoes': 3941, 'convincing': 985, 'allow': 189, 'mrs': 2930, 'brown': 601, 'honest': 2146, 'distracting': 1297, '1996': 26, 'terrorists': 4414, 'cia': 814, 'doomed': 1327, 'plane': 3288, 'sky': 4017, 'doom': 1326, 'contain': 962, 'execution': 1566, 'send': 3875, 'virus': 4752, 'carried': 698, 'air': 164, 'door': 1328, 'occur': 3076, 'shoot': 3942, 'legs': 2566, 'plus': 3311, 'rubbish': 3748, 'rex': 3683, 'goldberg': 1933, 'pathetic': 3210, 'dinosaur': 1255, 'scripted': 3835, 'sucked': 4270, 'loud': 2664, 'dedicated': 1153, 'newspaper': 3006, 'type': 4621, 'morgan': 2905, 'freeman': 1829, 'justin': 2440, 'cary': 706, 'throw': 4479, 'edited': 1420, 'required': 3641, 'ratings': 3530, '100': 1, 'imdb': 2240, 'page': 3167, 'jesse': 2397, 'onto': 3111, 'church': 813, 'spoke': 4125, 'holy': 2140, 'busy': 635, 'department': 1182, 'huge': 2185, 'classical': 836, 'entirely': 1503, 'aware': 368, 'river': 3707, 'montana': 2895, 'draws': 1352, 'closer': 856, 'simplicity': 3984, 'counter': 1011, 'community': 908, 'contains': 964, 'heavy': 2070, 'disney': 1289, 'calling': 653, 'styles': 4250, 'brad': 560, 'pitt': 3280, 'louise': 2666, 'meet': 2793, 'superbly': 4297, 'violence': 4747, 'foul': 1810, 'crash': 1033, 'peace': 3219, 'brilliant': 583, 'tone': 4517, 'offers': 3090, 'ho': 2127, 'attitude': 346, 'media': 2789, 'sir': 4000, 'quiet': 3492, 'explosions': 1597, 'soldiers': 4054, 'broken': 594, 'mistakes': 2873, 'thousands': 4466, 'suffering': 4277, 'capable': 672, 'rules': 3754, 'removed': 3624, 'crimes': 1056, 'shock': 3938, '60': 53, 'called': 652, '50': 51, 'ireland': 2352, 'deals': 1137, 'surely': 4309, 'famous': 1647, 'surrounding': 4319, 'forest': 1791, 'master': 2757, 'task': 4368, 'friendly': 1836, 'manner': 2729, 'traditional': 4550, 'sorts': 4078, 'monk': 2889, 'blend': 504, 'catholic': 720, 'relief': 3605, 'broad': 590, 'minor': 2857, 'problems': 3409, 'escapes': 1519, 'professor': 3422, 'card': 681, 'dating': 1120, 'cards': 683, 'passed': 3202, 'short': 3946, 'involve': 2345, 'walking': 4779, 'talking': 4360, 'serve': 3893, 'clothing': 861, 'missed': 2867, 'killer': 2470, 'knife': 2487, 'photo': 3257, 'wears': 4832, 'outfit': 3144, 'strictly': 4223, 'carl': 692, 'generation': 1883, 'masters': 2761, 'miserable': 2863, 'logic': 2638, 'forgive': 1795, '1973': 19, 'lion': 2614, 'doubt': 1332, 'drawing': 1350, 'remote': 3622, 'scottish': 3825, 'remake': 3612, 'hardly': 2036, 'minded': 2850, 'public': 3460, 'hang': 2022, 'strikes': 4225, 'scott': 3824, 'glenn': 1918, 'intellectual': 2312, 'prior': 3400, 'league': 2549, 'upper': 4685, 'brain': 562, 'holding': 2130, 'surprise': 4312, 'enemies': 1476, 'clue': 864, 'dad': 1095, 'evidence': 1546, 'furthermore': 1854, 'apartment': 265, 'tells': 4397, 'bet': 470, 'pretentious': 3383, 'meaningless': 2782, 'mystery': 2956, 'popcorn': 3331, 'mask': 2752, 'screams': 3828, 'intensity': 2317, 'places': 3284, 'search': 3841, 'presented': 3376, 'scary': 3807, 'prefer': 3368, 'dream': 1354, 'drug': 1373, 'highlight': 2103, 'safety': 3772, 'scared': 3805, 'entertainment': 1500, 'importantly': 2248, 'interview': 2329, 'essence': 1521, 'responsibility': 3655, 'clean': 838, 'mafia': 2700, 'criminals': 1058, 'loyal': 2679, 'methods': 2825, 'corrupt': 1001, 'frame': 1815, 'showing': 3958, 'serial': 3889, 'explained': 1587, 'majority': 2712, 'thanks': 4423, 'terms': 4406, 'endure': 1475, 'dennis': 1179, 'hopper': 2161, 'cry': 1073, 'south': 4087, 'chief': 788, 'editor': 1423, 'daily': 1097, 'writes': 4970, 'views': 4742, 'steve': 4181, 'decides': 1150, 'write': 4967, 'matter': 2769, 'truth': 4599, 'cause': 723, 'aged': 149, 'farm': 1656, 'aside': 315, 'revolution': 3680, '1984': 23, 'standards': 4145, 'period': 3236, 'smile': 4036, 'charm': 767, 'causes': 725, 'moore': 2901, 'spoiled': 4122, 'lazy': 2543, 'linda': 2609, 'waitress': 4773, 'pull': 3461, 'lovely': 2671, 'funeral': 1849, 'afraid': 140, 'buried': 624, 'elizabeth': 1445, 'georges': 1894, 'widow': 4883, 'grown': 1984, 'ii': 2226, 'band': 391, 'blonde': 511, 'yellow': 4981, 'red': 3576, 'dress': 1357, 'used': 4693, 'practice': 3363, 'amazed': 208, 'ian': 2209, 'aging': 153, 'attracted': 349, 'reunion': 3669, 'jail': 2376, 'army': 295, 'states': 4163, 'turn': 4605, 'flashbacks': 1747, 'london': 2641, 'arrives': 302, 'filled': 1715, 'friendship': 1838, 'afterwards': 145, 'plans': 3292, 'sentimental': 3882, 'hearted': 2065, 'cringe': 1059, 'wonders': 4931, 'weight': 4840, 'joan': 2404, 'sings': 3997, 'jazz': 2387, 'gordon': 1940, 'magazine': 2701, 'batman': 413, 'robin': 3715, 'drugs': 1374, 'buddy': 609, 'became': 431, 'repetitive': 3633, 'formula': 1802, 'legal': 2563, 'corruption': 1002, 'streets': 4217, 'nasty': 2968, 'flawless': 1751, 'frustration': 1843, 'subjects': 4254, 'photography': 3260, 'shy': 3962, 'officers': 3093, 'protagonists': 3442, 'direction': 1261, 'balance': 387, 'depressing': 1188, 'bright': 581, 'mgm': 2828, 'shelf': 3926, 'los': 2653, 'angeles': 233, 'filmmakers': 1720, 'commentary': 899, 'widely': 4881, 'backgrounds': 381, 'cross': 1066, 'everyday': 1541, 'disjointed': 1287, 'numerous': 3062, 'drive': 1363, 'abandoned': 62, 'baby': 376, 'lawyer': 2541, 'summer': 4291, 'camp': 662, 'generous': 1886, 'experiences': 1582, 'rocks': 3722, 'humorous': 2193, 'rage': 3505, 'shallow': 3917, 'uninspired': 4657, 'satisfied': 3789, 'suits': 4287, 'revelation': 3674, 'change': 749, 'recall': 3562, 'paying': 3217, 'missing': 2869, 'influence': 2286, 'forever': 1792, 'jon': 2416, 'voight': 4764, 'beatty': 427, 'cox': 1026, 'horrifying': 2167, 'held': 2074, 'extent': 1605, 'focused': 1767, 'anime': 243, 'symbolism': 4341, 'breathtaking': 574, 'text': 4419, 'hello': 2078, 'acid': 95, 'epic': 1506, 'whoever': 4872, 'bound': 553, 'incredible': 2269, 'journey': 2421, 'treasure': 4571, 'sweet': 4336, 'qualities': 3483, 'magnificent': 2705, 'trees': 4577, 'pure': 3471, 'kim': 2475, 'laura': 2536, 'conventional': 979, 'jamie': 2379, 'appearance': 274, 'peter': 3247, 'shadow': 3912, 'loving': 2675, 'voiced': 4762, 'don': 1320, 'clumsy': 866, 'talented': 4355, 'michael': 2829, 'image': 2233, 'elegant': 1441, 'independent': 2272, 'proud': 3444, 'sally': 3776, 'field': 1704, 'sequel': 3885, 'inferior': 2285, 'indian': 2274, 'baseball': 403, 'bears': 421, 'figure': 1711, 'alongside': 196, 'match': 2762, 'website': 4834, 'chosen': 805, 'remind': 3618, 'pity': 3281, 'word': 4937, 'advice': 133, 'ability': 65, 'repeated': 3631, 'vague': 4705, 'inventive': 2341, 'refuses': 3587, 'notice': 3048, 'personalities': 3241, 'ideal': 2214, 'culture': 1079, 'hidden': 2096, 'politically': 3325, 'wooden': 4934, 'act': 97, 'existent': 1572, 'lifestyle': 2593, 'randomly': 3515, 'friend': 1835, '20': 29, 'unbelievable': 4634, 'boyfriend': 558, 'daniel': 1111, 'fields': 1705, 'random': 3514, 'create': 1036, 'inspiration': 2300, 'ball': 388, 'letting': 2583, 'shine': 3931, 'excitement': 1562, 'generally': 1881, 'spirited': 4114, 'sympathy': 4343, 'childish': 791, 'improved': 2255, 'burns': 628, 'creating': 1039, 'enter': 1494, 'jealous': 2388, 'behind': 447, 'nor': 3032, 'outrageous': 3145, 'opportunity': 3121, 'fooled': 1780, 'fails': 1628, 'realizes': 3554, 'innovative': 2295, 'audiences': 353, 'tear': 4379, 'overdone': 3152, 'orders': 3127, 'failed': 1626, 'skip': 4016, 'par': 3184, 'crime': 1055, 'terribly': 4408, 'potentially': 3356, 'promising': 3433, 'uninteresting': 4660, 'research': 3644, 'affair': 135, 'scientists': 3819, 'intriguing': 2335, 'able': 66, 'attraction': 350, 'faced': 1617, 'slaughter': 4021, 'killing': 2472, 'goofy': 1939, 'heavily': 2069, 'emma': 1457, 'returned': 3666, 'superhero': 4299, 'villain': 4744, 'bland': 500, 'spy': 4135, 'producers': 3416, 'board': 522, 'faithful': 1634, 'available': 361, 'curiosity': 1082, 'sake': 3775, 'hippie': 2115, 'trite': 4589, 'hair': 2005, 'wing': 4896, 'besides': 468, 'root': 3737, 'fill': 1714, 'joined': 2413, 'bank': 394, 'sent': 3880, 'suspicious': 4332, 'double': 1331, 'guns': 1998, 'criminal': 1057, 'consistent': 953, 'medium': 2792, 'hbo': 2055, 'gas': 1874, 'crisis': 1060, 'speed': 4103, 'flicks': 1755, 'cartoons': 705, 'quirky': 3493, 'larry': 2520, 'genius': 1887, 'kenneth': 2455, 'vegas': 4717, 'pursuit': 3476, 'ripped': 3701, 'super': 4295, 'spiritual': 4116, 'fear': 1676, 'driven': 1365, 'sin': 3988, 'whatever': 4859, 'ambitious': 211, 'talents': 4356, 'path': 3209, 'belong': 459, 'goal': 1925, 'stolen': 4195, 'machine': 2693, 'reach': 3536, 'skin': 4015, 'features': 1680, 'rule': 3753, 'forgotten': 1797, 'weekend': 4838, 'monkey': 2890, 'reaches': 3538, 'lonely': 2643, 'mirror': 2861, 'dragged': 1343, 'nine': 3017, 'winner': 4897, 'literature': 2623, 'commit': 904, 'suicide': 4283, 'mountain': 2917, 'frankly': 1823, 'mainstream': 2709, 'courage': 1018, 'pg': 3250, 'bother': 548, 'exposed': 1598, 'incoherent': 2265, 'primary': 3394, 'teachers': 4376, 'crying': 1074, 'realise': 3548, 'lower': 2677, 'expectations': 1576, 'notch': 3043, 'redeeming': 3577, 'humour': 2194, 'laughs': 2534, 'lie': 2590, 'gradually': 1952, 'victims': 4730, 'boys': 559, 'girls': 1911, 'longer': 2645, 'flat': 1748, 'pile': 3275, 'appalling': 268, 'awkward': 374, 'stilted': 4190, 'inane': 2258, 'boat': 523, 'wrapped': 4964, 'explain': 1586, 'western': 4853, 'vice': 4727, 'thank': 4421, 'chances': 748, 'mayor': 2777, 'united': 4664, 'mere': 2814, 'east': 1407, 'contained': 963, 'breath': 573, 'cake': 648, 'integrity': 2311, 'claimed': 829, 'equivalent': 1512, 'australia': 356, 'rush': 3759, 'kelly': 2452, 'paper': 3183, 'sunshine': 4294, 'design': 1202, 'australian': 357, 'irish': 2353, 'folk': 1770, 'finished': 1733, 'relatively': 3600, 'join': 2412, 'satisfying': 3791, 'girlfriend': 1910, 'narrative': 2966, 'suddenly': 4273, 'odd': 3080, 'failure': 1629, 'che': 773, 'resolution': 3649, 'digital': 1251, 'revolutionary': 3681, 'infamous': 2284, 'deliberately': 1166, 'developing': 1224, 'remaining': 3610, 'spanish': 4092, 'stage': 4139, 'solely': 4056, 'knowledge': 2491, 'scenery': 3810, 'mentally': 2809, 'misery': 2865, 'troops': 4591, 'deeply': 1156, 'local': 2634, 'insight': 2298, 'interviews': 2330, 'replaced': 3634, 'president': 3378, 'government': 1948, 'indie': 2276, 'producer': 3415, 'cinemas': 817, 'hint': 2112, 'strongly': 4231, 'theyd': 4443, 'relevant': 3604, 'amongst': 218, 'chose': 804, 'downhill': 1336, 'aka': 168, 'painting': 3175, 'aforementioned': 139, 'tragic': 4552, 'confusing': 942, 'irritating': 2359, 'spoilers': 4124, 'responsible': 3656, 'effect': 1428, 'structure': 4233, 'coherent': 871, 'provoking': 3452, 'combine': 884, 'uncomfortable': 4637, 'shower': 3957, 'block': 508, 'online': 3109, 'semi': 3874, 'jokes': 2415, 'makers': 2715, 'trade': 4547, 'thick': 4447, 'tortured': 4530, 'detective': 1220, 'stan': 4142, 'murder': 2939, 'device': 1227, 'dropped': 1370, 'established': 1524, 'flashback': 1746, 'conversations': 981, 'wishing': 4907, 'necessarily': 2983, 'crush': 1072, 'arm': 292, 'dangerous': 1110, 'wreck': 4965, 'wishes': 4906, 'realizing': 3555, 'related': 3594, 'drinking': 1362, 'urge': 4689, 'desperate': 1208, 'commented': 900, 'develop': 1222, 'advantage': 129, 'visual': 4757, 'audio': 354, 'imagination': 2236, 'resemblance': 3645, 'cares': 690, '24': 39, 'naked': 2959, 'visually': 4758, 'cameras': 660, 'personality': 3242, 'surface': 4310, 'manage': 2722, 'terrific': 4409, 'vote': 4766, 'bought': 552, 'wondered': 4927, 'jessica': 2398, 'tired': 4501, 'accents': 79, 'stereotypes': 4179, 'americans': 214, 'buying': 641, 'spend': 4105, 'sucks': 4271, 'artistic': 308, 'torture': 4529, 'freak': 1824, 'wrestling': 4966, 'asleep': 320, 'kinda': 2477, 'worthwhile': 4955, 'deeper': 1155, 'morality': 2903, 'vs': 4767, 'civilization': 827, 'carefully': 689, 'choices': 798, 'lies': 2591, 'shocking': 3940, 'masterful': 2758, 'feet': 1688, 'floor': 1759, 'suspense': 4330, 'priest': 3392, 'conflict': 939, 'devoid': 1230, 'tedious': 4387, 'exercise': 1568, 'brothers': 599, 'via': 4726, 'redemption': 3578, 'franco': 1820, 'intelligent': 2314, 'stress': 4220, 'familys': 1646, 'handed': 2016, 'efforts': 1433, 'hugh': 2186, 'artist': 307, 'condition': 937, 'odds': 3082, 'patients': 3212, 'enormous': 1490, 'depicted': 1183, 'dialogs': 1233, 'witty': 4917, 'lovers': 2673, 'scooby': 3820, 'doo': 1325, 'victor': 4731, 'zombie': 4997, 'stone': 4197, 'eaten': 1412, 'dean': 1139, 'twelve': 4611, 'bela': 450, 'desperately': 1209, 'reflection': 3585, 'fourth': 1813, 'front': 1841, 'hilariously': 2107, 'asking': 318, 'fights': 1710, 'recognize': 3569, '50s': 52, 'smart': 4035, 'theatrical': 4430, 'timing': 4498, 'showed': 3956, 'berlin': 467, 'europe': 1529, 'kudos': 2497, 'abc': 63, 'daughters': 1122, 'amy': 222, 'son': 4070, 'ritter': 3705, '2nd': 41, 'brazil': 568, 'rival': 3706, 'likable': 2598, 'progresses': 3426, 'massacre': 2754, 'revenge': 3675, 'village': 4743, 'clothes': 860, 'prisoner': 3402, 'nearby': 2980, 'satire': 3788, 'maintain': 2710, 'riveting': 3708, 'threat': 4467, 'dry': 1377, 'theyve': 4446, 'outcome': 3142, 'hopes': 2159, 'pacino': 3164, 'trash': 4565, 'locations': 2636, 'hopeless': 2158, 'pulled': 3462, 'sub': 4252, 'sport': 4129, 'remembered': 3617, 'hoped': 2156, 'burned': 626, 'obsessed': 3069, 'kurt': 2499, 'develops': 1226, 'originally': 3131, 'russell': 3761, 'basic': 406, 'rolled': 3729, 'imagined': 2239, 'accidentally': 85, 'continued': 970, 'intrigued': 2334, 'yeah': 4977, 'hill': 2108, 'mild': 2839, 'murdered': 2940, 'revolves': 3682, 'ignored': 2225, 'trial': 4580, '1960s': 15, 'examples': 1554, 'merely': 2815, 'neat': 2982, 'fell': 1690, 'marriage': 2743, 'felix': 1689, 'walter': 4784, 'matthau': 2771, 'superficial': 4298, 'unfolds': 4651, 'versus': 4722, 'briefly': 580, 'divorce': 1301, 'francis': 1818, 'club': 863, 'inept': 2281, 'wear': 4830, 'serving': 3897, 'cheese': 780, 'throwing': 4480, 'altogether': 202, 'meeting': 2794, 'ex': 1549, 'cutting': 1092, 'endearing': 1469, 'health': 2060, 'overly': 3155, 'convince': 983, 'occurs': 3078, 'sisters': 4002, 'comedic': 888, 'results': 3662, 'unfortunate': 4653, 'caliber': 649, 'alert': 178, 'happily': 2030, 'months': 2897, 'cynical': 1093, 'explaining': 1588, 'provides': 3450, 'storytelling': 4209, 'wide': 4880, 'settings': 3901, 'quotes': 3497, 'wet': 4855, 'somehow': 4063, 'adds': 119, 'higher': 2101, 'pit': 3278, 'hurt': 2202, 'leg': 2562, 'pushed': 3478, 'shouldnt': 3952, 'carries': 699, 'pretend': 3381, 'differences': 1247, 'global': 1920, 'warming': 4795, 'laws': 2540, 'instinct': 2308, 'finding': 1727, 'acceptable': 81, 'unable': 4631, 'grasp': 1960, 'somebody': 4062, 'dreams': 1355, 'taxi': 4371, 'driver': 1366, 'bore': 540, 'shut': 3961, 'balls': 390, 'hurts': 2203, 'advise': 134, 'latter': 2528, 'ages': 152, 'kick': 2460, 'ass': 323, 'plots': 3310, 'spoil': 4121, 'holiday': 2134, 'asks': 319, 'letter': 2581, 'unaware': 4632, 'parent': 3187, 'portray': 3340, 'possibility': 3349, 'rid': 3690, 'blows': 517, 'neither': 2996, 'assume': 328, 'situations': 4009, 'laughter': 2535, 'errors': 1516, 'ships': 3935, 'delivery': 1173, 'artificial': 306, 'cowboy': 1025, 'okay': 3099, 'partly': 3197, 'ups': 4686, 'dancing': 1107, 'topless': 4527, 'tied': 4489, 'chest': 784, 'requires': 3642, 'liberal': 2588, 'began': 441, 'bobby': 525, 'arrested': 298, 'ruin': 3750, 'peoples': 3222, 'bands': 392, 'centers': 734, 'brian': 576, 'element': 1442, 'fascinated': 1657, 'charismatic': 763, 'promise': 3430, 'angels': 234, 'information': 2288, 'defense': 1159, 'traveling': 4568, 'exotic': 1574, 'stock': 4193, 'graphics': 1959, 'stargate': 4151, 'anderson': 227, 'bigger': 479, 'feed': 1683, 'robot': 3717, 'tune': 4602, 'accept': 80, 'overrated': 3156, 'god': 1926, 'unfunny': 4655, 'colour': 880, 'decision': 1151, 'supposedly': 4307, 'thin': 4449, 'arrival': 299, 'arts': 310, 'crafted': 1029, 'stays': 4169, 'haunted': 2050, 'wacky': 4769, 'joey': 2408, 'delight': 1167, 'movement': 2923, 'constantly': 958, 'choreography': 802, 'atmosphere': 333, 'notable': 3041, 'mistaken': 2872, 'ears': 1402, 'cheesy': 781, 'treats': 4575, 'christ': 807, 'russian': 3762, 'faith': 1633, 'carpenter': 694, 'behave': 445, 'walker': 4778, 'texas': 4418, 'useless': 4695, 'religion': 3607, 'religious': 3608, 'nuts': 3064, 'favor': 1670, 'therefore': 4439, 'hence': 2083, 'cgi': 740, 'critical': 1062, 'alive': 186, 'directly': 1263, 'von': 4765, 'tricks': 4583, 'list': 2617, 'gothic': 1945, 'featuring': 1681, 'albert': 174, 'taste': 4369, 'folks': 1771, 'sarah': 3785, 'loser': 2655, 'saturday': 3792, 'immediately': 2242, 'pants': 3182, 'mike': 2838, 'hammer': 2014, 'private': 3404, 'misses': 2868, 'sexy': 3911, 'eva': 1531, 'raped': 3522, 'orange': 3125, 'lousy': 2667, 'multi': 2935, 'winning': 4898, 'swedish': 4335, 'reached': 3537, 'perform': 3227, 'wed': 4835, 'locked': 2637, 'frequent': 1831, 'recorded': 3574, 'spoken': 4126, 'swear': 4334, 'territory': 4411, 'complex': 923, 'inevitable': 2282, 'showdown': 3955, 'hasnt': 2044, 'succeeded': 4263, 'whilst': 4869, 'enters': 1496, 'glorious': 1921, 'competition': 918, 'agrees': 157, 'superior': 4300, 'murders': 2943, 'promises': 3432, 'elderly': 1440, 'store': 4204, 'hunters': 2200, 'vietnam': 4735, 'enemy': 1477, 'adventure': 130, 'survival': 4320, 'mexican': 2826, 'tape': 4365, 'areas': 287, 'occasion': 3073, 'evident': 1547, 'panic': 3181, 'struggle': 4234, 'freddy': 1826, 'significant': 3972, 'step': 4175, 'arms': 294, 'genres': 1889, 'disappoint': 1272, 'eighties': 1437, 'entry': 1504, 'latin': 2527, 'successfully': 4267, 'throat': 4476, 'originality': 3130, 'sincere': 3991, 'creativity': 1042, 'marvelous': 2750, 'teenager': 4390, 'sexual': 3908, 'explored': 1595, 'soviet': 4089, 'union': 4661, 'exist': 1569, 'presents': 3377, 'explicit': 1591, 'debut': 1143, 'plastic': 3294, 'fitting': 1742, 'lust': 2689, 'mundane': 2938, 'crappy': 1032, 'erotic': 1515, 'range': 3516, 'snake': 4042, 'letters': 2582, 'waves': 4819, 'cars': 702, 'coffee': 870, 'machines': 2694, 'answer': 251, 'involving': 2349, 'tracks': 4545, 'endless': 1473, 'driving': 1368, 'sat': 3786, 'scale': 3802, 'destruction': 1216, 'speech': 4102, 'destroyed': 1214, 'japanese': 2382, 'suit': 4284, 'aimed': 162, 'retired': 3664, 'wars': 4804, 'useful': 4694, 'limits': 2607, 'unintentional': 4658, 'sentence': 3881, 'preview': 3386, 'regular': 3592, 'theaters': 4428, 'hamlet': 2013, 'pleased': 3305, 'branagh': 564, 'billy': 482, '17': 9, 'spin': 4112, 'lesser': 2576, 'genuinely': 1892, 'attempting': 342, 'charles': 764, 'doc': 1303, 'chain': 741, 'prison': 3401, 'highlights': 2104, 'namely': 2962, 'nicely': 3009, 'drivel': 1364, 'tears': 4380, 'eight': 1436, 'steps': 4177, 'rising': 3703, 'pointed': 3317, 'transition': 4561, 'absence': 70, 'routine': 3743, 'individual': 2277, 'conversation': 980, 'instant': 2305, 'incident': 2260, 'proved': 3446, 'timeless': 4496, 'arrived': 301, 'frank': 1821, 'oz': 3160, 'lucas': 2680, 'saga': 3773, 'spite': 4117, 'appearing': 277, 'previously': 3388, 'bonus': 534, 'dinosaurs': 1256, 'explains': 1589, 'mothers': 2912, 'heroes': 2089, 'villains': 4745, 'warriors': 4803, 'strength': 4219, 'protagonist': 3441, 'achieved': 93, 'subplot': 4255, 'notion': 3050, 'source': 4086, 'gifted': 1907, 'consequences': 947, 'lying': 2690, 'mighty': 2836, 'conceived': 929, 'ancient': 225, 'orson': 3132, 'welles': 4844, 'witches': 4910, 'eastern': 1408, 'philosophy': 3254, 'refreshing': 3586, 'latest': 2526, 'studios': 4241, 'unrealistic': 4677, 'suggests': 4282, 'cusack': 1088, 'politics': 3326, 'occasional': 3074, 'disagree': 1269, 'regardless': 3590, 'jeremy': 2394, 'directorial': 1265, 'jobs': 2406, '60s': 54, 'experienced': 1581, 'hanks': 2025, 'montage': 2894, 'basically': 407, 'talks': 4361, 'focus': 1766, 'starting': 4158, 'scare': 3803, '1930s': 11, 'wives': 4918, 'depiction': 1185, 'iraq': 2351, 'backdrop': 379, 'blown': 516, 'described': 1195, 'sadistic': 3768, 'handle': 2018, 'according': 88, 'cult': 1077, 'ham': 2011, 'racism': 3502, 'clichés': 846, 'ad': 110, 'soldier': 4053, 'demented': 1176, 'deserve': 1199, 'die': 1243, 'hysterical': 2208, 'stunt': 4245, 'base': 402, 'surrounded': 4318, 'indians': 2275, 'gods': 1928, 'terrorist': 4413, 'sheer': 3925, 'toward': 4539, 'bullet': 620, 'monkeys': 2891, 'terry': 4415, 'stranger': 4213, 'pulling': 3463, 'guessing': 1991, 'tragedy': 4551, 'willis': 4890, 'travel': 4567, 'remarkable': 3613, 'risk': 3704, 'essentially': 1523, 'futuristic': 1857, 'killers': 2471, 'plight': 3308, 'stereotype': 4178, 'drops': 1372, 'reminiscent': 3621, 'paint': 3173, 'ironic': 2355, 'marty': 2749, 'simon': 3982, 'flash': 1745, 'hiding': 2099, 'compelled': 915, 'beer': 439, 'overlook': 3153, 'horrid': 2165, 'donna': 1323, 'gratuitous': 1961, 'extras': 1608, 'trailer': 4554, 'trailers': 4555, 'bloody': 513, 'teenagers': 4391, 'hop': 2154, 'gem': 1877, 'section': 3853, 'decide': 1148, 'excessive': 1560, 'simpson': 3987, 'robinson': 3716, 'amateurish': 207, 'forgot': 1796, 'poignant': 3315, 'visit': 4755, 'committed': 905, 'melodramatic': 2798, 'winds': 4895, 'identify': 2216, 'apparent': 269, 'frequently': 1832, 'rings': 3699, 'supernatural': 4302, 'initially': 2291, 'continues': 971, 'fault': 1668, 'chooses': 800, 'reduced': 3579, 'del': 1165, 'ranks': 3519, 'stupidity': 4248, 'pain': 3170, 'rolling': 3730, 'atrocious': 335, 'ensues': 1493, 'unpleasant': 4674, 'nail': 2957, 'alex': 179, 'suck': 4269, 'saved': 3795, 'false': 1641, 'reveals': 3673, 'damn': 1100, 'alas': 172, 'repeatedly': 3632, 'hire': 2116, 'poster': 3353, 'post': 3352, 'summary': 4290, 'powers': 3361, 'carrey': 696, 'journalist': 2420, 'report': 3635, 'comedian': 887, 'trained': 4557, 'answers': 252, 'mail': 2706, 'understated': 4646, 'forgettable': 1794, 'total': 4531, 'kicking': 2462, 'buildings': 616, '1940s': 13, 'grant': 1956, 'houses': 2180, 'attorney': 348, 'perfection': 3225, 'steal': 4170, 'harry': 2039, '1st': 28, '3rd': 47, 'sappy': 3784, 'con': 928, 'provided': 3449, 'confusion': 943, 'bond': 532, 'novels': 3053, 'boot': 538, 'icon': 2211, 'brosnan': 597, 'sean': 3840, 'poetic': 3313, 'heaven': 2068, 'philosophical': 3253, 'suitable': 4285, 'meaningful': 2781, 'ashamed': 312, 'attend': 344, 'devoted': 1231, 'progress': 3425, 'minds': 2852, 'screenwriter': 3833, 'carrie': 697, 'shining': 3933, 'pet': 3246, 'bone': 533, 'details': 1219, 'dr': 1340, 'louis': 2665, 'stretch': 4221, 'headed': 2058, 'spooky': 4128, 'rachel': 3500, 'nightmares': 3015, 'fred': 1825, 'neighbor': 2992, 'sell': 3871, 'possessed': 3347, 'whenever': 4863, 'staged': 4140, 'adapted': 114, 'chicago': 785, 'da': 1094, 'struggling': 4236, 'sitcom': 4004, 'norman': 3035, 'jackson': 2375, 'ralph': 3510, 'carter': 703, 'florida': 1761, 'jimmy': 2403, 'mainly': 2708, 'degree': 1164, 'household': 2179, 'status': 4165, 'fever': 1699, 'afford': 138, 'poverty': 3357, 'solution': 4059, '2006': 36, 'actions': 101, 'asked': 317, 'planned': 3290, 'burning': 627, 'celluloid': 731, 'ingredients': 2289, 'titanic': 4503, 'demands': 1175, 'flop': 1760, 'seven': 3903, 'signs': 3973, 'shape': 3919, 'tooth': 4524, 'luke': 2687, 'wilson': 4891, 'practically': 3362, 'magic': 2703, 'quick': 3490, 'despair': 1207, 'boredom': 542, 'clips': 852, 'colorful': 878, 'halloween': 2010, 'sequels': 3886, 'myers': 2952, 'chicks': 787, 'curtis': 1087, 'winters': 4901, 'mitchell': 2875, 'angle': 236, 'drew': 1360, 'noir': 3023, 'mob': 2879, 'boss': 546, 'gangsters': 1869, 'unhappy': 4656, 'carry': 700, 'excuse': 1564, 'senseless': 3878, 'anthony': 253, 'cameos': 658, 'blatant': 502, 'dude': 1381, 'countless': 1012, 'loosely': 2651, 'asian': 314, 'matrix': 2767, 'guarantee': 1987, 'rap': 3520, 'helicopter': 2076, 'boom': 537, 'kennedy': 2454, 'influenced': 2287, 'friday': 1834, '13th': 5, 'builds': 617, 'marie': 2737, 'smooth': 4041, 'dan': 1102, 'anywhere': 263, 'raise': 3507, 'morning': 2906, 'interaction': 2322, 'catches': 715, 'guard': 1988, 'cook': 988, 'lasted': 2522, 'persona': 3239, 'kitchen': 2485, 'slight': 4027, 'appreciated': 280, 'surprises': 4314, 'educational': 1425, 'pleasant': 3302, 'wondering': 4930, 'combination': 883, 'wind': 4893, 'susan': 4326, '2004': 34, 'disappointment': 1275, 'describe': 1194, 'homage': 2141, 'stealing': 4171, 'stole': 4194, 'clip': 851, 'wizard': 4919, 'pulp': 3465, 'robots': 3718, 'iron': 2354, 'phantom': 3251, 'menace': 2806, 'imagery': 2234, 'masses': 2755, 'justify': 2439, 'installment': 2303, 'elm': 1447, 'destroying': 1215, 'represents': 3639, 'maggie': 2702, 'secrets': 3852, 'memories': 2803, 'huh': 2187, 'sue': 4274, 'immensely': 2243, 'touched': 4534, 'miller': 2846, '1972': 18, 'jeff': 2390, 'impact': 2244, 'agreed': 156, 'jones': 2418, 'draw': 1349, 'purchase': 3469, '1990': 24, 'spider': 4109, 'closing': 859, 'fired': 1735, 'conservative': 948, 'columbo': 881, 'twenty': 4612, 'alright': 198, 'frightening': 1839, 'constructed': 959, 'player': 3298, 'performing': 3233, 'twin': 4615, 'cd': 728, 'mistress': 2874, 'determined': 1221, 'slave': 4022, 'fbi': 1675, 'involvement': 2347, 'assigned': 325, 'investigate': 2342, 'security': 3854, 'danger': 1109, 'packed': 3166, 'matches': 2764, 'unsettling': 4679, 'appealing': 272, 'dollar': 1314, 'passion': 3205, 'oliver': 3102, 'stones': 4198, 'nervous': 2999, 'plausible': 3295, 'lisa': 2616, 'roberts': 3714, 'craig': 1030, 'assault': 324, 'trust': 4598, 'react': 3540, 'reasonable': 3558, 'sleeping': 4025, 'process': 3412, 'angel': 231, 'matters': 2770, 'expensive': 1579, 'hollywoods': 2138, 'uwe': 4703, 'deadly': 1133, 'kidnapped': 2466, 'opinions': 3119, 'allowing': 191, 'producing': 3417, 'taught': 4370, 'ice': 2210, 'soccer': 4048, 'edward': 1426, 'science': 3816, 'experiments': 1584, 'discovers': 1281, 'bottom': 551, 'dragon': 1344, 'vengeance': 4719, 'sword': 4340, 'rob': 3710, 'roy': 3745, 'soap': 4047, 'finger': 1731, 'tomatoes': 4515, 'truck': 4595, 'military': 2844, 'taylor': 4372, 'favorites': 1672, 'philip': 3252, 'dick': 1239, '18': 10, 'sea': 3838, 'junk': 2436, 'capturing': 679, 'sophisticated': 4075, 'lacks': 2505, 'voices': 4763, 'loaded': 2632, 'picking': 3267, 'tall': 4362, 'trio': 4587, 'pink': 3277, 'silver': 3977, 'wins': 4899, 'disappointing': 1274, 'nonsensical': 3031, 'border': 539, 'complicated': 925, 'babe': 375, 'creators': 1044, 'effectively': 1430, 'corner': 996, 'korean': 2495, 'trapped': 4564, '16': 8, 'spoof': 4127, 'property': 3438, 'tag': 4348, 'display': 1291, 'royal': 3746, 'heat': 2067, 'hardy': 2037, 'cage': 645, 'matt': 2768, 'inevitably': 2283, 'gerard': 1895, 'brave': 567, 'proves': 3447, 'promised': 3431, 'stunts': 4246, 'faster': 1662, 'citizen': 824, 'fortune': 1806, 'neo': 2998, 'sinister': 3998, 'flynn': 1765, 'jerry': 2396, '40s': 49, 'detailed': 1218, 'gags': 1862, 'stayed': 4167, 'radio': 3504, 'listening': 2620, 'heck': 2071, 'button': 639, 'ready': 3546, 'till': 4493, 'stomach': 4196, 'financial': 1725, 'resources': 3651, '13': 4, 'dozen': 1338, 'wannabe': 4787, 'bill': 481, 'rogers': 3725, 'overacting': 3149, 'screens': 3832, 'nation': 2969, 'warn': 4797, 'facts': 1624, 'corpse': 999, 'glimpse': 1919, 'exact': 1550, 'failing': 1627, 'overcome': 3151, 'nose': 3037, 'rise': 3702, 'flow': 1762, 'unseen': 4678, 'revealed': 3671, 'jenny': 2393, 'possibilities': 3348, 'beneath': 464, 'bothered': 549, 'swimming': 4338, 'pitch': 3279, 'tense': 4403, 'introduced': 2337, 'grandmother': 1955, 'extreme': 1609, 'females': 1694, 'careful': 688, 'strike': 4224, 'tight': 4492, 'marks': 2742, 'thumbs': 4485, 'lesbian': 2573, 'leader': 2546, 'map': 2733, 'notorious': 3051, 'touches': 4535, 'weeks': 4839, 'pair': 3176, 'manager': 2724, 'currently': 1085, 'worker': 4942, 'anne': 246, 'relationships': 3598, 'translation': 4562, 'darkness': 1117, 'recognized': 3570, 'kicks': 2463, 'deaths': 1142, 'jaw': 2384, 'cash': 709, 'jumps': 2432, 'bus': 631, 'duty': 1390, 'secretary': 3850, 'lights': 2597, 'charge': 761, 'anymore': 258, 'heroine': 2091, 'fat': 1663, 'loads': 2633, 'melodrama': 2797, 'unforgettable': 4652, 'subtitles': 4259, 'dust': 1388, 'juvenile': 2441, 'scrooge': 3837, 'smaller': 4034, 'japan': 2381, 'demons': 1178, 'forms': 1801, 'strangely': 4212, 'dawn': 1127, 'cg': 739, 'visuals': 4759, 'faults': 1669, 'schools': 3814, 'walked': 4776, 'tree': 4576, 'graphic': 1958, 'cube': 1076, 'sidney': 3968, 'discuss': 1283, 'caine': 647, 'sends': 3876, 'lumet': 2688, 'quote': 3496, 'fiction': 1702, 'square': 4136, 'generic': 1885, 'thrillers': 4473, 'foot': 1781, 'library': 2589, 'retarded': 3663, 'annie': 247, 'sullivan': 4288, 'helen': 2075, 'initial': 2290, 'bell': 458, 'severe': 3906, 'covers': 1024, 'argument': 291, 'teach': 4374, 'lemmon': 2567, 'raised': 3508, 'nonsense': 3030, 'businessman': 634, 'engaged': 1480, 'handsome': 2021, 'guilt': 1994, 'seemingly': 3863, 'basement': 405, 'someones': 4065, 'training': 4558, 'introduces': 2338, 'bible': 477, 'jesus': 2399, 'reads': 3545, 'witnessed': 4915, 'aid': 160, 'stereotypical': 4180, 'threatening': 4468, 'carrying': 701, 'miles': 2843, 'polished': 3323, 'grab': 1949, 'pie': 3271, 'wandering': 4785, 'mildly': 2840, 'legendary': 2565, 'bottle': 550, 'theyll': 4444, 'destiny': 1212, 'birth': 486, 'persons': 3244, 'relation': 3595, 'beach': 419, 'piano': 3264, 'nurse': 3063, 'rough': 3741, 'staying': 4168, 'exceptional': 1558, 'pseudo': 3454, 'germany': 1898, 'joseph': 2419, 'rocket': 3721, 'attached': 336, 'ted': 4386, 'ninja': 3018, 'brutally': 604, 'samurai': 3779, 'bodies': 526, 'sum': 4289, 'sounded': 4082, 'johnson': 2411, 'ann': 244, 'silence': 3974, 'user': 4696, 'introduce': 2336, 'laurel': 2537, 'slapstick': 4019, 'profound': 3423, 'rocky': 3723, 'abraham': 69, 'explore': 1594, 'resident': 3647, 'enjoyment': 1488, 'authentic': 358, 'arrive': 300, 'round': 3742, 'torn': 4528, 'contact': 961, 'blond': 510, 'represented': 3638, 'greek': 1970, 'benefit': 465, 'jump': 2429, 'tradition': 4549, 'obscure': 3068, 'undoubtedly': 4648, 'spectacular': 4101, 'distant': 1295, 'frustrated': 1842, 'wells': 4845, 'invisible': 2344, 'lab': 2501, 'combined': 885, 'pool': 3327, 'dickens': 1240, 'mile': 2842, 'teenage': 4389, 'crude': 1069, 'lord': 2652, 'battles': 415, 'specifically': 4100, 'jaws': 2385, 'advance': 127, 'bullets': 621, 'horse': 2170, 'sons': 4073, 'unknown': 4668, 'le': 2544, 'chilling': 794, 'andy': 230, 'tour': 4538, 'descent': 1193, 'smoke': 4039, 'hide': 2097, 'broke': 593, 'sudden': 4272, 'britain': 588, 'pot': 3354, 'youth': 4994, 'sexuality': 3909, 'countryside': 1015, 'nancy': 2964, 'virtually': 4751, 'expression': 1602, 'sexually': 3910, 'depressed': 1187, 'childrens': 793, 'ties': 4490, 'treatment': 4574, 'receives': 3565, 'domestic': 1318, 'racial': 3501, 'chinese': 796, 'method': 2824, 'ford': 1789, 'affected': 137, 'pride': 3391, '25': 40, '2002': 32, 'ludicrous': 2685, 'fx': 1858, 'boll': 529, 'fix': 1744, 'warmth': 4796, 'fabulous': 1615, 'hunt': 2198, 'increasingly': 2268, 'laughed': 2532, 'offensive': 3086, 'exceptionally': 1559, 'ought': 3138, 'howard': 2182, 'remotely': 3623, 'extended': 1604, 'werent': 4849, 'hed': 2072, 'wake': 4774, 'unintentionally': 4659, 'approach': 282, 'landscape': 2513, 'worthless': 4954, 'relate': 3593, 'chases': 771, 'duke': 1383, 'johnny': 2410, 'cousin': 1021, 'bo': 521, 'carol': 693, 'enthusiasm': 1501, 'tiny': 4500, 'classics': 837, 'walken': 4777, 'rip': 3700, 'mysteries': 2954, 'cell': 730, 'mate': 2765, 'comical': 894, 'chair': 742, 'lou': 2663, 'diamond': 1236, 'tracy': 4546, 'hints': 2113, 'satan': 3787, 'rotten': 3740, 'ridiculously': 3694, 'adequate': 120, 'rebel': 3561, '2007': 37, 'documentaries': 1306, 'rooms': 3736, 'irrelevant': 2358, 'witnesses': 4916, 'engage': 1479, 'delivering': 1171, 'obnoxious': 3067, 'tonight': 4519, 'landing': 2512, 'barbara': 397, 'karen': 2444, 'seek': 3858, 'virginia': 4750, 'junior': 2435, 'surfing': 4311, 'gender': 1878, 'praise': 3364, 'noble': 3021, 'kicked': 2461, 'crack': 1027, 'hall': 2009, 'mario': 2738, 'advertising': 132, 'dig': 1250, 'ruth': 3763, 'roman': 3731, 'shake': 3914, 'mann': 2728, 'westerns': 4854, 'ensemble': 1492, 'strip': 4228, 'punishment': 3467, 'hatred': 2049, 'cooper': 990, 'definite': 1161, 'embarrassment': 1455, 'service': 3896, 'host': 2173, 'groups': 1981, 'rape': 3521, 'awe': 370, 'commercials': 903, 'wound': 4960, 'harder': 2035, 'convincingly': 986, 'woody': 4936, 'miserably': 2864, 'plant': 3293, 'smoking': 4040, 'wore': 4939, 'italian': 2367, 'vincent': 4746, 'earned': 1401, 'fame': 1642, '1968': 16, 'achievement': 94, 'edgar': 1417, 'alan': 171, 'souls': 4080, 'eerie': 1427, 'terror': 4412, 'atmospheric': 334, 'bathroom': 412, 'synopsis': 4344, '14': 6, 'rights': 3697, 'purple': 3473, 'connect': 944, 'intent': 2318, 'sounding': 4083, 'tame': 4363, 'horrendous': 2162, '3000': 43, 'moronic': 2907, 'worn': 4948, 'musicals': 2948, 'floating': 1758, 'hideous': 2098, 'belongs': 460, '1980s': 21, 'adam': 111, 'adams': 112, 'alcohol': 176, 'solve': 4060, 'lake': 2509, 'gripping': 1976, 'rubber': 3747, 'specific': 4099, 'jumping': 2431, 'describes': 1196, 'blank': 501, 'prepared': 3371, 'current': 1084, '1933': 12, 'burton': 630, 'giallo': 1904, 'blade': 495, 'shall': 3916, 'bull': 619, 'opposed': 3122, 'defeat': 1157, 'witch': 4909, 'topic': 4526, 'cannibal': 669, 'defend': 1158, 'pig': 3274, 'experiment': 1583, 'regard': 3588, 'downright': 1337, 'propaganda': 3435, 'offended': 3085, 'hitler': 2124, 'workers': 4943, 'existed': 1570, 'atlantis': 332, 'creator': 1043, 'blunt': 520, 'saves': 3796, 'swim': 4337, 'turning': 4608, 'ear': 1397, 'shark': 3921, 'throws': 4482, 'dislike': 1288, 'unbearable': 4633, 'sing': 3992, 'virgin': 4749, 'ethan': 1528, 'disappeared': 1271, 'executive': 1567, 'treated': 4573, 'endings': 1472, 'motives': 2916, 'hills': 2109, 'technically': 4382, 'andrews': 229, 'code': 869, 'suspects': 4328, 'fathers': 1667, 'reputation': 3640, 'gangster': 1868, 'tommy': 4516, 'ken': 2453, 'stevens': 4183, 'issue': 2364, 'explanation': 1590, 'troubled': 4593, 'engaging': 1481, 'womens': 4924, 'survivors': 4325, 'wood': 4933, 'ed': 1415, 'coach': 868, 'rat': 3525, 'campy': 664, 'ignore': 2224, 'lone': 2642, 'adventures': 131, 'nelson': 2997, 'cuba': 1075, 'performed': 3230, '45': 50, 'productions': 3420, 'offering': 3089, 'stooges': 4200, 'abilities': 64, 'contrary': 974, 'riding': 3695, 'raising': 3509, 'bleak': 503, 'lit': 2621, 'complexity': 924, 'drink': 1361, 'easier': 1405, 'fictional': 1703, 'sinatra': 3989, 'notably': 3042, 'performers': 3232, 'dancers': 1105, 'betty': 474, 'mel': 2796, 'repeat': 3630, 'attempted': 341, 'subsequent': 4257, 'models': 2881, 'wow': 4962, 'ellen': 1446, 'harris': 2038, 'eyed': 1612, 'corporate': 998, 'closet': 858, 'barry': 401, 'reasonably': 3559, 'travels': 4569, 'gundam': 1997, 'individuals': 2278, 'population': 3335, 'focuses': 1768, 'alfred': 181, 'secretly': 3851, 'pilot': 3276, 'armed': 293, 'unlikely': 4671, 'sink': 3999, 'ballet': 389, 'farce': 1654, 'cultural': 1078, 'amanda': 205, 'assistant': 326, 'doll': 1313, 'capital': 673, 'eddie': 1416, 'murphy': 2944, 'glory': 1922, 'arguably': 289, 'dignity': 1252, 'celebrity': 729, 'millions': 2848, 'annoyed': 248, 'cinematographer': 819, 'suited': 4286, 'improve': 2254, 'buffs': 612, 'passes': 3203, 'bette': 471, 'exploration': 1593, 'exaggerated': 1552, 'stale': 4141, 'todd': 4510, 'admittedly': 123, 'wrap': 4963, 'twins': 4616, 'warned': 4798, 'omen': 3104, 'rats': 3531, 'doors': 1329, 'mini': 2854, 'losing': 2658, 'cabin': 643, 'simmons': 3981, 'aids': 161, 'believed': 455, 'morris': 2908, 'sleazy': 4023, 'trap': 4563, 'singers': 3994, 'gory': 1943, 'weve': 4856, 'teaching': 4377, 'university': 4667, 'iran': 2350, 'muslim': 2949, 'heston': 2094, 'mass': 2753, 'apes': 267, 'civil': 826, 'species': 4098, 'colonel': 876, 'sixties': 4011, 'substance': 4258, 'formulaic': 1803, 'simplistic': 3985, 'miscast': 2862, 'interpretation': 2328, 'complaint': 920, 'falk': 1636, 'appreciation': 281, 'restored': 3659, '2003': 33, 'factory': 1623, 'quit': 3494, 'relatives': 3601, 'honor': 2150, 'accomplished': 87, 'photographed': 3258, '30s': 44, '80': 58, 'rendition': 3625, 'ward': 4793, 'et': 1526, 'gay': 1876, 'accepted': 82, 'wounded': 4961, 'prisoners': 3403, 'discussion': 1284, 'forbidden': 1785, 'paris': 3189, 'championship': 745, 'football': 1783, 'intrigue': 2333, 'access': 83, 'scheme': 3812, 'striking': 4226, '70': 55, 'nazis': 2978, 'daddy': 1096, 'combat': 882, 'shell': 3927, 'feminist': 1695, 'happiness': 2031, 'technique': 4383, 'trilogy': 4586, 'tends': 4402, '2000': 30, 'scares': 3806, 'beliefs': 452, 'intimate': 2331, 'dvds': 1392, 'concern': 931, 'trek': 4578, 'hat': 2045, 'seasons': 3844, 'meat': 2787, 'ps': 3453, 'macy': 2695, 'twisted': 4618, 'operation': 3117, 'crucial': 1068, 'lol': 2640, 'showcase': 3954, 'jewish': 2401, 'dreary': 1356, 'row': 3744, 'walks': 4780, 'challenging': 744, 'splendid': 4119, 'st': 4137, 'abusive': 75, 'logical': 2639, 'sits': 4006, 'circle': 821, 'mickey': 2831, 'lane': 2515, 'couples': 1017, 'ruins': 3752, 'max': 2774, 'darker': 1116, 'pages': 3168, 'pretending': 3382, 'basketball': 409, 'sports': 4130, 'masterpieces': 2760, 'jake': 2377, 'understandable': 4644, 'desperation': 1210, 'scientist': 3818, 'itll': 2369, 'proceeds': 3411, 'stood': 4199, 'keaton': 2448, 'humble': 2191, 'pat': 3208, 'stanley': 4148, 'rose': 3739, 'drags': 1345, 'scores': 3823, 'eyre': 1614, 'timothy': 4499, 'dalton': 1098, 'rochester': 3719, 'reed': 3580, 'julia': 2427, 'deceased': 1146, 'jonathan': 2417, 'national': 2970, 'pops': 3332, 'goodness': 1938, 'craven': 1034, 'ya': 4976, 'alternate': 200, 'spring': 4134, 'flight': 1757, 'jeffrey': 2391, 'luck': 2681, 'opportunities': 3120, 'lena': 2568, 'dynamic': 1394, 'losers': 2656, 'prom': 3429, 'dances': 1106, 'survived': 4322, 'prevent': 3385, 'reaching': 3539, 'drives': 1367, 'properly': 3437, 'designs': 1204, 'discovery': 1282, 'warren': 4801, 'parker': 3191, 'catchy': 717, 'shorts': 3948, 'clown': 862, '75': 57, 'bourne': 554, 'jay': 2386, 'bucks': 606, 'confidence': 938, 'proof': 3434, '1990s': 25, 'demand': 1174, 'astaire': 330, 'ginger': 1908, 'gray': 1963, 'oddly': 3081, 'importance': 2246, 'sid': 3964, 'larger': 2519, 'museum': 2945, 'colors': 879, 'lincoln': 2608, 'chasing': 772, 'listed': 2618, 'identity': 2217, 'funnier': 1850, 'disease': 1285, 'mindless': 2851, 'sandra': 3782, 'hospital': 2172, 'cliff': 847, 'stiff': 4187, 'sticks': 4186, 'hype': 2207, 'depicts': 1186, 'murderous': 2942, 'campbell': 663, 'steel': 4173, 'consists': 955, 'command': 897, 'lugosi': 2686, '35': 45, 'storm': 4206, 'resulting': 3661, 'relies': 3606, 'tap': 4364, 'earl': 1398, 'movements': 2924, 'incompetent': 2266, 'insulting': 2310, 'load': 2631, 'matched': 2763, 'butler': 637, 'rushed': 3760, 'comparing': 913, '1980': 20, 'nominated': 3025, 'leo': 2571, 'iii': 2227, 'strangers': 4214, 'welcome': 4842, 'dolph': 1317, 'cheated': 775, 'concerns': 934, 'account': 89, 'widmark': 4882, 'navy': 2976, 'plague': 3285, 'chased': 770, 'associated': 327, 'stretched': 4222, 'expressed': 1601, 'wanna': 4786, 'airplane': 166, 'implausible': 2245, '3d': 46, 'imitation': 2241, 'unpredictable': 4675, 'doubts': 1333, 'response': 3654, 'mtv': 2933, 'cameron': 661, 'bargain': 400, 'bin': 483, 'complain': 919, 'cliche': 843, 'slightest': 4028, 'stiller': 4189, 'pamela': 3179, 'chuck': 812, 'fare': 1655, 'hank': 2024, 'hoffman': 2128, 'vampires': 4712, 'warrior': 4802, 'valuable': 4708, 'weapon': 4828, 'lucy': 2684, 'psychic': 3456, 'returning': 3667, 'niro': 3019, 'dave': 1123, 'dracula': 1341, 'vivid': 4760, 'carradine': 695, 'split': 4120, 'guide': 1993, 'julie': 2428, 'der': 1191, 'tarzan': 4367, 'ramones': 3512, 'punk': 3468, 'waited': 4771, 'relations': 3596, 'richardson': 3688, 'raymond': 3534, 'neighbors': 2994, 'liking': 2604, 'slap': 4018, 'rambo': 3511, 'pushing': 3479, 'pal': 3177, 'tons': 4520, 'shirley': 3936, 'illegal': 2229, 'generations': 1884, 'trail': 4553, 'powell': 3358, 'bold': 528, 'germans': 1897, 'activities': 102, 'bat': 410, 'reel': 3581, 'physically': 3263, 'dawson': 1128, 'ease': 1404, 'thru': 4483, 'rain': 3506, 'mentioning': 2812, 'wealthy': 4827, 'banned': 395, 'education': 1424, 'mentions': 2813, 'oil': 3097, 'convoluted': 987, 'blues': 519, 'incomprehensible': 2267, 'september': 3884, 'illness': 2230, 'catherine': 719, 'push': 3477, 'thousand': 4465, 'scarecrow': 3804, 'props': 3439, 'dozens': 1339, 'equipment': 1511, 'ticket': 4487, 'types': 4622, 'india': 2273, 'scientific': 3817, 'brand': 565, 'airport': 167, 'brenda': 575, 'paltrow': 3178, 'kay': 2447, 'brady': 561, 'precious': 3366, 'improvement': 2256, 'titled': 4505, 'bridge': 578, 'nick': 3012, 'string': 4227, 'aired': 165, 'intentionally': 2320, 'valley': 4707, 'psychiatrist': 3455, 'stylish': 4251, 'bumbling': 622, 'overlooked': 3154, 'unit': 4663, 'nazi': 2977, 'spirits': 4115, 'robbery': 3711, 'emily': 1456, 'catching': 716, 'fury': 1855, 'prostitute': 3440, 'elvis': 1451, 'accused': 91, 'sandler': 3781, 'neil': 2995, 'priceless': 3390, 'investigation': 2343, 'portion': 3338, 'performer': 3231, 'gentle': 1890, 'dressing': 1359, 'charlotte': 766, 'shines': 3932, 'cagney': 646, 'ruby': 3749, 'assumed': 329, 'tie': 4488, 'damon': 1101, 'domino': 1319, 'paulie': 3215, 'flies': 1756, 'principal': 3398, 'husbands': 2205, 'sloppy': 4030, 'lips': 2615, 'performs': 3234, 'smiling': 4037, 'kubrick': 2496, 'richards': 3687, 'bettie': 473, 'lovable': 2668, 'blob': 507, 'bollywood': 530, 'akshay': 169, 'amitabh': 216, 'likewise': 2603, 'miracle': 2860, 'fetched': 1698, 'rural': 3758, 'wallace': 4782, 'kirk': 2482, 'hitchcock': 2123, 'lately': 2524, 'moody': 2899, 'brooks': 596, 'wayne': 4821, 'grinch': 1975, 'adorable': 124, 'lawrence': 2539, 'bath': 411, 'aint': 163, 'midnight': 2834, 'honesty': 2148, 'credible': 1048, 'abysmal': 76, 'yelling': 4980, 'melting': 2799, 'deaf': 1134, 'overwhelming': 3157, 'dub': 1378, 'ego': 1435, 'china': 795, 'gabriel': 1859, 'kane': 2442, 'manipulative': 2727, 'cole': 873, 'spell': 4104, 'communist': 907, 'painted': 3174, 'homeless': 2143, 'lay': 2542, 'centered': 733, 'wholly': 4874, 'americas': 215, 'connected': 945, 'diane': 1238, 'passing': 3204, 'streep': 4215, 'gain': 1863, 'blake': 498, 'andrew': 228, 'tiresome': 4502, 'tiger': 4491, 'nomination': 3026, 'homer': 2144, 'lily': 2605, 'fonda': 1777, 'spike': 4111, 'frankenstein': 1822, 'trademark': 4548, 'vacation': 4704, 'poetry': 3314, 'dentist': 1180, 'gandhi': 1866, 'shortly': 3947, 'survivor': 4324, '1983': 22, 'decades': 1145, 'poem': 3312, 'karloff': 2445, 'dolls': 1316, 'ashley': 313, 'dear': 1140, 'stanwyck': 4149, 'madonna': 2699, 'trashy': 4566, 'horses': 2171, 'photos': 3261, 'enterprise': 1495, 'olivier': 3103, 'narrator': 2967, 'butt': 638, 'settle': 3902, 'empire': 1464, 'perry': 3237, 'gadget': 1860, 'peters': 3248, 'cardboard': 682, 'fed': 1682, 'pokemon': 3320, 'invasion': 2340, 'respected': 3653, 'blah': 496, 'cared': 685, 'hal': 2006, 'borrowed': 545, 'cruise': 1071, 'phony': 3256, 'derek': 1192, 'angela': 232, 'bergman': 466, 'hamilton': 2012, 'chorus': 803, 'secondly': 3847, 'viewings': 4741, 'minimum': 2856, 'popularity': 3334, 'fisher': 1739, 'boxing': 556, 'creep': 1051, 'ape': 266, 'official': 3094, 'spain': 4091, 'lengthy': 2570, 'fulci': 1845, 'garbo': 1871, 'contest': 967, 'chess': 783, 'argue': 290, 'wisdom': 4902, 'laughably': 2531, 'ridden': 3691, 'nicholas': 3010, 'resort': 3650, 'bacall': 377, 'seeks': 3860, 'waters': 4817, 'classes': 834, 'homosexual': 2145, 'mildred': 2841, 'kapoor': 2443, 'khan': 2459, 'crocodile': 1065, 'godzilla': 1929, 'marketing': 2741, 'christians': 809, 'march': 2734, 'staff': 4138, 'parties': 3196, 'wendy': 4846, 'snl': 4044, 'sellers': 3872, 'remarks': 3615, 'garden': 1872, 'ironically': 2356, 'seagal': 3839, 'elvira': 1450, 'seed': 3856, 'mechanical': 2788, 'modesty': 2883, 'miike': 2837, 'bakshi': 386, 'advanced': 128, 'fay': 1674, 'holly': 2136, 'polanski': 3321}\n"
     ]
    }
   ],
   "source": [
    "print(str(vocabulary))"
   ]
  },
  {
   "cell_type": "markdown",
   "metadata": {},
   "source": [
    "Once you have added the endpoint name to the Lambda function, click on **Save**. Your Lambda function is now up and running. Next we need to create a way for our web app to execute the Lambda function."
   ]
  },
  {
   "cell_type": "markdown",
   "metadata": {},
   "source": [
    "### Setting up API Gateway\n",
    "\n",
    "Now that our Lambda function is set up, it is time to create a new API using API Gateway that will trigger the Lambda function we have just created.\n",
    "\n",
    "Using AWS Console, navigate to **Amazon API Gateway** and then click on **Get started**.\n",
    "\n",
    "On the next page, make sure that **New API** is selected and give the new api a name, for example, `sentiment_analysis_web_app`. Then, click on **Create API**.\n",
    "\n",
    "Now we have created an API, however it doesn't currently do anything. What we want it to do is to trigger the Lambda function that we created earlier.\n",
    "\n",
    "Select the **Actions** dropdown menu and click **Create Method**. A new blank method will be created, select its dropdown menu and select **POST**, then click on the check mark beside it.\n",
    "\n",
    "For the integration point, make sure that **Lambda Function** is selected and click on the **Use Lambda Proxy integration**. This option makes sure that the data that is sent to the API is then sent directly to the Lambda function with no processing. It also means that the return value must be a proper response object as it will also not be processed by API Gateway.\n",
    "\n",
    "Type the name of the Lambda function you created earlier into the **Lambda Function** text entry box and then click on **Save**. Click on **OK** in the pop-up box that then appears, giving permission to API Gateway to invoke the Lambda function you created.\n",
    "\n",
    "The last step in creating the API Gateway is to select the **Actions** dropdown and click on **Deploy API**. You will need to create a new Deployment stage and name it anything you like, for example `prod`.\n",
    "\n",
    "You have now successfully set up a public API to access your SageMaker model. Make sure to copy or write down the URL provided to invoke your newly created public API as this will be needed in the next step. This URL can be found at the top of the page, highlighted in blue next to the text **Invoke URL**."
   ]
  },
  {
   "cell_type": "markdown",
   "metadata": {},
   "source": [
    "## Step 7: Deploying our web app\n",
    "\n",
    "Now that we have a publicly available API, we can start using it in a web app. For our purposes, we have provided a simple static html file which can make use of the public api you created earlier.\n",
    "\n",
    "In the `website` folder there should be a file called `index.html`. Download the file to your computer and open that file up in a text editor of your choice. There should be a line which contains **\\*\\*REPLACE WITH PUBLIC API URL\\*\\***. Replace this string with the url that you wrote down in the last step and then save the file.\n",
    "\n",
    "Now, if you open `index.html` on your local computer, your browser will behave as a local web server and you can use the provided site to interact with your SageMaker model.\n",
    "\n",
    "If you'd like to go further, you can host this html file anywhere you'd like, for example using github or hosting a static site on Amazon's S3. Once you have done this you can share the link with anyone you'd like and have them play with it too!\n",
    "\n",
    "> **Important Note** In order for the web app to communicate with the SageMaker endpoint, the endpoint has to actually be deployed and running. This means that you are paying for it. Make sure that the endpoint is running when you want to use the web app but that you shut it down when you don't need it, otherwise you will end up with a surprisingly large AWS bill."
   ]
  },
  {
   "cell_type": "markdown",
   "metadata": {},
   "source": [
    "### Delete the endpoint\n",
    "\n",
    "Remember to always shut down your endpoint if you are no longer using it. You are charged for the length of time that the endpoint is running so if you forget and leave it on you could end up with an unexpectedly large bill."
   ]
  },
  {
   "cell_type": "code",
   "execution_count": null,
   "metadata": {},
   "outputs": [],
   "source": [
    "xgb_predictor.delete_endpoint()"
   ]
  },
  {
   "cell_type": "markdown",
   "metadata": {},
   "source": [
    "## Optional: Clean up\n",
    "\n",
    "The default notebook instance on SageMaker doesn't have a lot of excess disk space available. As you continue to complete and execute notebooks you will eventually fill up this disk space, leading to errors which can be difficult to diagnose. Once you are completely finished using a notebook it is a good idea to remove the files that you created along the way. Of course, you can do this from the terminal or from the notebook hub if you would like. The cell below contains some commands to clean up the created files from within the notebook."
   ]
  },
  {
   "cell_type": "code",
   "execution_count": null,
   "metadata": {},
   "outputs": [],
   "source": [
    "# First we will remove all of the files contained in the data_dir directory\n",
    "!rm $data_dir/*\n",
    "\n",
    "# And then we delete the directory itself\n",
    "!rmdir $data_dir\n",
    "\n",
    "# Similarly we remove the files in the cache_dir directory and the directory itself\n",
    "!rm $cache_dir/*\n",
    "!rmdir $cache_dir"
   ]
  },
  {
   "cell_type": "code",
   "execution_count": null,
   "metadata": {},
   "outputs": [],
   "source": []
  }
 ],
 "metadata": {
  "kernelspec": {
   "display_name": "conda_pytorch_p36",
   "language": "python",
   "name": "conda_pytorch_p36"
  },
  "language_info": {
   "codemirror_mode": {
    "name": "ipython",
    "version": 3
   },
   "file_extension": ".py",
   "mimetype": "text/x-python",
   "name": "python",
   "nbconvert_exporter": "python",
   "pygments_lexer": "ipython3",
   "version": "3.6.10"
  }
 },
 "nbformat": 4,
 "nbformat_minor": 2
}
